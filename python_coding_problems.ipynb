{
 "cells": [
  {
   "cell_type": "markdown",
   "id": "dfa40560",
   "metadata": {},
   "source": [
    "Certainly! Here are a few Python coding problems that are mathematically based:\n"
   ]
  },
  {
   "cell_type": "code",
   "execution_count": 25,
   "id": "94c19cd1",
   "metadata": {},
   "outputs": [
    {
     "name": "stdout",
     "output_type": "stream",
     "text": [
      "[0, 1, 1, 2, 3, 5, 8, 13, 21, 34, 55, 89, 144, 233, 377]\n"
     ]
    }
   ],
   "source": [
    "# Problem: Fibonacci Sequence\n",
    "# Write a Python function to generate the Fibonacci sequence up to a specified number of terms.\n",
    "\n",
    "# The Fibonacci Sequence is the series of numbers: 0, 1, 1, 2, 3, 5, 8, 13, 21, 34, ...\n",
    "# Example: the next number in the sequence above is 21+34 = 55\n",
    "\n",
    "\n",
    "def fibonacci_sequence(n):\n",
    "    sequence = [0, 1]  # Initialize with the first two terms\n",
    "    while len(sequence) < n:\n",
    "        next_term = sequence[-1] + sequence[-2]  # Generate the next term       # index \"-1\" point to last item of the list\n",
    "        sequence.append(next_term)\n",
    "    return sequence\n",
    "\n",
    "# Test the function\n",
    "num_terms = 15\n",
    "fib_sequence = fibonacci_sequence(num_terms)\n",
    "print(fib_sequence)\n",
    "\n"
   ]
  },
  {
   "cell_type": "code",
   "execution_count": 17,
   "id": "7f4c5bee",
   "metadata": {},
   "outputs": [
    {
     "name": "stdout",
     "output_type": "stream",
     "text": [
      "[2, 2, 3, 7]\n"
     ]
    }
   ],
   "source": [
    "# Problem: Prime Factorization\n",
    "# Write a Python function to find the prime factors of a given number.\n",
    "\n",
    "# Example of Division Method for Prime Factorization:\n",
    "\n",
    "# Below is a detailed step-by-step process of prime factorization by taking 460 as an example.\n",
    "\n",
    "# Step 1: Divide 460 by the least prime number i.e. 2.\n",
    "#           So, 460 ÷ 2 = 230\n",
    "\n",
    "# Step 2: Again Divide 230 with the least prime number (which is again 2).\n",
    "#           Now, 160 ÷ 2 = 115\n",
    "\n",
    "# Step 3: Divide again with the least prime number which will be 5.\n",
    "#           So, 115 ÷ 5 = 23\n",
    "\n",
    "# Step 4: As 23 is a prime number, divide it with itself to get 1.\n",
    "#           Now, the prime factors of 460 will be 22 x 5 x 23\n",
    "\n",
    "def prime_factors(n):\n",
    "    factors = []                                   # empty list \n",
    "    divisor = 2\n",
    "    while divisor <= n:                            # loop that continues until the divisor is greater than n.\n",
    "        if n % divisor == 0:                       # it checks if n is divisible evenly by the current divisor. \n",
    "            factors.append(divisor)                # If it is, then divisor is a prime factor of n.It appends to the factors list.\n",
    "            n = n // divisor\n",
    "        else:\n",
    "            divisor += 1\n",
    "    return factors\n",
    "\n",
    "# Test the function\n",
    "number = 84\n",
    "factors = prime_factors(number)\n",
    "print(factors)\n",
    "\n",
    "   "
   ]
  },
  {
   "cell_type": "code",
   "execution_count": 20,
   "id": "9ac87f11",
   "metadata": {},
   "outputs": [
    {
     "name": "stdout",
     "output_type": "stream",
     "text": [
      "[2, 2, 3, 7]\n"
     ]
    }
   ],
   "source": [
    "# without function\n",
    "divisor = 2\n",
    "n= 84\n",
    "factors = []\n",
    "while divisor <= n: \n",
    "    if n % divisor == 0:                       # it checks if n is divisible evenly by the current divisor. \n",
    "        factors.append(divisor)                # If it is, then divisor is a prime factor of n.It appends to the factors list.\n",
    "        n = n // divisor\n",
    "    else:\n",
    "        divisor += 1                           #If n is not divisible by divisor, the divisor is incremented by 1 .\n",
    "\n",
    "print(factors)"
   ]
  },
  {
   "cell_type": "code",
   "execution_count": 34,
   "id": "233fcdf8",
   "metadata": {},
   "outputs": [
    {
     "name": "stdout",
     "output_type": "stream",
     "text": [
      "12\n"
     ]
    }
   ],
   "source": [
    "# Problem: Greatest Common Divisor (GCD)\n",
    "# Write a Python function to find the greatest common divisor (GCD) of two numbers using Euclid's algorithm.\n",
    "\n",
    "# Suppose, 4, 8 and 16 are three numbers. Then the factors of 4, 8 and 16 are:\n",
    "\n",
    "# 4 → 1,2,4\n",
    "\n",
    "# 8 → 1,2,4,8\n",
    "\n",
    "# 16 → 1,2,4,8,16\n",
    "\n",
    "# Therefore, we can conclude that 4 is the highest common factor among all three numbers.\n",
    "\n",
    "\n",
    "\n",
    "# using the Euclidean algorithm.\n",
    "\n",
    "def gcd(a, b):\n",
    "    while b != 0:\n",
    "        temp = b          # a = 36 ,b =24       # a =24 b =12    \n",
    "        b = a % b         # b = 12 remainder    # b = 0  12/24= remainder 0 \n",
    "        a = temp          # a = 24 b = 12       # a = 12, b = 0\n",
    "    return a\n",
    "\n",
    "\n",
    "# Test the function\n",
    "num1 = 24\n",
    "num2 = 36\n",
    "result = gcd(num1, num2)\n",
    "print(result)\n",
    "\n",
    "\n",
    "# Mathematically, we can represent this process as follows:\n",
    "\n",
    "#     GCD(24, 36) = GCD(36, 24) -> Taking the remainder 24 from dividing 36 by 24.\n",
    "#     GCD(36, 24) = GCD(24, 12) -> Taking the remainder 12 from dividing 24 by 12.\n",
    "#     GCD(24, 12) = GCD(12, 0) -> Taking the remainder 0 from dividing 12 by 0.\n",
    "#     Since the remainder is 0, we have reached the end of the process.\n",
    "#     Therefore, GCD(24, 36) = 12.\n",
    " \n",
    "# The GCD of 24 and 36 is the final non-zero remainder obtained in the previous step, which is 12 using the Euclidean algorithm.\n"
   ]
  },
  {
   "cell_type": "code",
   "execution_count": 4,
   "id": "558fd94e",
   "metadata": {},
   "outputs": [
    {
     "name": "stdout",
     "output_type": "stream",
     "text": [
      "36\n"
     ]
    }
   ],
   "source": [
    "# Problem: LCM of Two Numbers\n",
    "# Write a Python function to find the least common multiple (LCM) of two numbers using the GCD.\n",
    "\n",
    "def gcd(a, b):\n",
    "    while b != 0:\n",
    "        temp = b          # a = 12 ,b =18       # a =18 b =12                 # a = 12 , b = 6\n",
    "        b = a % b         # b = 12 remainder    # b = 6  18/12= remainder 6   # b = 0 \n",
    "        a = temp          # a = 18 b = 12       # a = 12, b = 6               # a = 6 \n",
    "    return a\n",
    "\n",
    "\n",
    "def lcm(a, b):\n",
    "    gcd_val = gcd(a, b)  # Assuming the GCD function is already defined\n",
    "    lcm_val = (a * b) // gcd_val\n",
    "    return lcm_val\n",
    "\n",
    "# Test the function\n",
    "num1 = 12\n",
    "num2 = 18\n",
    "result = lcm(num1, num2)\n",
    "print(result)\n",
    "\n",
    "# Mathematically, we can represent this calculation as follows:\n",
    "\n",
    "# LCM(12, 18) = (12 * 18) / GCD(12, 18) \n",
    "# (216) / 6 = 36\n"
   ]
  },
  {
   "cell_type": "code",
   "execution_count": 19,
   "id": "5b341646",
   "metadata": {},
   "outputs": [
    {
     "name": "stdout",
     "output_type": "stream",
     "text": [
      "120\n"
     ]
    }
   ],
   "source": [
    "# Problem: Factorial Calculation\n",
    "# Write a Python function to calculate the factorial of a given number using recursion.\n",
    "\n",
    "def factorial(n):\n",
    "    if n == 0 or n == 1:              # recursively until n becomes 0 or 1, \n",
    "        return 1\n",
    "    else:\n",
    "        return n * factorial(n - 1)   # recursive call factorial(n - 1) calculates the factorial of n - 1.\n",
    "\n",
    "# Test the function\n",
    "number = 5\n",
    "result = factorial(number)\n",
    "print(result)\n",
    "\n",
    "\n",
    "# the factorial of 5 is calculated as follows:\n",
    "    \n",
    "# 5! = 5 * 4 * 3 * 2 * 1 = 120\n",
    "\n",
    "# Hence, the factorial of 5 is 120."
   ]
  },
  {
   "cell_type": "code",
   "execution_count": 6,
   "id": "50fe056a",
   "metadata": {},
   "outputs": [
    {
     "name": "stdout",
     "output_type": "stream",
     "text": [
      "15\n"
     ]
    }
   ],
   "source": [
    "# Problem: Sum of Digits\n",
    "# Write a Python function to calculate the sum of the digits of a given number.\n",
    "\n",
    "\n",
    "def sum_of_digits(n):\n",
    "    sum_val = 0\n",
    "    while n > 0:\n",
    "        digit = n % 10            # n % 10 point to decimal\n",
    "        sum_val += digit\n",
    "        n = n // 10               # floor division\n",
    "    return sum_val\n",
    "\n",
    "# Test the function\n",
    "number = 12345\n",
    "result = sum_of_digits(number)\n",
    "print(result)\n"
   ]
  },
  {
   "cell_type": "code",
   "execution_count": 26,
   "id": "bbf2970b",
   "metadata": {},
   "outputs": [
    {
     "name": "stdout",
     "output_type": "stream",
     "text": [
      "32\n"
     ]
    }
   ],
   "source": [
    "# Problem: Power Calculation\n",
    "# Write a Python function to calculate the power of a given base raised to a specified exponent.\n",
    "\n",
    "\n",
    "def power(base, exponent):\n",
    "    result = 1\n",
    "    for _ in range(exponent):\n",
    "        result *= base\n",
    "    return result\n",
    "\n",
    "# Test the function\n",
    "base = 2\n",
    "exponent = 5\n",
    "result = power(base, exponent)\n",
    "print(result)\n",
    "\n",
    "\n",
    "# let's calculate 2 raised to the power of 5:\n",
    "\n",
    "#     The function starts with base = 2, exponent = 5, and result = 1.\n",
    "#     In the first iteration of the loop, result is multiplied by base, resulting in result = 2.\n",
    "#     In the second iteration, result is again multiplied by base, resulting in result = 4.\n",
    "#     This process continues until the loop completes all 5 iterations.\n",
    "#     After the fifth iteration, result is multiplied by base one final time, resulting in result = 32.\n",
    "#     The loop is completed, and the function returns result, which is 32.\n",
    "\n",
    "# Therefore, 2 raised to the power of 5 is equal to 32."
   ]
  },
  {
   "cell_type": "code",
   "execution_count": 8,
   "id": "8bd8841e",
   "metadata": {},
   "outputs": [
    {
     "name": "stdout",
     "output_type": "stream",
     "text": [
      "True\n"
     ]
    }
   ],
   "source": [
    "# Problem: Prime Number Verification\n",
    "# Write a Python function to verify if a given number is prime.\n",
    "\n",
    "def is_prime(n):\n",
    "    if n < 2:\n",
    "        return False\n",
    "    for i in range(2, int(n ** 0.5) + 1):\n",
    "        if n % i == 0:\n",
    "            return False\n",
    "    return True\n",
    "\n",
    "# Test the function\n",
    "number = 17\n",
    "result = is_prime(number)\n",
    "print(result)\n",
    "\n",
    "# In this example, the function checks if 17 is a prime number:\n",
    "\n",
    "#     The function starts with n = 17.\n",
    "#     Since 17 is not less than 2, it proceeds to the loop.\n",
    "#     The loop iterates from 2 to the square root of 17, which is approximately 4.12.\n",
    "#     In the first iteration, it checks if 17 is divisible by 2. Since it is not (17 % 2 != 0), it continues to the next iteration.\n",
    "#     In the second iteration, it checks if 17 is divisible by 3. Again, it is not (17 % 3 != 0).\n",
    "#     In the third iteration, it checks if 17 is divisible by 4. As before, it is not (17 % 4 != 0).\n",
    "#     The loop completes all iterations without finding any divisors of 17.\n",
    "#     Therefore, the function concludes that 17 is a prime number and returns True.\n",
    "#     The value of result is True, which is then printed.\n",
    "\n",
    "# Hence, the function correctly identifies 17 as a prime number."
   ]
  },
  {
   "cell_type": "code",
   "execution_count": 38,
   "id": "06937225",
   "metadata": {},
   "outputs": [
    {
     "name": "stdout",
     "output_type": "stream",
     "text": [
      "10\n"
     ]
    }
   ],
   "source": [
    "# Problem: Fibonacci Sum\n",
    "# Write a Python function to calculate the sum of the even-valued terms in the Fibonacci sequence up to a specified limit.\n",
    "\n",
    "\n",
    "def fibonacci_sum(limit):\n",
    "    sequence = [0, 1]\n",
    "    sum_val = 0\n",
    "    while sequence[-1] < limit:\n",
    "        next_term = sequence[-1] + sequence[-2]\n",
    "        sequence.append(next_term)\n",
    "        if next_term % 2 == 0:\n",
    "            sum_val += next_term\n",
    "    return sum_val\n",
    "\n",
    "# Test the function\n",
    "limit = 10\n",
    "result = fibonacci_sum(limit)\n",
    "print(result)\n",
    "\n",
    "# These coding # Problems involve mathematical calculations and concepts. \n",
    "# Ensure that you understand the underlying mathematical principles and how they are translated into Python code. \n",
    "# Feel free to modify or extend the code to suit your requirements.\n",
    "\n",
    "\n"
   ]
  },
  {
   "cell_type": "code",
   "execution_count": 10,
   "id": "838dac4b",
   "metadata": {},
   "outputs": [
    {
     "name": "stdout",
     "output_type": "stream",
     "text": [
      "True\n"
     ]
    }
   ],
   "source": [
    "# Problem: Palindrome Number\n",
    "# Write a Python function to determine if a given number is a palindrome.\n",
    "\n",
    "\n",
    "\n",
    "def is_palindrome(num):\n",
    "    num_str = str(num)\n",
    "    return num_str == num_str[::-1]\n",
    "\n",
    "# Test the function\n",
    "number = 12321\n",
    "result = is_palindrome(number)\n",
    "print(result)\n"
   ]
  },
  {
   "cell_type": "code",
   "execution_count": 11,
   "id": "7c44d481",
   "metadata": {},
   "outputs": [
    {
     "name": "stdout",
     "output_type": "stream",
     "text": [
      "True\n"
     ]
    }
   ],
   "source": [
    "# Problem: Armstrong Number\n",
    "# Write a Python function to check if a given number is an Armstrong number.\n",
    "\n",
    "\n",
    "def is_armstrong(num):\n",
    "    num_str = str(num)\n",
    "    num_digits = len(num_str)\n",
    "    sum_val = sum([int(digit) ** num_digits for digit in num_str])\n",
    "    return num == sum_val\n",
    "\n",
    "# Test the function\n",
    "number = 153\n",
    "result = is_armstrong(number)\n",
    "print(result)\n",
    "\n",
    "   "
   ]
  },
  {
   "cell_type": "code",
   "execution_count": 12,
   "id": "5e75195e",
   "metadata": {},
   "outputs": [
    {
     "name": "stdout",
     "output_type": "stream",
     "text": [
      "1010\n"
     ]
    }
   ],
   "source": [
    "# Problem: Decimal to Binary Conversion\n",
    "# Write a Python function to convert a decimal number to its binary representation.\n",
    "\n",
    "\n",
    "\n",
    "def decimal_to_binary(num):\n",
    "    binary_str = bin(num)[2:]  # Remove the '0b' prefix\n",
    "    return binary_str\n",
    "\n",
    "# Test the function\n",
    "number = 10\n",
    "result = decimal_to_binary(number)\n",
    "print(result)\n"
   ]
  },
  {
   "cell_type": "code",
   "execution_count": 13,
   "id": "831e505e",
   "metadata": {},
   "outputs": [
    {
     "name": "stdout",
     "output_type": "stream",
     "text": [
      "10\n"
     ]
    }
   ],
   "source": [
    "# Problem: Binary to Decimal Conversion\n",
    "# Write a Python function to convert a binary number to its decimal representation.\n",
    "\n",
    "\n",
    "def binary_to_decimal(binary):\n",
    "    decimal = int(binary, 2)\n",
    "    return decimal\n",
    "\n",
    "# Test the function\n",
    "binary_number = \"1010\"\n",
    "result = binary_to_decimal(binary_number)\n",
    "print(result)\n",
    "\n",
    "    "
   ]
  },
  {
   "cell_type": "code",
   "execution_count": 14,
   "id": "dc63e4be",
   "metadata": {},
   "outputs": [
    {
     "name": "stdout",
     "output_type": "stream",
     "text": [
      "True\n"
     ]
    }
   ],
   "source": [
    "# Problem: Perfect Number\n",
    "# Write a Python function to check if a given number is a perfect number.\n",
    "\n",
    "\n",
    "\n",
    "def is_perfect(num):\n",
    "    divisors = [i for i in range(1, num) if num % i == 0]\n",
    "    return sum(divisors) == num\n",
    "\n",
    "# Test the function\n",
    "number = 28\n",
    "result = is_perfect(number)\n",
    "print(result)\n",
    "\n",
    "\n"
   ]
  },
  {
   "cell_type": "code",
   "execution_count": 15,
   "id": "211a4efd",
   "metadata": {},
   "outputs": [
    {
     "name": "stdout",
     "output_type": "stream",
     "text": [
      "[2, 3, 5, 7, 11, 13, 17, 19, 23, 29, 31, 37, 41, 43, 47]\n"
     ]
    }
   ],
   "source": [
    "# Problem: Prime Number Generation\n",
    "# Write a Python function to generate a list of prime numbers up to a specified limit.\n",
    "\n",
    "def generate_primes(limit):\n",
    "    primes = []\n",
    "    for num in range(2, limit+1):\n",
    "        is_prime = True\n",
    "        for i in range(2, int(num**0.5) + 1):\n",
    "            if num % i == 0:\n",
    "                is_prime = False\n",
    "                break\n",
    "        if is_prime:\n",
    "            primes.append(num)\n",
    "    return primes\n",
    "\n",
    "# Test the function\n",
    "limit = 50\n",
    "result = generate_primes(limit)\n",
    "print(result)\n",
    "\n",
    "    "
   ]
  },
  {
   "cell_type": "code",
   "execution_count": 16,
   "id": "1c8fdaa1",
   "metadata": {},
   "outputs": [
    {
     "name": "stdout",
     "output_type": "stream",
     "text": [
      "[1]\n",
      "[1, 1]\n",
      "[1, 2, 1]\n",
      "[1, 3, 3, 1]\n",
      "[1, 4, 6, 4, 1]\n"
     ]
    }
   ],
   "source": [
    "# Problem: Pascal's Triangle\n",
    "# Write a Python function to generate Pascal's Triangle up to a specified number of rows.\n",
    "\n",
    "\n",
    "def generate_pascals_triangle(num_rows):\n",
    "    triangle = []\n",
    "    for i in range(num_rows):\n",
    "        row = [1] * (i+1)\n",
    "        for j in range(1, i):\n",
    "            row[j] = triangle[i-1][j-1] + triangle[i-1][j]\n",
    "        triangle.append(row)\n",
    "    return triangle\n",
    "\n",
    "# Test the function\n",
    "num_rows = 5\n",
    "result = generate_pascals_triangle(num_rows)\n",
    "for row in result:\n",
    "    print(row)\n"
   ]
  },
  {
   "cell_type": "code",
   "execution_count": 17,
   "id": "948ec70c",
   "metadata": {},
   "outputs": [
    {
     "name": "stdout",
     "output_type": "stream",
     "text": [
      "[6, 3, 10, 5, 16, 8, 4, 2, 1]\n"
     ]
    }
   ],
   "source": [
    "# Problem: Collatz Conjecture\n",
    "# Write a Python function to test the Collatz Conjecture for a given positive integer.\n",
    "\n",
    "\n",
    "def collatz_conjecture(num):\n",
    "    sequence = [num]\n",
    "    while num != 1:\n",
    "        if num % 2 == 0:\n",
    "            num = num // 2\n",
    "        else:\n",
    "            num = 3 * num + 1\n",
    "        sequence.append(num)\n",
    "    return sequence\n",
    "\n",
    "# Test the function\n",
    "number = 6\n",
    "result = collatz_conjecture(number)\n",
    "print(result)\n"
   ]
  },
  {
   "cell_type": "code",
   "execution_count": 18,
   "id": "9f128346",
   "metadata": {},
   "outputs": [
    {
     "name": "stdout",
     "output_type": "stream",
     "text": [
      "12\n"
     ]
    }
   ],
   "source": [
    "# Problem: Greatest Common Divisor (GCD) of a List\n",
    "# Write a Python function to find the greatest common divisor (GCD) of a list of numbers.\n",
    "\n",
    "\n",
    "def gcd_list(numbers):\n",
    "    gcd_val = numbers[0]\n",
    "    for num in numbers[1:]:\n",
    "        while num != 0:\n",
    "            temp = num\n",
    "            num = gcd_val % num\n",
    "            gcd_val = temp\n",
    "    return gcd_val\n",
    "\n",
    "# Test the function\n",
    "number_list = [24, 36, 48, 60]\n",
    "result = gcd_list(number_list)\n",
    "print(result)\n",
    "\n",
    "   "
   ]
  },
  {
   "cell_type": "code",
   "execution_count": 19,
   "id": "25e354dd",
   "metadata": {},
   "outputs": [
    {
     "name": "stdout",
     "output_type": "stream",
     "text": [
      "[153, 370, 371, 407]\n"
     ]
    }
   ],
   "source": [
    "# Problem: Armstrong Numbers in a Range\n",
    "# Write a Python function to find all Armstrong numbers within a given range.\n",
    "\n",
    "\n",
    "def find_armstrong_numbers(start, end):\n",
    "    armstrong_numbers = []\n",
    "    for num in range(start, end+1):\n",
    "        num_str = str(num)\n",
    "        num_digits = len(num_str)\n",
    "        sum_val = sum([int(digit) ** num_digits for digit in num_str])\n",
    "        if num == sum_val:\n",
    "            armstrong_numbers.append(num)\n",
    "    return armstrong_numbers\n",
    "\n",
    "# Test the function\n",
    "start_num = 100\n",
    "end_num = 1000\n",
    "result = find_armstrong_numbers(start_num, end_num)\n",
    "print(result)\n",
    "\n",
    "\n",
    "\n",
    "  "
   ]
  },
  {
   "cell_type": "code",
   "execution_count": 20,
   "id": "770dd029",
   "metadata": {},
   "outputs": [
    {
     "name": "stdout",
     "output_type": "stream",
     "text": [
      "[2, 3, 5, 7, 11, 13, 17, 19, 23, 29, 31, 37, 41, 43, 47]\n"
     ]
    }
   ],
   "source": [
    "# Problem: Sieve of Eratosthenes\n",
    "# Write a Python function to generate all prime numbers up to a specified limit using the Sieve of Eratosthenes algorithm.\n",
    "\n",
    "\n",
    "def sieve_of_eratosthenes(limit):\n",
    "    primes = [True] * (limit+1)\n",
    "    primes[0] = primes[1] = False\n",
    "    p = 2\n",
    "    while p * p <= limit:\n",
    "        if primes[p]:\n",
    "            for i in range(p * p, limit+1, p):\n",
    "                primes[i] = False\n",
    "        p += 1\n",
    "    prime_numbers = [num for num, is_prime in enumerate(primes) if is_prime]\n",
    "    return prime_numbers\n",
    "\n",
    "# Test the function\n",
    "limit = 50\n",
    "result = sieve_of_eratosthenes(limit)\n",
    "print(result)\n",
    "\n",
    "    "
   ]
  },
  {
   "cell_type": "code",
   "execution_count": 21,
   "id": "e30e8761",
   "metadata": {},
   "outputs": [
    {
     "name": "stdout",
     "output_type": "stream",
     "text": [
      "97\n"
     ]
    }
   ],
   "source": [
    "# Problem: Collatz Sequence Length\n",
    "    # Write a Python function to find the starting number below a given limit that produces the longest Collatz sequence.\n",
    "\n",
    "\n",
    "def longest_collatz_sequence(limit):\n",
    "    max_length = 0\n",
    "    starting_number = 0\n",
    "    for num in range(limit, 1, -1):\n",
    "        sequence_length = 1\n",
    "        current_num = num\n",
    "        while current_num != 1:\n",
    "            if current_num % 2 == 0:\n",
    "                current_num //= 2\n",
    "            else:\n",
    "                current_num = 3 * current_num + 1\n",
    "            sequence_length += 1\n",
    "        if sequence_length > max_length:\n",
    "            max_length = sequence_length\n",
    "            starting_number = num\n",
    "    return starting_number\n",
    "\n",
    "# Test the function\n",
    "limit = 100\n",
    "result = longest_collatz_sequence(limit)\n",
    "print(result)\n",
    "\n",
    "  "
   ]
  },
  {
   "cell_type": "code",
   "execution_count": 22,
   "id": "26a72014",
   "metadata": {},
   "outputs": [
    {
     "name": "stdout",
     "output_type": "stream",
     "text": [
      "True\n"
     ]
    }
   ],
   "source": [
    "# Problem: Happy Numbers\n",
    "# Write a Python function to determine if a given number is a happy number. A happy number is defined by the following process: \n",
    "# 1. Starting with any positive integer, replace the number by the sum of the squares of its digits. \n",
    "# 2. Repeat the process until the number equals 1, or it loops endlessly in a cycle which does not include 1.\n",
    "\n",
    "\n",
    "def is_happy_number(num):\n",
    "    visited = set()\n",
    "    while num != 1 and num not in visited:\n",
    "        visited.add(num)\n",
    "        num = sum(int(digit) ** 2 for digit in str(num))\n",
    "    return num == 1\n",
    "\n",
    "# Test the function\n",
    "number = 19\n",
    "result = is_happy_number(number)\n",
    "print(result)\n",
    "\n",
    "   "
   ]
  },
  {
   "cell_type": "code",
   "execution_count": 23,
   "id": "98393176",
   "metadata": {},
   "outputs": [
    {
     "name": "stdout",
     "output_type": "stream",
     "text": [
      "CCCLXV\n"
     ]
    }
   ],
   "source": [
    "# Problem: Decimal to Roman Numerals Conversion\n",
    "# Write a Python function to convert a decimal number to its Roman numeral representation.\n",
    "\n",
    "\n",
    "def decimal_to_roman(num):\n",
    "    roman_numerals = {\n",
    "        1000: 'M',\n",
    "        900: 'CM',\n",
    "        500: 'D',\n",
    "        400: 'CD',\n",
    "        100: 'C',\n",
    "        90: 'XC',\n",
    "        50: 'L',\n",
    "        40: 'XL',\n",
    "        10: 'X',\n",
    "        9: 'IX',\n",
    "        5: 'V',\n",
    "        4: 'IV',\n",
    "        1: 'I'\n",
    "    }\n",
    "    roman_numeral = ''\n",
    "    for value, symbol in roman_numerals.items():\n",
    "        while num >= value:\n",
    "            roman_numeral += symbol\n",
    "            num -= value\n",
    "    return roman_numeral\n",
    "\n",
    "# Test the function\n",
    "number = 365\n",
    "result = decimal_to_roman(number)\n",
    "print(result)\n",
    "\n"
   ]
  },
  {
   "cell_type": "markdown",
   "id": "eca1002e",
   "metadata": {},
   "source": [
    "### These Problems involve mathematical concepts and algorithms. Make sure to understand the underlying mathematical principles and how they are implemented in the Python code. Feel free to modify the code or adapt it to fit your specific needs.\n"
   ]
  },
  {
   "cell_type": "code",
   "execution_count": null,
   "id": "3e409bbf",
   "metadata": {},
   "outputs": [],
   "source": []
  },
  {
   "cell_type": "code",
   "execution_count": null,
   "id": "d6795e74",
   "metadata": {},
   "outputs": [],
   "source": []
  }
 ],
 "metadata": {
  "kernelspec": {
   "display_name": "Python 3 (ipykernel)",
   "language": "python",
   "name": "python3"
  },
  "language_info": {
   "codemirror_mode": {
    "name": "ipython",
    "version": 3
   },
   "file_extension": ".py",
   "mimetype": "text/x-python",
   "name": "python",
   "nbconvert_exporter": "python",
   "pygments_lexer": "ipython3",
   "version": "3.8.13"
  }
 },
 "nbformat": 4,
 "nbformat_minor": 5
}
