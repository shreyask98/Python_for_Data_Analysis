{
 "cells": [
  {
   "cell_type": "markdown",
   "metadata": {},
   "source": [
    "# Python Take-home Exercise"
   ]
  },
  {
   "cell_type": "markdown",
   "metadata": {},
   "source": [
    "### 1. Write a program using list comprehension to find primes in range 2 to 100"
   ]
  },
  {
   "cell_type": "code",
   "execution_count": 1,
   "metadata": {},
   "outputs": [
    {
     "name": "stdout",
     "output_type": "stream",
     "text": [
      "[2, 3, 5, 7, 11, 13, 17, 19, 23, 29, 31, 37, 41, 43, 47, 53, 59, 61, 67, 71, 73, 79, 83, 89, 97]\n"
     ]
    }
   ],
   "source": [
    "consonants = [j for i in range(2, 8) for j in range(i*2, 100, i)] \n",
    "# to extract prime numbers from 2 to 100\n",
    "primes = [x for x in range(2, 100) if x not in consonants] \n",
    "print (primes)"
   ]
  },
  {
   "cell_type": "markdown",
   "metadata": {},
   "source": [
    "### 2. Write a function to reverse a string"
   ]
  },
  {
   "cell_type": "markdown",
   "metadata": {},
   "source": [
    "**String = 'Data Science'**"
   ]
  },
  {
   "cell_type": "code",
   "execution_count": 2,
   "metadata": {},
   "outputs": [
    {
     "name": "stdout",
     "output_type": "stream",
     "text": [
      "ecneicS ataD\n"
     ]
    }
   ],
   "source": [
    "def reverse(string):\n",
    "    # set the empty string\n",
    "    rs=''\n",
    "    for i in string:\n",
    "        rs = i+rs\n",
    "    print(rs)\n",
    "    \n",
    "# call the function\n",
    "string = 'Data Science'\n",
    "reverse(string)"
   ]
  },
  {
   "cell_type": "markdown",
   "metadata": {},
   "source": [
    "### 3. Write a program to extract the words from the given list which have their first character in uppercase"
   ]
  },
  {
   "cell_type": "markdown",
   "metadata": {},
   "source": [
    "**Days = ['Monday', 'tuesday','friday', 'Sunday', 'Saturday']**\n",
    "\n",
    "**Output: ['Monday', 'Sunday', 'Saturday']**"
   ]
  },
  {
   "cell_type": "code",
   "execution_count": 3,
   "metadata": {},
   "outputs": [
    {
     "name": "stdout",
     "output_type": "stream",
     "text": [
      "['Monday', 'Sunday', 'Saturday']\n"
     ]
    }
   ],
   "source": [
    "Days =  ['Monday', 'tuesday','friday', 'Sunday', 'Saturday']\n",
    "Outputlist = []\n",
    "for name in Days:      # Iterating through the namesList\n",
    "    namevar = name.split()  # split() function splits the string on a space ' '.\n",
    "    for i in range(len(namevar)):    # Iterating the list namevar \n",
    "        if namevar[i][0].isupper():  # Checking whether the First Character of the word i<b>Days = ['Monday', 'tuesday','friday', 'Sunday', 'Saturday']</b><br>\n",
    "            Outputlist.append(namevar[i])  # If the first character is uppercase, then append that word in the Outputlist\n",
    "        \n",
    "print(Outputlist)"
   ]
  },
  {
   "cell_type": "markdown",
   "metadata": {},
   "source": [
    "### 4. Write a program to extract the year part from the dates in the given list"
   ]
  },
  {
   "cell_type": "markdown",
   "metadata": {},
   "source": [
    "**Batch = ['15-06-1997','15-06-2011','15-06-1993','15-06-2020']**\n",
    "\n",
    "**Output: ['1997','2011','1993','2020']**"
   ]
  },
  {
   "cell_type": "code",
   "execution_count": 4,
   "metadata": {},
   "outputs": [
    {
     "name": "stdout",
     "output_type": "stream",
     "text": [
      "['1997', '2011', '1993', '2020']\n"
     ]
    }
   ],
   "source": [
    "Batch = ['15-06-1997','15-06-2011','15-06-1993','15-06-2020']\n",
    "year = []                # An empty list for appending the output\n",
    "for date in Batch:   # Iterating each element from datesList\n",
    "    year.append(date.split('-')[2])   # split('-') will split the element in a list w.r.t '-'. Then appending the 3rd element from the splitter list.\n",
    "    \n",
    "print(year)              # Printing the output"
   ]
  },
  {
   "cell_type": "markdown",
   "metadata": {},
   "source": [
    "### 5. Write a program swap the keys to values and values to keys of the given dictionary"
   ]
  },
  {
   "cell_type": "markdown",
   "metadata": {},
   "source": [
    "**Module = {'Data Science':1,'Machine Learning':2, 'SQL':3, 'Big Data':4}**\n",
    "\n",
    "**Output: {1:'Data Science',2:'Machine Learning', 3:'SQL', 4:'Big Data'}**\n"
   ]
  },
  {
   "cell_type": "code",
   "execution_count": 5,
   "metadata": {},
   "outputs": [
    {
     "name": "stdout",
     "output_type": "stream",
     "text": [
      "{1: 'Data Science', 2: 'Machine Learning', 3: 'SQL', 4: 'Big Data'}\n"
     ]
    }
   ],
   "source": [
    "Module = {'Data Science':1,'Machine Learning':2, 'SQL':3, 'Big Data':4}\n",
    "new_dict = dict([(value, key) for key, value in Module.items()])   # Module.items() returns items present in the dictionary\n",
    "print(new_dict)"
   ]
  },
  {
   "cell_type": "markdown",
   "metadata": {},
   "source": [
    "### 6. Wrote a program to calculate the cumulative average of the given list using accumulate() and lambda function"
   ]
  },
  {
   "cell_type": "markdown",
   "metadata": {},
   "source": [
    "**Input list: [5,2,1,4,6]**"
   ]
  },
  {
   "cell_type": "code",
   "execution_count": 6,
   "metadata": {},
   "outputs": [
    {
     "name": "stdout",
     "output_type": "stream",
     "text": [
      "5\n",
      "3.5\n",
      "2.25\n",
      "3.125\n",
      "4.5625\n"
     ]
    }
   ],
   "source": [
    "from itertools import accumulate\n",
    "result = accumulate([5,2,1,4,6], lambda x, y: (x + y) / 2)      # Passing the list and the lambda function to find the average\n",
    "\n",
    "for res in result:              # Iterating through the result to see the each step\n",
    "    print(res)"
   ]
  },
  {
   "cell_type": "markdown",
   "metadata": {},
   "source": [
    "### 7. Write a program to count the number of elements in the string (given by the user) that are not present in the 'my_string'. Do not count the white spaces\n",
    "\n",
    "Use Recursion"
   ]
  },
  {
   "cell_type": "markdown",
   "metadata": {},
   "source": [
    "**my_string = 'Data Science'**"
   ]
  },
  {
   "cell_type": "code",
   "execution_count": 26,
   "metadata": {},
   "outputs": [
    {
     "name": "stdout",
     "output_type": "stream",
     "text": [
      "Enter a string: Shreyas\n"
     ]
    },
    {
     "data": {
      "text/plain": [
       "5"
      ]
     },
     "execution_count": 26,
     "metadata": {},
     "output_type": "execute_result"
    }
   ],
   "source": [
    "glstring = 'Data Science'                     # Given string\n",
    "strUser = input('Enter a string: ')    # String from user\n",
    "\n",
    "def reccFilterFunc(str_inp):\n",
    "    if str_inp == '':                  # Ignoring white spaces\n",
    "        return 0\n",
    "    if str_inp[0].lower() not in glstring and str_inp[0].isalpha():    # Converting string characters to lowercase and checking if that character is not in glstring.\n",
    "        return 1 + reccFilterFunc(str_inp[1:])                         # Adding 1 to the output of reccFilterFunc. Here taking the parameter as the string starting from index 1\n",
    "    else:\n",
    "        return reccFilterFunc(str_inp[1:])                             # If the character is in glstring, then call recursion function without incrementing\n",
    "    \n",
    "reccFilterFunc(strUser)                                                # Returns the count of the characters that are not present in the glstring"
   ]
  },
  {
   "cell_type": "markdown",
   "metadata": {},
   "source": [
    "### 8.  Define a function to check whether a number is in a range (1000,10000) or not"
   ]
  },
  {
   "cell_type": "code",
   "execution_count": 27,
   "metadata": {},
   "outputs": [
    {
     "name": "stdout",
     "output_type": "stream",
     "text": [
      " The number is in the given range\n"
     ]
    }
   ],
   "source": [
    "def check_range(n):\n",
    "    if n in range(10000, 100000):\n",
    "        print( \" The number is in the given range\")\n",
    "    else :\n",
    "        print(\"The number is outside the given range.\")\n",
    "\n",
    "# call the function\n",
    "check_range(23591)"
   ]
  },
  {
   "cell_type": "markdown",
   "metadata": {},
   "source": [
    "### 9. Write a program to print pascal triangle upto 6 steps (using list)"
   ]
  },
  {
   "cell_type": "code",
   "execution_count": 28,
   "metadata": {},
   "outputs": [
    {
     "name": "stdout",
     "output_type": "stream",
     "text": [
      "[1]\n",
      "[1, 1]\n",
      "[1, 2, 1]\n",
      "[1, 3, 3, 1]\n",
      "[1, 4, 6, 4, 1]\n",
      "[1, 5, 10, 10, 5, 1]\n"
     ]
    }
   ],
   "source": [
    "# pascal triangle upto 6 steps\n",
    "\n",
    "list=[1]\n",
    "for i in range(6):\n",
    "    print(list)\n",
    "    newlist=[]\n",
    "    newlist.append(list[0])\n",
    "    for i in range(len(list)-1):\n",
    "        newlist.append(list[i]+list[i+1])\n",
    "    newlist.append(list[-1])\n",
    "    list=newlist"
   ]
  },
  {
   "cell_type": "markdown",
   "metadata": {},
   "source": [
    "### 10. Write a program to calculate the sum of all elements in the list"
   ]
  },
  {
   "cell_type": "markdown",
   "metadata": {},
   "source": [
    "**test_score = [10, 32, 23, 14, 25]**"
   ]
  },
  {
   "cell_type": "code",
   "execution_count": 29,
   "metadata": {},
   "outputs": [
    {
     "name": "stdout",
     "output_type": "stream",
     "text": [
      "Sum = 79\n"
     ]
    }
   ],
   "source": [
    "test_score = [10, 32, 23, 14, 25]\n",
    "\n",
    "# initially set the sum to 0\n",
    "sum=0\n",
    "for i in range(len(test_score)-1):\n",
    "       sum = sum + test_score[i]\n",
    "print('Sum =',sum)"
   ]
  },
  {
   "cell_type": "markdown",
   "metadata": {},
   "source": [
    "### 11. Find the minimum value along each of the rows"
   ]
  },
  {
   "cell_type": "markdown",
   "metadata": {},
   "source": [
    "Create a 2D Numpy array from list of lists<br>\n",
    "\n",
    "Score = np.array([[210, 402, 383],<br>\n",
    "                 [140, 375, 106], <br>\n",
    "                 [140, 125, 217], <br>\n",
    "                 [292, 240, 295]])"
   ]
  },
  {
   "cell_type": "code",
   "execution_count": 30,
   "metadata": {},
   "outputs": [
    {
     "name": "stdout",
     "output_type": "stream",
     "text": [
      "min value of every row:  [210 106 125 240]\n"
     ]
    }
   ],
   "source": [
    "# import numpy\n",
    "import numpy as np\n",
    "\n",
    "Score = np.array([[210, 402, 383],\n",
    "[140, 375, 106],\n",
    "[140, 125, 217],\n",
    "[292, 240, 295]])\n",
    "\n",
    "# np.amin(): return the minimum of the array\n",
    "# axis=1: it stands for row in np.amin()\n",
    "min_value = np.amin(Score, axis=1)\n",
    "\n",
    "# print the result                    \n",
    "print('min value of every row: ', min_value)"
   ]
  },
  {
   "cell_type": "markdown",
   "metadata": {},
   "source": [
    "### 12.  Replace all even numbers in the array with -1"
   ]
  },
  {
   "cell_type": "markdown",
   "metadata": {},
   "source": [
    "Use the array given below\n",
    "\n",
    "    num_array = np.array([0, 21, 32, 13, 44, 45, 26, 28, 38, 34, 65, 48, 76])"
   ]
  },
  {
   "cell_type": "code",
   "execution_count": 31,
   "metadata": {},
   "outputs": [
    {
     "data": {
      "text/plain": [
       "array([-1, 21, -1, 13, -1, 45, -1, -1, -1, -1, 65, -1, -1])"
      ]
     },
     "execution_count": 31,
     "metadata": {},
     "output_type": "execute_result"
    }
   ],
   "source": [
    "num_array = np.array([0, 21, 32, 13, 44, 45, 26, 28, 38, 34, 65, 48, 76])\n",
    "\n",
    "# use condition 'arr % 2 == 0' to replace all odd numbers\n",
    "num_array[num_array % 2 == 0] = -1\n",
    "\n",
    "# print the result\n",
    "num_array"
   ]
  },
  {
   "cell_type": "markdown",
   "metadata": {},
   "source": [
    "### 13. Create a pandas series having values 4, 8, -1, 2, NAN and their index as d, b, a, c, e"
   ]
  },
  {
   "cell_type": "code",
   "execution_count": 32,
   "metadata": {},
   "outputs": [
    {
     "name": "stdout",
     "output_type": "stream",
     "text": [
      "d    4.0\n",
      "b    8.0\n",
      "a   -1.0\n",
      "c    2.0\n",
      "e    NaN\n",
      "dtype: float64\n"
     ]
    }
   ],
   "source": [
    "# import pandas\n",
    "import pandas as pd\n",
    "\n",
    "# creating a new series\n",
    "my_series = pd.Series([4, 8, -1, 2, np.nan], index=['d', 'b', 'a', 'c',\"e\"])\n",
    "\n",
    "# printing the newly created series\n",
    "print(my_series)"
   ]
  },
  {
   "cell_type": "markdown",
   "metadata": {},
   "source": [
    "### 14. Add a new column 'Height' in the give dataframe"
   ]
  },
  {
   "cell_type": "markdown",
   "metadata": {},
   "source": [
    "<table>\n",
    "  <tr>\n",
    "  <th>Name </th>\n",
    "  <th>Weight</th>\n",
    "  </tr>\n",
    "  <tr>\n",
    "  <td>Mia</td>\n",
    "  <td>55</td>    \n",
    "  </tr>\n",
    "  <tr>\n",
    "  <td>Joy</td>\n",
    "  <td>66</td> \n",
    "  </tr>\n",
    "  <tr>\n",
    "  <td>Karan</td>\n",
    "  <td>80</td> \n",
    "  </tr>\n",
    "  <tr>\n",
    "  <td>George</td>\n",
    "  <td>67</td> \n",
    "</tr>\n",
    "</table>\n",
    "  "
   ]
  },
  {
   "cell_type": "markdown",
   "metadata": {},
   "source": [
    "New Column:\n",
    "<table>\n",
    "  <tr>\n",
    "  <th>Height</th>   \n",
    "  </tr>\n",
    "  <tr>\n",
    "  <td>5.5</td>\n",
    "  </tr>\n",
    "  <tr>\n",
    "  <td>6.7</td>\n",
    "  </tr>\n",
    "  <tr>\n",
    "  <td>5.8</td>\n",
    "  </tr>\n",
    "  <tr>\n",
    "  <td>6</td>\n",
    "</tr>\n",
    "</table>"
   ]
  },
  {
   "cell_type": "code",
   "execution_count": 33,
   "metadata": {},
   "outputs": [
    {
     "name": "stdout",
     "output_type": "stream",
     "text": [
      "     Name  Weight\n",
      "0     Mia      55\n",
      "1     Joy      66\n",
      "2   Karan      80\n",
      "3  George      67\n"
     ]
    }
   ],
   "source": [
    "# Creating a dictionary\n",
    "student_dict = {\n",
    "       \"Name\":[\"Mia\",\"Joy\",\"Karan\",\"George\"],  \n",
    "       \"Weight\":[55, 66, 80, 67]\n",
    "}\n",
    "\n",
    "# converting the dictionary into a dataframe\n",
    "df_student = pd.DataFrame(student_dict)\n",
    "\n",
    "# printing the dataframe\n",
    "print(df_student)"
   ]
  },
  {
   "cell_type": "code",
   "execution_count": 34,
   "metadata": {},
   "outputs": [
    {
     "name": "stdout",
     "output_type": "stream",
     "text": [
      "     Name  Weight  Height\n",
      "0     Mia      55     5.5\n",
      "1     Joy      66     6.7\n",
      "2   Karan      80     5.8\n",
      "3  George      67     6.0\n"
     ]
    }
   ],
   "source": [
    "# add a new column 'Height'\n",
    "# if a list is assigned to a column, then its elements become the values of that column\n",
    "df_student['Height'] = [5.5, 6.7, 5.8, 6]\n",
    "\n",
    "# printing the dataframe\n",
    "print(df_student)"
   ]
  },
  {
   "cell_type": "markdown",
   "metadata": {},
   "source": [
    "### 15. Use the data created in question 14, to do the following:\n",
    "Access column 'Name' by specifying the column number<br>\n",
    "Access column 'Height' by specifying the column name"
   ]
  },
  {
   "cell_type": "code",
   "execution_count": 35,
   "metadata": {},
   "outputs": [
    {
     "data": {
      "text/plain": [
       "0       Mia\n",
       "1       Joy\n",
       "2     Karan\n",
       "3    George\n",
       "Name: Name, dtype: object"
      ]
     },
     "execution_count": 35,
     "metadata": {},
     "output_type": "execute_result"
    }
   ],
   "source": [
    "# 1. Access column 'Name' by specifying the column number.\n",
    "\n",
    "# iloc() works on index positions. Here we are accessing the column with index position 0 i.e. column 'Name'\n",
    "df_student.iloc[:,0]"
   ]
  },
  {
   "cell_type": "code",
   "execution_count": 36,
   "metadata": {},
   "outputs": [
    {
     "data": {
      "text/plain": [
       "0    5.5\n",
       "1    6.7\n",
       "2    5.8\n",
       "3    6.0\n",
       "Name: Height, dtype: float64"
      ]
     },
     "execution_count": 36,
     "metadata": {},
     "output_type": "execute_result"
    }
   ],
   "source": [
    "# 2. Access column 'Height' by specifying the column name.\n",
    "\n",
    "# accessing a column by directly calling it\n",
    "df_student.Height                \n",
    "# OR\n",
    "# accessing a column by passing the column names inside the square brackets\n",
    "df_student[\"Height\"]\n",
    "\n",
    "# Use any one command"
   ]
  },
  {
   "cell_type": "markdown",
   "metadata": {},
   "source": [
    "### 16. Find duplicate rows based on the column 'Order_ID'"
   ]
  },
  {
   "cell_type": "markdown",
   "metadata": {},
   "source": [
    "**Use the dataframe given below:**\n",
    "   \n",
    "<table>\n",
    "<tr>\n",
    "<th>Order_ID</th>\n",
    "<th>Product</th>\n",
    "<th>City</th>\n",
    "</tr>\n",
    "<tr>\n",
    "<td>YZ1100</td>\n",
    "<td>Cell Phone</td>\n",
    "<td>Sydeny</td>\n",
    "</tr>\n",
    "<tr>\n",
    "<td>RW1200</td>\n",
    "<td>Watch</td>\n",
    "<td>Chicago</td>\n",
    "</tr>\n",
    "<tr>\n",
    "<td>YZ1100</td>\n",
    "<td>Cell Phone</td>\n",
    "<td>New York</td>\n",
    "</tr>\n",
    "<tr>\n",
    "<td>TY1400</td>\n",
    "<td>Charger</td>\n",
    "<td>Chicago</td>\n",
    "</tr>\n",
    "<tr>\n",
    "<td>VB1500</td>\n",
    "<td>Watch</td>\n",
    "<td>Chicago</td>\n",
    "</tr>\n",
    "<tr>\n",
    "<td>TY1400</td>\n",
    "<td>Headphones</td>\n",
    "<td>Texas</td>\n",
    "</tr>\n",
    "<tr>\n",
    "<td>MW1600</td>\n",
    "<td>Charger</td>\n",
    "<td>New York</td>\n",
    "</tr>\n",
    "<tr>\n",
    "<td>CN1600</td>\n",
    "<td>Headphones</td>\n",
    "<td>Chicago</td>\n",
    "</tr>\n",
    "   \n",
    "</table>"
   ]
  },
  {
   "cell_type": "code",
   "execution_count": 37,
   "metadata": {},
   "outputs": [
    {
     "data": {
      "text/html": [
       "<div>\n",
       "<style scoped>\n",
       "    .dataframe tbody tr th:only-of-type {\n",
       "        vertical-align: middle;\n",
       "    }\n",
       "\n",
       "    .dataframe tbody tr th {\n",
       "        vertical-align: top;\n",
       "    }\n",
       "\n",
       "    .dataframe thead th {\n",
       "        text-align: right;\n",
       "    }\n",
       "</style>\n",
       "<table border=\"1\" class=\"dataframe\">\n",
       "  <thead>\n",
       "    <tr style=\"text-align: right;\">\n",
       "      <th></th>\n",
       "      <th>Order_ID</th>\n",
       "      <th>Product</th>\n",
       "      <th>City</th>\n",
       "    </tr>\n",
       "  </thead>\n",
       "  <tbody>\n",
       "    <tr>\n",
       "      <th>0</th>\n",
       "      <td>YZ1100</td>\n",
       "      <td>Cell Phone</td>\n",
       "      <td>Sydeny</td>\n",
       "    </tr>\n",
       "    <tr>\n",
       "      <th>1</th>\n",
       "      <td>RW1200</td>\n",
       "      <td>Watch</td>\n",
       "      <td>Chicago</td>\n",
       "    </tr>\n",
       "    <tr>\n",
       "      <th>2</th>\n",
       "      <td>YZ1100</td>\n",
       "      <td>Cell Phone</td>\n",
       "      <td>New York</td>\n",
       "    </tr>\n",
       "    <tr>\n",
       "      <th>3</th>\n",
       "      <td>TY1400</td>\n",
       "      <td>Charger</td>\n",
       "      <td>Chicago</td>\n",
       "    </tr>\n",
       "    <tr>\n",
       "      <th>4</th>\n",
       "      <td>VB1500</td>\n",
       "      <td>Watch</td>\n",
       "      <td>Chicago</td>\n",
       "    </tr>\n",
       "    <tr>\n",
       "      <th>5</th>\n",
       "      <td>TY1400</td>\n",
       "      <td>Headphones</td>\n",
       "      <td>Texas</td>\n",
       "    </tr>\n",
       "    <tr>\n",
       "      <th>6</th>\n",
       "      <td>MW1600</td>\n",
       "      <td>Charger</td>\n",
       "      <td>New York</td>\n",
       "    </tr>\n",
       "    <tr>\n",
       "      <th>7</th>\n",
       "      <td>CN1600</td>\n",
       "      <td>Headphones</td>\n",
       "      <td>Chicago</td>\n",
       "    </tr>\n",
       "  </tbody>\n",
       "</table>\n",
       "</div>"
      ],
      "text/plain": [
       "  Order_ID     Product      City\n",
       "0   YZ1100  Cell Phone    Sydeny\n",
       "1   RW1200       Watch   Chicago\n",
       "2   YZ1100  Cell Phone  New York\n",
       "3   TY1400     Charger   Chicago\n",
       "4   VB1500       Watch   Chicago\n",
       "5   TY1400  Headphones     Texas\n",
       "6   MW1600     Charger  New York\n",
       "7   CN1600  Headphones   Chicago"
      ]
     },
     "execution_count": 37,
     "metadata": {},
     "output_type": "execute_result"
    }
   ],
   "source": [
    "# store the data\n",
    "product = [('YZ1100', 'Cell Phone', 'Sydeny'),\n",
    "('RW1200', 'Watch', 'Chicago'),\n",
    "('YZ1100', 'Cell Phone', 'New York'),\n",
    "('TY1400', 'Charger', 'Chicago'),\n",
    "('VB1500', 'Watch', 'Chicago'),\n",
    "('TY1400', 'Headphones', 'Texas'),\n",
    "('MW1600', 'Charger', 'New York'),\n",
    "('CN1600', 'Headphones', 'Chicago')]\n",
    "\n",
    "# Create a dataframe \n",
    "df_products= pd.DataFrame(product, columns=['Order_ID', 'Product', 'City'])\n",
    "\n",
    "# print the data\n",
    "df_products"
   ]
  },
  {
   "cell_type": "code",
   "execution_count": 38,
   "metadata": {},
   "outputs": [
    {
     "name": "stdout",
     "output_type": "stream",
     "text": [
      "Following are the duplicate rows based on a single column:\n",
      "  Order_ID     Product      City\n",
      "2   YZ1100  Cell Phone  New York\n",
      "5   TY1400  Headphones     Texas\n"
     ]
    }
   ],
   "source": [
    "# duplicate rows based on one column\n",
    "df_duplicate_rows = df_products[df_products.duplicated(['Order_ID'])]\n",
    "# print the result \n",
    "print(\"Following are the duplicate rows based on a single column:\", df_duplicate_rows, sep='\\n')"
   ]
  },
  {
   "cell_type": "markdown",
   "metadata": {},
   "source": [
    "### 17. Use the data created in question 16, to do the following:\n",
    "In column 'Product', replace all the 'Cell Phone' values with 'Mobile' using numpy.where\n"
   ]
  },
  {
   "cell_type": "code",
   "execution_count": 39,
   "metadata": {},
   "outputs": [
    {
     "data": {
      "text/html": [
       "<div>\n",
       "<style scoped>\n",
       "    .dataframe tbody tr th:only-of-type {\n",
       "        vertical-align: middle;\n",
       "    }\n",
       "\n",
       "    .dataframe tbody tr th {\n",
       "        vertical-align: top;\n",
       "    }\n",
       "\n",
       "    .dataframe thead th {\n",
       "        text-align: right;\n",
       "    }\n",
       "</style>\n",
       "<table border=\"1\" class=\"dataframe\">\n",
       "  <thead>\n",
       "    <tr style=\"text-align: right;\">\n",
       "      <th></th>\n",
       "      <th>Order_ID</th>\n",
       "      <th>Product</th>\n",
       "      <th>City</th>\n",
       "    </tr>\n",
       "  </thead>\n",
       "  <tbody>\n",
       "    <tr>\n",
       "      <th>0</th>\n",
       "      <td>YZ1100</td>\n",
       "      <td>Mobile</td>\n",
       "      <td>Sydeny</td>\n",
       "    </tr>\n",
       "    <tr>\n",
       "      <th>1</th>\n",
       "      <td>RW1200</td>\n",
       "      <td>Watch</td>\n",
       "      <td>Chicago</td>\n",
       "    </tr>\n",
       "    <tr>\n",
       "      <th>2</th>\n",
       "      <td>YZ1100</td>\n",
       "      <td>Mobile</td>\n",
       "      <td>New York</td>\n",
       "    </tr>\n",
       "    <tr>\n",
       "      <th>3</th>\n",
       "      <td>TY1400</td>\n",
       "      <td>Charger</td>\n",
       "      <td>Chicago</td>\n",
       "    </tr>\n",
       "    <tr>\n",
       "      <th>4</th>\n",
       "      <td>VB1500</td>\n",
       "      <td>Watch</td>\n",
       "      <td>Chicago</td>\n",
       "    </tr>\n",
       "    <tr>\n",
       "      <th>5</th>\n",
       "      <td>TY1400</td>\n",
       "      <td>Headphones</td>\n",
       "      <td>Texas</td>\n",
       "    </tr>\n",
       "    <tr>\n",
       "      <th>6</th>\n",
       "      <td>MW1600</td>\n",
       "      <td>Charger</td>\n",
       "      <td>New York</td>\n",
       "    </tr>\n",
       "    <tr>\n",
       "      <th>7</th>\n",
       "      <td>CN1600</td>\n",
       "      <td>Headphones</td>\n",
       "      <td>Chicago</td>\n",
       "    </tr>\n",
       "  </tbody>\n",
       "</table>\n",
       "</div>"
      ],
      "text/plain": [
       "  Order_ID     Product      City\n",
       "0   YZ1100      Mobile    Sydeny\n",
       "1   RW1200       Watch   Chicago\n",
       "2   YZ1100      Mobile  New York\n",
       "3   TY1400     Charger   Chicago\n",
       "4   VB1500       Watch   Chicago\n",
       "5   TY1400  Headphones     Texas\n",
       "6   MW1600     Charger  New York\n",
       "7   CN1600  Headphones   Chicago"
      ]
     },
     "execution_count": 39,
     "metadata": {},
     "output_type": "execute_result"
    }
   ],
   "source": [
    "# replace the values using np.where()\n",
    "df_products['Product'] = np.where((df_products.Product == 'Cell Phone'),'Mobile',df_products.Product)\n",
    "# print the dataframe\n",
    "df_products"
   ]
  },
  {
   "cell_type": "markdown",
   "metadata": {},
   "source": [
    "### 18. Perform right join to combine values based on the 'ID' in the two dataframes"
   ]
  },
  {
   "cell_type": "markdown",
   "metadata": {},
   "source": [
    "**Use the dataframe given below:**\n",
    "   \n",
    "<table>\n",
    "    <tr>\n",
    "        <th>ID</th>\n",
    "        <th>Candidate_Name</th>\n",
    "        <th>Subject</th>\n",
    "    </tr>\n",
    "    <tr>\n",
    "        <td>101</td>\n",
    "        <td>Alex</td>\n",
    "        <td>History</td>\n",
    "    </tr>\n",
    "    <tr>\n",
    "        <td>102</td>\n",
    "        <td>Amy</td>\n",
    "        <td>English</td>\n",
    "    </tr>\n",
    "    <tr>\n",
    "        <td>103</td>\n",
    "        <td>Allen</td>\n",
    "        <td>Geography</td>\n",
    "    </tr>\n",
    "    <tr>\n",
    "        <td>104</td>\n",
    "        <td>Alice</td>\n",
    "        <td>German</td>\n",
    "    </tr>\n",
    "        <td>105</td>\n",
    "        <td>James</td>\n",
    "        <td>History</td>\n",
    "    </tr>\n",
    "    <tr>\n",
    "        <td>106</td>\n",
    "        <td>Sara</td>\n",
    "        <td>German</td>\n",
    "    </tr>\n",
    "    <tr>\n",
    "        <td>107</td>\n",
    "        <td>Mia</td>\n",
    "        <td>English</td>\n",
    "    </tr>  \n",
    "</table>\n",
    "<br>\n",
    "\n",
    "\n",
    "\n",
    "<table>\n",
    "    <tr>\n",
    "        <th>ID</th>\n",
    "        <th>City</th>\n",
    "        <th>Subject_Score</th>\n",
    "    </tr>\n",
    "    <tr>\n",
    "        <td>101</td>\n",
    "        <td>Delhi</td>\n",
    "        <td>89</td>\n",
    "    </tr>\n",
    "    <tr>\n",
    "        <td>102</td>\n",
    "        <td>Mumbai</td>\n",
    "        <td>78</td>\n",
    "    </tr>\n",
    "    <tr>\n",
    "        <td>103</td>\n",
    "        <td>Delhi</td>\n",
    "        <td>77</td>\n",
    "    </tr>\n",
    "    <tr>\n",
    "        <td>104</td>\n",
    "        <td>Chennai</td>\n",
    "        <td>87</td>\n",
    "    </tr>\n",
    "    <tr>\n",
    "        <td>105</td>\n",
    "        <td>Hyderabad</td>\n",
    "        <td>87</td>\n",
    "    </tr>\n",
    "        <td>108</td>\n",
    "        <td>Delhi</td>\n",
    "        <td>84</td>\n",
    "\n",
    "    </tr>\n",
    "</table>"
   ]
  },
  {
   "cell_type": "code",
   "execution_count": 40,
   "metadata": {},
   "outputs": [
    {
     "name": "stdout",
     "output_type": "stream",
     "text": [
      "    ID Candidate_Name    Subject\n",
      "0  101           Alex    History\n",
      "1  102            Amy    English\n",
      "2  103          Allen  Geography\n",
      "3  104          Alice     German\n",
      "4  105          James    History\n",
      "5  106           Sara     German\n",
      "6  107            Mia    English \n",
      "\n",
      "    ID       City  Subject_Score\n",
      "0  101      Delhi             89\n",
      "1  102     Mumbai             78\n",
      "2  103      Delhi             77\n",
      "3  104    Chennai             87\n",
      "4  105  Hyderabad             87\n",
      "5  108      Delhi             84\n"
     ]
    }
   ],
   "source": [
    "# create a dataframe\n",
    "df_info_1 = pd.DataFrame({\n",
    "'ID':[101,102,103,104,105,106,107],\n",
    "'Candidate_Name': ['Alex', 'Amy', 'Allen', 'Alice', 'James', 'Sara', 'Mia'],\n",
    "'Subject':['History','English','Geography','German','History', 'German', 'English']})\n",
    "\n",
    "# create a dataframe\n",
    "df_info_2 = pd.DataFrame(\n",
    "{'ID':[101,102,103,104,105,108],\n",
    "'City': ['Delhi', 'Mumbai', 'Delhi', 'Chennai', 'Hyderabad','Delhi'],\n",
    "'Subject_Score':[89,78,77,87,87,84]})\n",
    "\n",
    "# print the data\n",
    "print(df_info_1,'\\n')\n",
    "print(df_info_2)"
   ]
  },
  {
   "cell_type": "code",
   "execution_count": 41,
   "metadata": {},
   "outputs": [
    {
     "data": {
      "text/html": [
       "<div>\n",
       "<style scoped>\n",
       "    .dataframe tbody tr th:only-of-type {\n",
       "        vertical-align: middle;\n",
       "    }\n",
       "\n",
       "    .dataframe tbody tr th {\n",
       "        vertical-align: top;\n",
       "    }\n",
       "\n",
       "    .dataframe thead th {\n",
       "        text-align: right;\n",
       "    }\n",
       "</style>\n",
       "<table border=\"1\" class=\"dataframe\">\n",
       "  <thead>\n",
       "    <tr style=\"text-align: right;\">\n",
       "      <th></th>\n",
       "      <th>ID</th>\n",
       "      <th>Candidate_Name</th>\n",
       "      <th>Subject</th>\n",
       "      <th>City</th>\n",
       "      <th>Subject_Score</th>\n",
       "    </tr>\n",
       "  </thead>\n",
       "  <tbody>\n",
       "    <tr>\n",
       "      <th>0</th>\n",
       "      <td>101</td>\n",
       "      <td>Alex</td>\n",
       "      <td>History</td>\n",
       "      <td>Delhi</td>\n",
       "      <td>89</td>\n",
       "    </tr>\n",
       "    <tr>\n",
       "      <th>1</th>\n",
       "      <td>102</td>\n",
       "      <td>Amy</td>\n",
       "      <td>English</td>\n",
       "      <td>Mumbai</td>\n",
       "      <td>78</td>\n",
       "    </tr>\n",
       "    <tr>\n",
       "      <th>2</th>\n",
       "      <td>103</td>\n",
       "      <td>Allen</td>\n",
       "      <td>Geography</td>\n",
       "      <td>Delhi</td>\n",
       "      <td>77</td>\n",
       "    </tr>\n",
       "    <tr>\n",
       "      <th>3</th>\n",
       "      <td>104</td>\n",
       "      <td>Alice</td>\n",
       "      <td>German</td>\n",
       "      <td>Chennai</td>\n",
       "      <td>87</td>\n",
       "    </tr>\n",
       "    <tr>\n",
       "      <th>4</th>\n",
       "      <td>105</td>\n",
       "      <td>James</td>\n",
       "      <td>History</td>\n",
       "      <td>Hyderabad</td>\n",
       "      <td>87</td>\n",
       "    </tr>\n",
       "    <tr>\n",
       "      <th>5</th>\n",
       "      <td>108</td>\n",
       "      <td>NaN</td>\n",
       "      <td>NaN</td>\n",
       "      <td>Delhi</td>\n",
       "      <td>84</td>\n",
       "    </tr>\n",
       "  </tbody>\n",
       "</table>\n",
       "</div>"
      ],
      "text/plain": [
       "    ID Candidate_Name    Subject       City  Subject_Score\n",
       "0  101           Alex    History      Delhi             89\n",
       "1  102            Amy    English     Mumbai             78\n",
       "2  103          Allen  Geography      Delhi             77\n",
       "3  104          Alice     German    Chennai             87\n",
       "4  105          James    History  Hyderabad             87\n",
       "5  108            NaN        NaN      Delhi             84"
      ]
     },
     "execution_count": 41,
     "metadata": {},
     "output_type": "execute_result"
    }
   ],
   "source": [
    "# perform right join \n",
    "df_right = pd.merge(df_info_1, df_info_2, on=['ID'], how='right')\n",
    "# print the dataframe\n",
    "df_right"
   ]
  },
  {
   "cell_type": "markdown",
   "metadata": {},
   "source": [
    "### 19. Use the following data to plot a pie chart and annotate the percentage sales"
   ]
  },
  {
   "cell_type": "markdown",
   "metadata": {},
   "source": [
    "<table>\n",
    "    <tr>\n",
    "        <th>City</th>\n",
    "        <th>Sales</th>\n",
    "    </tr>\n",
    "    <tr>\n",
    "        <td>Delhi</td>\n",
    "        <td>890</td>\n",
    "    </tr>\n",
    "    <tr>\n",
    "        <td>Mumbai</td>\n",
    "        <td>784</td>\n",
    "    </tr>\n",
    "    <tr>\n",
    "        <td>Delhi</td>\n",
    "        <td>775</td>\n",
    "    </tr>\n",
    "    <tr>\n",
    "        <td>Chennai</td>\n",
    "        <td>873</td>\n",
    "    </tr>\n",
    "    <tr>\n",
    "        <td>Hyderabad</td>\n",
    "        <td>387</td>\n",
    "    </tr>\n",
    "        <td>Delhi</td>\n",
    "        <td>684</td>\n",
    "\n",
    "    </tr>\n",
    "</table>"
   ]
  },
  {
   "cell_type": "code",
   "execution_count": 42,
   "metadata": {},
   "outputs": [
    {
     "data": {
      "image/png": "[encoded data removed]",
      "text/plain": [
       "<Figure size 640x480 with 1 Axes>"
      ]
     },
     "metadata": {},
     "output_type": "display_data"
    }
   ],
   "source": [
    "import matplotlib.pyplot as plt\n",
    "\n",
    "# create an array of sales and location\n",
    "sales = np.array([890, 784,775, 873, 387, 684])\n",
    "city = ['Delhi','Mumbai','Delhi','Chennai',\"Hyderabad\",\"Delhi\"]\n",
    "\n",
    "# plot a pie chart\n",
    "# autopct: give the proportion of wedge in percentage\n",
    "plt.pie(sales,labels = city, autopct= '%1.2f%%' )\n",
    "\n",
    "# set the plot title\n",
    "plt.title('Percentage sales', fontsize=15 )\n",
    "\n",
    "# display the plot\n",
    "plt.show()"
   ]
  },
  {
   "cell_type": "markdown",
   "metadata": {},
   "source": [
    "### 20. Use the data created in question 19, to do the following:\n",
    "Calculate minimum, maximum and average sales for each origin"
   ]
  },
  {
   "cell_type": "code",
   "execution_count": 43,
   "metadata": {},
   "outputs": [
    {
     "data": {
      "text/html": [
       "<div>\n",
       "<style scoped>\n",
       "    .dataframe tbody tr th:only-of-type {\n",
       "        vertical-align: middle;\n",
       "    }\n",
       "\n",
       "    .dataframe tbody tr th {\n",
       "        vertical-align: top;\n",
       "    }\n",
       "\n",
       "    .dataframe thead th {\n",
       "        text-align: right;\n",
       "    }\n",
       "</style>\n",
       "<table border=\"1\" class=\"dataframe\">\n",
       "  <thead>\n",
       "    <tr style=\"text-align: right;\">\n",
       "      <th></th>\n",
       "      <th>City</th>\n",
       "      <th>Sales</th>\n",
       "    </tr>\n",
       "  </thead>\n",
       "  <tbody>\n",
       "    <tr>\n",
       "      <th>0</th>\n",
       "      <td>Delhi</td>\n",
       "      <td>890</td>\n",
       "    </tr>\n",
       "    <tr>\n",
       "      <th>1</th>\n",
       "      <td>Mumbai</td>\n",
       "      <td>784</td>\n",
       "    </tr>\n",
       "    <tr>\n",
       "      <th>2</th>\n",
       "      <td>Delhi</td>\n",
       "      <td>775</td>\n",
       "    </tr>\n",
       "    <tr>\n",
       "      <th>3</th>\n",
       "      <td>Chennai</td>\n",
       "      <td>873</td>\n",
       "    </tr>\n",
       "    <tr>\n",
       "      <th>4</th>\n",
       "      <td>Hyderabad</td>\n",
       "      <td>387</td>\n",
       "    </tr>\n",
       "    <tr>\n",
       "      <th>5</th>\n",
       "      <td>Delhi</td>\n",
       "      <td>684</td>\n",
       "    </tr>\n",
       "  </tbody>\n",
       "</table>\n",
       "</div>"
      ],
      "text/plain": [
       "        City  Sales\n",
       "0      Delhi    890\n",
       "1     Mumbai    784\n",
       "2      Delhi    775\n",
       "3    Chennai    873\n",
       "4  Hyderabad    387\n",
       "5      Delhi    684"
      ]
     },
     "execution_count": 43,
     "metadata": {},
     "output_type": "execute_result"
    }
   ],
   "source": [
    "# create a dataframe\n",
    "df_sales = pd.DataFrame({'City': ['Delhi','Mumbai','Delhi','Chennai',\"Hyderabad\",\"Delhi\"],\n",
    "'Sales': [890, 784,775, 873, 387, 684]})\n",
    "\n",
    "# print the dataframe\n",
    "df_sales"
   ]
  },
  {
   "cell_type": "code",
   "execution_count": 44,
   "metadata": {},
   "outputs": [
    {
     "data": {
      "text/html": [
       "<div>\n",
       "<style scoped>\n",
       "    .dataframe tbody tr th:only-of-type {\n",
       "        vertical-align: middle;\n",
       "    }\n",
       "\n",
       "    .dataframe tbody tr th {\n",
       "        vertical-align: top;\n",
       "    }\n",
       "\n",
       "    .dataframe thead tr th {\n",
       "        text-align: left;\n",
       "    }\n",
       "\n",
       "    .dataframe thead tr:last-of-type th {\n",
       "        text-align: right;\n",
       "    }\n",
       "</style>\n",
       "<table border=\"1\" class=\"dataframe\">\n",
       "  <thead>\n",
       "    <tr>\n",
       "      <th></th>\n",
       "      <th colspan=\"3\" halign=\"left\">Sales</th>\n",
       "    </tr>\n",
       "    <tr>\n",
       "      <th></th>\n",
       "      <th>min</th>\n",
       "      <th>max</th>\n",
       "      <th>mean</th>\n",
       "    </tr>\n",
       "    <tr>\n",
       "      <th>City</th>\n",
       "      <th></th>\n",
       "      <th></th>\n",
       "      <th></th>\n",
       "    </tr>\n",
       "  </thead>\n",
       "  <tbody>\n",
       "    <tr>\n",
       "      <th>Chennai</th>\n",
       "      <td>873</td>\n",
       "      <td>873</td>\n",
       "      <td>873.0</td>\n",
       "    </tr>\n",
       "    <tr>\n",
       "      <th>Delhi</th>\n",
       "      <td>684</td>\n",
       "      <td>890</td>\n",
       "      <td>783.0</td>\n",
       "    </tr>\n",
       "    <tr>\n",
       "      <th>Hyderabad</th>\n",
       "      <td>387</td>\n",
       "      <td>387</td>\n",
       "      <td>387.0</td>\n",
       "    </tr>\n",
       "    <tr>\n",
       "      <th>Mumbai</th>\n",
       "      <td>784</td>\n",
       "      <td>784</td>\n",
       "      <td>784.0</td>\n",
       "    </tr>\n",
       "  </tbody>\n",
       "</table>\n",
       "</div>"
      ],
      "text/plain": [
       "          Sales            \n",
       "            min  max   mean\n",
       "City                       \n",
       "Chennai     873  873  873.0\n",
       "Delhi       684  890  783.0\n",
       "Hyderabad   387  387  387.0\n",
       "Mumbai      784  784  784.0"
      ]
     },
     "execution_count": 44,
     "metadata": {},
     "output_type": "execute_result"
    }
   ],
   "source": [
    "# use groupby() method to group the dataframe by 'Seasons'.\n",
    "# Then use agg() to find minimum, maximum, and average sales for each season\n",
    "# min: finds the minimum values\n",
    "# max: finds the maximum values\n",
    "# mean: calculates the mean\n",
    "df_grouped = df_sales.groupby('City').agg({'Sales':['min','max','mean']})\n",
    "# print the dataframe\n",
    "df_grouped\n"
   ]
  },
  {
   "cell_type": "code",
   "execution_count": null,
   "metadata": {},
   "outputs": [],
   "source": []
  }
 ],
 "metadata": {
  "kernelspec": {
   "display_name": "Python 3 (ipykernel)",
   "language": "python",
   "name": "python3"
  },
  "language_info": {
   "codemirror_mode": {
    "name": "ipython",
    "version": 3
   },
   "file_extension": ".py",
   "mimetype": "text/x-python",
   "name": "python",
   "nbconvert_exporter": "python",
   "pygments_lexer": "ipython3",
   "version": "3.8.13"
  }
 },
 "nbformat": 4,
 "nbformat_minor": 2
}
