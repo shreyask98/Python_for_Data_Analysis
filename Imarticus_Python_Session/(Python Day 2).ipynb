{
 "cells": [
  {
   "cell_type": "markdown",
   "id": "2cc9f4ec",
   "metadata": {},
   "source": [
    "This notebook was prepared by [Shreyas Kumbhar](). Source and license info is on [GitHub](https://github.com/shreyask98/Python/blob/main/LICENSE)."
   ]
  },
  {
   "cell_type": "markdown",
   "id": "bb8c378a",
   "metadata": {},
   "source": [
    "\n",
    "# Take input from user"
   ]
  },
  {
   "cell_type": "code",
   "execution_count": 7,
   "id": "230481ef",
   "metadata": {},
   "outputs": [
    {
     "name": "stdout",
     "output_type": "stream",
     "text": [
      "Enter the value you want to pass: 34\n"
     ]
    }
   ],
   "source": [
    "var1 =(input(\"Enter the value you want to pass: \")) \n",
    "#input will always store the data in str format"
   ]
  },
  {
   "cell_type": "code",
   "execution_count": 8,
   "id": "3e07165a",
   "metadata": {},
   "outputs": [
    {
     "data": {
      "text/plain": [
       "34"
      ]
     },
     "execution_count": 8,
     "metadata": {},
     "output_type": "execute_result"
    }
   ],
   "source": [
    "var1"
   ]
  },
  {
   "cell_type": "code",
   "execution_count": 9,
   "id": "3b543086",
   "metadata": {},
   "outputs": [
    {
     "data": {
      "text/plain": [
       "int"
      ]
     },
     "execution_count": 9,
     "metadata": {},
     "output_type": "execute_result"
    }
   ],
   "source": [
    "type(var1)"
   ]
  },
  {
   "cell_type": "code",
   "execution_count": 14,
   "id": "f19c66a5",
   "metadata": {},
   "outputs": [
    {
     "name": "stdout",
     "output_type": "stream",
     "text": [
      "Enter the value you eant to pass34.5\n"
     ]
    }
   ],
   "source": [
    "var2 = eval(input(\"Enter the value you eant to pass\"))\n",
    "# eval will preserve the data type given by  user "
   ]
  },
  {
   "cell_type": "code",
   "execution_count": 17,
   "id": "4ac08dd1",
   "metadata": {},
   "outputs": [
    {
     "data": {
      "text/plain": [
       "34.5"
      ]
     },
     "execution_count": 17,
     "metadata": {},
     "output_type": "execute_result"
    }
   ],
   "source": [
    "var2"
   ]
  },
  {
   "cell_type": "code",
   "execution_count": 16,
   "id": "d2bbec37",
   "metadata": {},
   "outputs": [
    {
     "data": {
      "text/plain": [
       "37.5"
      ]
     },
     "execution_count": 16,
     "metadata": {},
     "output_type": "execute_result"
    }
   ],
   "source": [
    "var2 + 3"
   ]
  },
  {
   "cell_type": "code",
   "execution_count": 18,
   "id": "fe28e299",
   "metadata": {},
   "outputs": [
    {
     "name": "stdout",
     "output_type": "stream",
     "text": [
      "Enter the value you eant to pass23\n"
     ]
    }
   ],
   "source": [
    "var3 = int(input(\"Enter the value you eant to pass\"))"
   ]
  },
  {
   "cell_type": "code",
   "execution_count": 19,
   "id": "605c304d",
   "metadata": {},
   "outputs": [
    {
     "data": {
      "text/plain": [
       "23"
      ]
     },
     "execution_count": 19,
     "metadata": {},
     "output_type": "execute_result"
    }
   ],
   "source": [
    "var3"
   ]
  },
  {
   "cell_type": "code",
   "execution_count": 20,
   "id": "62202947",
   "metadata": {},
   "outputs": [
    {
     "data": {
      "text/plain": [
       "int"
      ]
     },
     "execution_count": 20,
     "metadata": {},
     "output_type": "execute_result"
    }
   ],
   "source": [
    "type(var3)"
   ]
  },
  {
   "cell_type": "code",
   "execution_count": 24,
   "id": "e3899a3d",
   "metadata": {},
   "outputs": [],
   "source": [
    "a= 9 # u assign value 10 to a "
   ]
  },
  {
   "cell_type": "code",
   "execution_count": 25,
   "id": "c64841d0",
   "metadata": {},
   "outputs": [
    {
     "data": {
      "text/plain": [
       "False"
      ]
     },
     "execution_count": 25,
     "metadata": {},
     "output_type": "execute_result"
    }
   ],
   "source": [
    "a>= 10 "
   ]
  },
  {
   "cell_type": "code",
   "execution_count": 26,
   "id": "0e859474",
   "metadata": {},
   "outputs": [
    {
     "data": {
      "text/plain": [
       "True"
      ]
     },
     "execution_count": 26,
     "metadata": {},
     "output_type": "execute_result"
    }
   ],
   "source": [
    "a<= 10"
   ]
  },
  {
   "cell_type": "code",
   "execution_count": 27,
   "id": "79cecaab",
   "metadata": {},
   "outputs": [],
   "source": [
    "# lets write a code to check if the number is greater than or eqal to 10 "
   ]
  },
  {
   "cell_type": "code",
   "execution_count": 37,
   "id": "fad2f8f0",
   "metadata": {},
   "outputs": [
    {
     "name": "stdout",
     "output_type": "stream",
     "text": [
      "Enter the Number 10.4\n",
      "number is greter than 10\n",
      "number is : 10.4\n"
     ]
    }
   ],
   "source": [
    "num = eval((input(\"Enter the Number \")))\n",
    "if num >10: \n",
    "    print(\"number is greter than 10\")\n",
    "    print(\"number is :\", num)\n",
    "elif num ==10:\n",
    "    print(\"number is equal to 10\")\n",
    "    print(\"number is :\", num)\n",
    "else:\n",
    "    print(\"number is small than 10\")\n",
    "    print(\"number is :\", num)"
   ]
  },
  {
   "cell_type": "code",
   "execution_count": 3,
   "id": "ef6c4325",
   "metadata": {},
   "outputs": [
    {
     "name": "stdout",
     "output_type": "stream",
     "text": [
      "Enter the Number 5\n",
      "number is odd\n",
      "number is : 5\n"
     ]
    }
   ],
   "source": [
    "# write a code to check if the number is even or odd \n",
    "num = eval((input(\"Enter the Number \")))\n",
    "if (num % 2) == 0: \n",
    "    print(\"number is even\")\n",
    "    print(\"number is :\", num)\n",
    "else:\n",
    "    print(\"number is odd\")\n",
    "    print(\"number is :\", num)"
   ]
  },
  {
   "cell_type": "code",
   "execution_count": 10,
   "id": "8aa1a255",
   "metadata": {
    "scrolled": true
   },
   "outputs": [
    {
     "name": "stdout",
     "output_type": "stream",
     "text": [
      "Enter the City name Mumbai\n",
      "city does not part of our data\n"
     ]
    }
   ],
   "source": [
    "# lets now to cehck multiple condition \n",
    "city =input(\"Enter the City name \")\n",
    "\n",
    "if city == \"mumbai\":\n",
    "    print(\"it is financial cap of india\")\n",
    "    print(\"it has bollywood\")\n",
    "elif city == \"delhi\":\n",
    "    print(\"it is a cap of india \")\n",
    "    print(\"it in northan part of country\")\n",
    "elif city == \"pune\":\n",
    "    print(\"has many collages\")\n",
    "    print(\"it is good city\")\n",
    "elif city == \"banglore\":\n",
    "    print(\"it is an it hub\")\n",
    "    print(\"has many start ups\")\n",
    "else:\n",
    "    print(\"city does not part of our data\")\n",
    "    \n",
    "    \n",
    "    "
   ]
  },
  {
   "cell_type": "code",
   "execution_count": 15,
   "id": "41b11442",
   "metadata": {},
   "outputs": [
    {
     "name": "stdout",
     "output_type": "stream",
     "text": [
      " even number  2\n",
      " even number  4\n",
      " even number  6\n",
      " even number  8\n",
      " even number  10\n",
      " even number  12\n",
      " even number  14\n",
      " even number  16\n",
      " even number  18\n",
      " even number  20\n",
      " even number  22\n",
      " even number  24\n",
      " even number  26\n",
      " even number  28\n",
      " even number  30\n",
      " even number  32\n",
      " even number  34\n",
      " even number  36\n",
      " even number  38\n",
      " even number  40\n",
      " even number  42\n",
      " even number  44\n",
      " even number  46\n",
      " even number  48\n",
      " even number  50\n"
     ]
    }
   ],
   "source": [
    "num =2\n",
    "while num <=50:\n",
    "    \n",
    "    print(\" even number \",num)\n",
    "    num = num + 2\n",
    "    \n",
    "# when creating the while loop user needs to give a condition so that it comes out of for loop \n",
    "    "
   ]
  },
  {
   "cell_type": "code",
   "execution_count": 20,
   "id": "12b53083",
   "metadata": {},
   "outputs": [
    {
     "name": "stdout",
     "output_type": "stream",
     "text": [
      "[2, 4, 6, 8, 10, 12, 14, 16, 18, 20, 22, 24, 26, 28, 30, 32, 34, 36, 38, 40, 42, 44, 46, 48, 50, 52, 54, 56, 58, 60, 62, 64, 66, 68, 70, 72, 74, 76, 78, 80, 82, 84, 86, 88, 90, 92, 94, 96, 98, 100]\n",
      "[1, 3, 5, 7, 9, 11, 13, 15, 17, 19, 21, 23, 25, 27, 29, 31, 33, 35, 37, 39, 41, 43, 45, 47, 49, 51, 53, 55, 57, 59, 61, 63, 65, 67, 69, 71, 73, 75, 77, 79, 81, 83, 85, 87, 89, 91, 93, 95, 97, 99]\n"
     ]
    }
   ],
   "source": [
    "# write a program which create 2 list \n",
    "# first list contain all even numbers  (1 to 100)\n",
    "# 2 nd list contain all odd number (1 to 100)\n",
    "\n",
    "l1 =[]\n",
    "l2 =[]\n",
    "num =1\n",
    "while num <=100:\n",
    "    if (num % 2) == 0:\n",
    "        l1.append(num)\n",
    "    else:\n",
    "        l2.append(num)\n",
    "    num = num +1\n",
    "\n",
    "print(l1)\n",
    "print(l2)\n",
    "\n"
   ]
  },
  {
   "cell_type": "code",
   "execution_count": 21,
   "id": "41769664",
   "metadata": {},
   "outputs": [],
   "source": [
    "# for loop \n"
   ]
  },
  {
   "cell_type": "code",
   "execution_count": 28,
   "id": "5eca3398",
   "metadata": {},
   "outputs": [],
   "source": [
    "exam = [10,20,2,3,4,32,21,34,45,28]"
   ]
  },
  {
   "cell_type": "code",
   "execution_count": 30,
   "id": "f3047fed",
   "metadata": {},
   "outputs": [],
   "source": [
    "# requirement is to seperate the even numbers and the odd numbers\n",
    "even = []\n",
    "odd = []\n",
    "for i in exam:\n",
    "    for i in exam:\n",
    "        if (i % 2) == 0:\n",
    "            even.append(i)\n",
    "        else:\n",
    "            odd.append(i)"
   ]
  },
  {
   "cell_type": "code",
   "execution_count": 35,
   "id": "9c6446fc",
   "metadata": {},
   "outputs": [
    {
     "data": {
      "text/plain": [
       "{2, 4, 10, 20, 28, 32, 34}"
      ]
     },
     "execution_count": 35,
     "metadata": {},
     "output_type": "execute_result"
    }
   ],
   "source": [
    "even = set(even)\n",
    "even"
   ]
  },
  {
   "cell_type": "code",
   "execution_count": 36,
   "id": "df2e627b",
   "metadata": {},
   "outputs": [
    {
     "data": {
      "text/plain": [
       "{3, 21, 45}"
      ]
     },
     "execution_count": 36,
     "metadata": {},
     "output_type": "execute_result"
    }
   ],
   "source": [
    "odd = set(odd)\n",
    "odd"
   ]
  },
  {
   "cell_type": "code",
   "execution_count": 46,
   "id": "997027c0",
   "metadata": {},
   "outputs": [
    {
     "name": "stdout",
     "output_type": "stream",
     "text": [
      "Enter the Number 10\n",
      "The factorial of 10 is 3628800\n"
     ]
    }
   ],
   "source": [
    "num = int((input(\"Enter the Number \")))\n",
    "factorial =1\n",
    "for i in range(1,num + 1):\n",
    "       factorial = factorial*i\n",
    "print(\"The factorial of\",num,\"is\",factorial)"
   ]
  },
  {
   "cell_type": "code",
   "execution_count": 59,
   "id": "bac70c4b",
   "metadata": {},
   "outputs": [
    {
     "name": "stdout",
     "output_type": "stream",
     "text": [
      "enter the number5\n",
      "factorial of  5 is 2\n"
     ]
    }
   ],
   "source": [
    "num=int(input(\"enter the number\"))\n",
    "fact = 1\n",
    "i = 1\n",
    "while i<=num:\n",
    "    fact = fact * i\n",
    "    i = i + 1\n",
    "print(\"factorial of \",num,\"is\",f)\n"
   ]
  },
  {
   "cell_type": "code",
   "execution_count": 16,
   "id": "3831fff3",
   "metadata": {},
   "outputs": [],
   "source": [
    "var2 =  \"abcdefgh\""
   ]
  },
  {
   "cell_type": "code",
   "execution_count": 17,
   "id": "b7cd0c8a",
   "metadata": {},
   "outputs": [
    {
     "data": {
      "text/plain": [
       "'def'"
      ]
     },
     "execution_count": 17,
     "metadata": {},
     "output_type": "execute_result"
    }
   ],
   "source": [
    "var2[3:6]"
   ]
  },
  {
   "cell_type": "code",
   "execution_count": 18,
   "id": "ab48c110",
   "metadata": {},
   "outputs": [
    {
     "data": {
      "text/plain": [
       "'g'"
      ]
     },
     "execution_count": 18,
     "metadata": {},
     "output_type": "execute_result"
    }
   ],
   "source": [
    "var2[6]"
   ]
  },
  {
   "cell_type": "code",
   "execution_count": 19,
   "id": "a146f191",
   "metadata": {},
   "outputs": [],
   "source": [
    "# write a code takes input from user\n",
    "# and check if the string is palindrome\n"
   ]
  },
  {
   "cell_type": "code",
   "execution_count": 21,
   "id": "faafcdec",
   "metadata": {},
   "outputs": [
    {
     "name": "stdout",
     "output_type": "stream",
     "text": [
      "enter the value:malayalam\n",
      "string is palindrome\n"
     ]
    }
   ],
   "source": [
    "n = (input(\"enter the value:\"))\n",
    "if  n[::-1] == n :\n",
    "    \n",
    "        print(\"string is palindrome\")\n",
    "        \n",
    "else:\n",
    "        print(\"string is not palindrome\")\n",
    "        \n",
    "    \n",
    "    \n",
    "    \n"
   ]
  },
  {
   "cell_type": "code",
   "execution_count": 75,
   "id": "baa07cc6",
   "metadata": {},
   "outputs": [
    {
     "name": "stdout",
     "output_type": "stream",
     "text": [
      "enter the num1\n",
      "1 is not a prime number\n"
     ]
    }
   ],
   "source": [
    "# write a program which will check if number is prime number or not\n",
    "# a number that is divisible only by itself and 1 (e.g. 2, 3, 5, 7, 11)\n",
    "\n",
    "num =int(input(\"enter the num\"))\n",
    "# If given number is greater than 1\n",
    "if num > 1:\n",
    "\n",
    "        # Iterate from 2 to n / 2\n",
    "        for i in range(2, int(num/2)+1):\n",
    "\n",
    "            # If num is divisible by any number between\n",
    "            # 2 and n / 2, it is not prime\n",
    "            if (num % i) == 0:\n",
    "                print(num, \"is not a prime number\")\n",
    "                break\n",
    "        else:\n",
    "            print(num, \"is a prime number\")\n",
    "\n",
    "else:\n",
    "        print(num, \"is not a prime number\")\n",
    "\n",
    "        \n"
   ]
  },
  {
   "cell_type": "code",
   "execution_count": 5,
   "id": "5fc5e1ce",
   "metadata": {},
   "outputs": [
    {
     "name": "stdout",
     "output_type": "stream",
     "text": [
      "enter the num12\n",
      "12 is not a prime number\n"
     ]
    }
   ],
   "source": [
    "# write a program which will check if number is prime number or not\n",
    "# a number that is divisible only by itself and 1 (e.g. 2, 3, 5, 7, 11)\n",
    "\n",
    "num =int(input(\"enter the num\")) \n",
    "if num > 1:\n",
    "        for i in range(2, int(num/2)+1):\n",
    "            if (num % i) == 0:\n",
    "                print(num, \"is not a prime number\")\n",
    "                break\n",
    "        else:\n",
    "            print(num, \"is a prime number\")\n",
    "\n",
    "else:\n",
    "    print(num, \"is not a prime number\")\n",
    "\n",
    "        \n"
   ]
  },
  {
   "cell_type": "code",
   "execution_count": 6,
   "id": "ad7cbc3c",
   "metadata": {},
   "outputs": [
    {
     "data": {
      "text/plain": [
       "range(2, 3)"
      ]
     },
     "execution_count": 6,
     "metadata": {},
     "output_type": "execute_result"
    }
   ],
   "source": [
    "range(2, int(4/2) +1)"
   ]
  },
  {
   "cell_type": "code",
   "execution_count": null,
   "id": "af56d4aa",
   "metadata": {},
   "outputs": [],
   "source": []
  }
 ],
 "metadata": {
  "kernelspec": {
   "display_name": "Python 3 (ipykernel)",
   "language": "python",
   "name": "python3"
  },
  "language_info": {
   "codemirror_mode": {
    "name": "ipython",
    "version": 3
   },
   "file_extension": ".py",
   "mimetype": "text/x-python",
   "name": "python",
   "nbconvert_exporter": "python",
   "pygments_lexer": "ipython3",
   "version": "3.8.13"
  }
 },
 "nbformat": 4,
 "nbformat_minor": 5
}
