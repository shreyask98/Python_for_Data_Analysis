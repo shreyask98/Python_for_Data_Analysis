{
 "cells": [
  {
   "cell_type": "markdown",
   "id": "e9d1d98f",
   "metadata": {},
   "source": [
    "This notebook was prepared by [Shreyas Kumbhar](). Source and license info is on [GitHub](https://github.com/shreyask98/Python/blob/main/LICENSE)."
   ]
  },
  {
   "cell_type": "markdown",
   "id": "5fa1945a",
   "metadata": {},
   "source": [
    "- suppose note book hang -- click kernal then -- restart"
   ]
  },
  {
   "cell_type": "markdown",
   "id": "07bb93bd",
   "metadata": {},
   "source": [
    "### Mathematical function"
   ]
  },
  {
   "cell_type": "code",
   "execution_count": 3,
   "id": "9eccced7",
   "metadata": {},
   "outputs": [
    {
     "data": {
      "text/plain": [
       "14"
      ]
     },
     "execution_count": 3,
     "metadata": {},
     "output_type": "execute_result"
    }
   ],
   "source": [
    "10 + 4 "
   ]
  },
  {
   "cell_type": "code",
   "execution_count": 4,
   "id": "38ccc350",
   "metadata": {},
   "outputs": [
    {
     "data": {
      "text/plain": [
       "1"
      ]
     },
     "execution_count": 4,
     "metadata": {},
     "output_type": "execute_result"
    }
   ],
   "source": [
    "10 - 9"
   ]
  },
  {
   "cell_type": "code",
   "execution_count": 5,
   "id": "3596a186",
   "metadata": {},
   "outputs": [
    {
     "data": {
      "text/plain": [
       "5.0"
      ]
     },
     "execution_count": 5,
     "metadata": {},
     "output_type": "execute_result"
    }
   ],
   "source": [
    "10 /2 "
   ]
  },
  {
   "cell_type": "code",
   "execution_count": 6,
   "id": "bcbf364f",
   "metadata": {},
   "outputs": [
    {
     "data": {
      "text/plain": [
       "20"
      ]
     },
     "execution_count": 6,
     "metadata": {},
     "output_type": "execute_result"
    }
   ],
   "source": [
    "10 * 2 "
   ]
  },
  {
   "cell_type": "code",
   "execution_count": 7,
   "id": "236d9ff2",
   "metadata": {},
   "outputs": [
    {
     "data": {
      "text/plain": [
       "2"
      ]
     },
     "execution_count": 7,
     "metadata": {},
     "output_type": "execute_result"
    }
   ],
   "source": [
    "10 //4  #quotient"
   ]
  },
  {
   "cell_type": "code",
   "execution_count": 8,
   "id": "aa6535c6",
   "metadata": {},
   "outputs": [
    {
     "data": {
      "text/plain": [
       "3"
      ]
     },
     "execution_count": 8,
     "metadata": {},
     "output_type": "execute_result"
    }
   ],
   "source": [
    "10 % 7 # remainder"
   ]
  },
  {
   "cell_type": "code",
   "execution_count": 9,
   "id": "0756375b",
   "metadata": {},
   "outputs": [
    {
     "data": {
      "text/plain": [
       "100"
      ]
     },
     "execution_count": 9,
     "metadata": {},
     "output_type": "execute_result"
    }
   ],
   "source": [
    "10 ** 2"
   ]
  },
  {
   "cell_type": "code",
   "execution_count": 10,
   "id": "fc5fbf4c",
   "metadata": {},
   "outputs": [
    {
     "data": {
      "text/plain": [
       "6.0"
      ]
     },
     "execution_count": 10,
     "metadata": {},
     "output_type": "execute_result"
    }
   ],
   "source": [
    "36 ** .5"
   ]
  },
  {
   "cell_type": "markdown",
   "id": "99d50882",
   "metadata": {},
   "source": [
    "### Pyhton is case sensitive"
   ]
  },
  {
   "cell_type": "code",
   "execution_count": 11,
   "id": "cf5fd209",
   "metadata": {},
   "outputs": [],
   "source": [
    "a =25    # assign value 25 to a variable a \n"
   ]
  },
  {
   "cell_type": "code",
   "execution_count": 12,
   "id": "eb1e9081",
   "metadata": {},
   "outputs": [
    {
     "data": {
      "text/plain": [
       "25"
      ]
     },
     "execution_count": 12,
     "metadata": {},
     "output_type": "execute_result"
    }
   ],
   "source": [
    "a"
   ]
  },
  {
   "cell_type": "code",
   "execution_count": 13,
   "id": "ce87ff04",
   "metadata": {},
   "outputs": [],
   "source": [
    "a = 123"
   ]
  },
  {
   "cell_type": "code",
   "execution_count": 14,
   "id": "c010d276",
   "metadata": {},
   "outputs": [
    {
     "data": {
      "text/plain": [
       "123"
      ]
     },
     "execution_count": 14,
     "metadata": {},
     "output_type": "execute_result"
    }
   ],
   "source": [
    "a"
   ]
  },
  {
   "cell_type": "code",
   "execution_count": 15,
   "id": "0a3637b5",
   "metadata": {},
   "outputs": [],
   "source": [
    "a = \"pune\""
   ]
  },
  {
   "cell_type": "code",
   "execution_count": 16,
   "id": "f9e9b4b6",
   "metadata": {
    "scrolled": true
   },
   "outputs": [
    {
     "data": {
      "text/plain": [
       "'pune'"
      ]
     },
     "execution_count": 16,
     "metadata": {},
     "output_type": "execute_result"
    }
   ],
   "source": [
    "a"
   ]
  },
  {
   "cell_type": "markdown",
   "id": "5a9c5eab",
   "metadata": {},
   "source": [
    "### type"
   ]
  },
  {
   "cell_type": "code",
   "execution_count": 17,
   "id": "2cce401d",
   "metadata": {},
   "outputs": [
    {
     "name": "stdout",
     "output_type": "stream",
     "text": [
      "<class 'str'>\n"
     ]
    }
   ],
   "source": [
    "print(type(a))"
   ]
  },
  {
   "cell_type": "code",
   "execution_count": 18,
   "id": "000e3a06",
   "metadata": {},
   "outputs": [],
   "source": [
    "b = 10 \n",
    "c = 20 \n",
    "d = 30"
   ]
  },
  {
   "cell_type": "code",
   "execution_count": 19,
   "id": "6a793c02",
   "metadata": {},
   "outputs": [
    {
     "name": "stdout",
     "output_type": "stream",
     "text": [
      "10\n",
      "20\n",
      "30\n"
     ]
    }
   ],
   "source": [
    "print(b)\n",
    "print(c)\n",
    "print(d)"
   ]
  },
  {
   "cell_type": "code",
   "execution_count": 20,
   "id": "8ff6966a",
   "metadata": {},
   "outputs": [],
   "source": [
    "name = \"bob\"\n",
    "salary = 250000\n"
   ]
  },
  {
   "cell_type": "code",
   "execution_count": 21,
   "id": "21dbd092",
   "metadata": {},
   "outputs": [
    {
     "name": "stdout",
     "output_type": "stream",
     "text": [
      "Name of the person is: bob and his salary is  250000\n"
     ]
    }
   ],
   "source": [
    "print(\"Name of the person is:\" ,name,\"and his salary is \", salary )"
   ]
  },
  {
   "cell_type": "code",
   "execution_count": 22,
   "id": "fdbefc59",
   "metadata": {},
   "outputs": [
    {
     "data": {
      "text/plain": [
       "12131"
      ]
     },
     "execution_count": 22,
     "metadata": {},
     "output_type": "execute_result"
    }
   ],
   "source": [
    "var =12131\n",
    "var"
   ]
  },
  {
   "cell_type": "raw",
   "id": "661b8c9b",
   "metadata": {},
   "source": [
    "var = 100\n",
    "var"
   ]
  },
  {
   "cell_type": "code",
   "execution_count": 23,
   "id": "ccebea31",
   "metadata": {},
   "outputs": [],
   "source": [
    "del(var)"
   ]
  },
  {
   "cell_type": "code",
   "execution_count": 24,
   "id": "762b3c8f",
   "metadata": {},
   "outputs": [],
   "source": [
    "# var"
   ]
  },
  {
   "cell_type": "markdown",
   "id": "5a24e2ce",
   "metadata": {},
   "source": [
    "## Variables or Datatypes  \n",
    "<ol>\n",
    "  <li>tuple</li>\n",
    "  <li>list</li>\n",
    "  <li>dictionary</li>\n",
    "  <li>set</li>\n",
    "</ol>  \n",
    "\n",
    "</ul>\n",
    "    <li>() is for tuple  </li>\n",
    "    <li>[] is for list </li>\n",
    "    <li>{} is for dictionary</li>\n",
    "    <li>{} is for set</li>\n",
    "</ul>"
   ]
  },
  {
   "cell_type": "markdown",
   "id": "fafc1552",
   "metadata": {},
   "source": [
    "* Tuple is collection of data in a single dimension  which can be mixed type and it is IMUTABLE \n",
    "* IMUTABLE= it cannot be changed"
   ]
  },
  {
   "cell_type": "code",
   "execution_count": 25,
   "id": "5360a572",
   "metadata": {},
   "outputs": [],
   "source": [
    "tup1 = (10,20,30,56,\"june\",\"may\")"
   ]
  },
  {
   "cell_type": "code",
   "execution_count": 26,
   "id": "752787a4",
   "metadata": {},
   "outputs": [
    {
     "data": {
      "text/plain": [
       "tuple"
      ]
     },
     "execution_count": 26,
     "metadata": {},
     "output_type": "execute_result"
    }
   ],
   "source": [
    "type(tup1)"
   ]
  },
  {
   "cell_type": "code",
   "execution_count": 27,
   "id": "76ebe4a2",
   "metadata": {},
   "outputs": [
    {
     "data": {
      "text/plain": [
       "6"
      ]
     },
     "execution_count": 27,
     "metadata": {},
     "output_type": "execute_result"
    }
   ],
   "source": [
    "len(tup1) # how many records/elements "
   ]
  },
  {
   "cell_type": "code",
   "execution_count": 94,
   "id": "2b22b830",
   "metadata": {},
   "outputs": [
    {
     "data": {
      "text/plain": [
       "'june'"
      ]
     },
     "execution_count": 94,
     "metadata": {},
     "output_type": "execute_result"
    }
   ],
   "source": [
    "tup1[4]   # access element by index"
   ]
  },
  {
   "cell_type": "code",
   "execution_count": 95,
   "id": "8abedc01",
   "metadata": {},
   "outputs": [],
   "source": [
    "tup2 = (5,6,7,8,5,5,5,8,20, \"india\",\"class\",\"india\" )"
   ]
  },
  {
   "cell_type": "code",
   "execution_count": 96,
   "id": "25381758",
   "metadata": {},
   "outputs": [
    {
     "data": {
      "text/plain": [
       "12"
      ]
     },
     "execution_count": 96,
     "metadata": {},
     "output_type": "execute_result"
    }
   ],
   "source": [
    "len(tup2)"
   ]
  },
  {
   "cell_type": "code",
   "execution_count": 97,
   "id": "b6139154",
   "metadata": {},
   "outputs": [
    {
     "data": {
      "text/plain": [
       "tuple"
      ]
     },
     "execution_count": 97,
     "metadata": {},
     "output_type": "execute_result"
    }
   ],
   "source": [
    "type(tup2)"
   ]
  },
  {
   "cell_type": "code",
   "execution_count": 32,
   "id": "1fb71e25",
   "metadata": {},
   "outputs": [
    {
     "data": {
      "text/plain": [
       "4"
      ]
     },
     "execution_count": 32,
     "metadata": {},
     "output_type": "execute_result"
    }
   ],
   "source": [
    "tup2.count(5)"
   ]
  },
  {
   "cell_type": "code",
   "execution_count": 33,
   "id": "5a1405ec",
   "metadata": {},
   "outputs": [
    {
     "data": {
      "text/plain": [
       "9"
      ]
     },
     "execution_count": 33,
     "metadata": {},
     "output_type": "execute_result"
    }
   ],
   "source": [
    "tup2.index(\"india\")"
   ]
  },
  {
   "cell_type": "code",
   "execution_count": 34,
   "id": "e6232727",
   "metadata": {},
   "outputs": [],
   "source": [
    "# IMUTABLE  it cannot be changed (u can not be add a records u can  not delete a element)"
   ]
  },
  {
   "cell_type": "code",
   "execution_count": 35,
   "id": "3f456234",
   "metadata": {},
   "outputs": [],
   "source": [
    "# List is collection of data in a single dimension  which can be mixed type and it is MUTABLE \n",
    "# MUTABLE= it can be changed"
   ]
  },
  {
   "cell_type": "code",
   "execution_count": 36,
   "id": "3223375f",
   "metadata": {},
   "outputs": [],
   "source": [
    "t4 = [5,6,7,8,5,5,5,8,20, \"india\",\"class\",\"india\" ]"
   ]
  },
  {
   "cell_type": "code",
   "execution_count": 37,
   "id": "4e06ba96",
   "metadata": {},
   "outputs": [
    {
     "data": {
      "text/plain": [
       "list"
      ]
     },
     "execution_count": 37,
     "metadata": {},
     "output_type": "execute_result"
    }
   ],
   "source": [
    "type(t4)"
   ]
  },
  {
   "cell_type": "code",
   "execution_count": 38,
   "id": "4e6bbb64",
   "metadata": {},
   "outputs": [],
   "source": [
    "t4.append(\"america\")"
   ]
  },
  {
   "cell_type": "code",
   "execution_count": 39,
   "id": "7dead414",
   "metadata": {},
   "outputs": [
    {
     "name": "stdout",
     "output_type": "stream",
     "text": [
      "[5, 6, 7, 8, 5, 5, 5, 8, 20, 'india', 'class', 'india', 'america']\n"
     ]
    }
   ],
   "source": [
    "print(t4)"
   ]
  },
  {
   "cell_type": "code",
   "execution_count": 40,
   "id": "f41b186e",
   "metadata": {},
   "outputs": [
    {
     "data": {
      "text/plain": [
       "13"
      ]
     },
     "execution_count": 40,
     "metadata": {},
     "output_type": "execute_result"
    }
   ],
   "source": [
    "len(t4)"
   ]
  },
  {
   "cell_type": "code",
   "execution_count": 41,
   "id": "38c0ec1c",
   "metadata": {},
   "outputs": [],
   "source": [
    "t5 =[3,4,5,7,89,4,7,\"doller\",\"ruppes\"]"
   ]
  },
  {
   "cell_type": "code",
   "execution_count": 42,
   "id": "e7c91dbd",
   "metadata": {},
   "outputs": [
    {
     "name": "stdout",
     "output_type": "stream",
     "text": [
      "[3, 4, 5, 7, 89, 4, 7, 'doller', 'ruppes']\n"
     ]
    }
   ],
   "source": [
    "print(t5)"
   ]
  },
  {
   "cell_type": "code",
   "execution_count": 43,
   "id": "b4f19af8",
   "metadata": {},
   "outputs": [],
   "source": [
    "t5.append(\"ruppes\")"
   ]
  },
  {
   "cell_type": "code",
   "execution_count": 44,
   "id": "76f0c08f",
   "metadata": {},
   "outputs": [
    {
     "data": {
      "text/plain": [
       "[3, 4, 5, 7, 89, 4, 7, 'doller', 'ruppes', 'ruppes']"
      ]
     },
     "execution_count": 44,
     "metadata": {},
     "output_type": "execute_result"
    }
   ],
   "source": [
    "t5"
   ]
  },
  {
   "cell_type": "code",
   "execution_count": 45,
   "id": "74c81f12",
   "metadata": {},
   "outputs": [
    {
     "data": {
      "text/plain": [
       "2"
      ]
     },
     "execution_count": 45,
     "metadata": {},
     "output_type": "execute_result"
    }
   ],
   "source": [
    "t5.count(4)"
   ]
  },
  {
   "cell_type": "code",
   "execution_count": 46,
   "id": "b9fef795",
   "metadata": {},
   "outputs": [],
   "source": [
    "t5.insert(4,30) # what do want to add , and at what position "
   ]
  },
  {
   "cell_type": "code",
   "execution_count": 47,
   "id": "b2e7e6fd",
   "metadata": {},
   "outputs": [
    {
     "data": {
      "text/plain": [
       "[3, 4, 5, 7, 30, 89, 4, 7, 'doller', 'ruppes', 'ruppes']"
      ]
     },
     "execution_count": 47,
     "metadata": {},
     "output_type": "execute_result"
    }
   ],
   "source": [
    "t5"
   ]
  },
  {
   "cell_type": "code",
   "execution_count": 48,
   "id": "27f61fcf",
   "metadata": {},
   "outputs": [
    {
     "data": {
      "text/plain": [
       "4"
      ]
     },
     "execution_count": 48,
     "metadata": {},
     "output_type": "execute_result"
    }
   ],
   "source": [
    "t5.pop()\n",
    "t5.pop(1)\n"
   ]
  },
  {
   "cell_type": "code",
   "execution_count": 49,
   "id": "167d31ae",
   "metadata": {},
   "outputs": [
    {
     "data": {
      "text/plain": [
       "[3, 5, 7, 30, 89, 4, 7, 'doller', 'ruppes']"
      ]
     },
     "execution_count": 49,
     "metadata": {},
     "output_type": "execute_result"
    }
   ],
   "source": [
    "t5\n"
   ]
  },
  {
   "cell_type": "code",
   "execution_count": 50,
   "id": "52d7536f",
   "metadata": {},
   "outputs": [],
   "source": [
    "l1 = [\"a\",\"b\",\"c\",\"d\"]"
   ]
  },
  {
   "cell_type": "code",
   "execution_count": 51,
   "id": "a0c22ca1",
   "metadata": {},
   "outputs": [],
   "source": [
    "l1.clear()"
   ]
  },
  {
   "cell_type": "code",
   "execution_count": 52,
   "id": "8ce6f633",
   "metadata": {},
   "outputs": [
    {
     "data": {
      "text/plain": [
       "[]"
      ]
     },
     "execution_count": 52,
     "metadata": {},
     "output_type": "execute_result"
    }
   ],
   "source": [
    "l1"
   ]
  },
  {
   "cell_type": "code",
   "execution_count": 53,
   "id": "05bca7bd",
   "metadata": {},
   "outputs": [],
   "source": [
    "l2 = [1,23,3,4,5]\n"
   ]
  },
  {
   "cell_type": "code",
   "execution_count": 54,
   "id": "e1155dd5",
   "metadata": {},
   "outputs": [
    {
     "data": {
      "text/plain": [
       "[5, 4, 3, 23, 1]"
      ]
     },
     "execution_count": 54,
     "metadata": {},
     "output_type": "execute_result"
    }
   ],
   "source": [
    "l2.reverse()\n",
    "l2"
   ]
  },
  {
   "cell_type": "code",
   "execution_count": 55,
   "id": "c4608523",
   "metadata": {},
   "outputs": [
    {
     "data": {
      "text/plain": [
       "[23, 5, 4, 3, 1]"
      ]
     },
     "execution_count": 55,
     "metadata": {},
     "output_type": "execute_result"
    }
   ],
   "source": [
    "l2.sort(reverse = True)\n",
    "l2"
   ]
  },
  {
   "cell_type": "code",
   "execution_count": 56,
   "id": "37ae4a81",
   "metadata": {},
   "outputs": [],
   "source": [
    "l4 = [5,3,2,20]\n"
   ]
  },
  {
   "cell_type": "code",
   "execution_count": 57,
   "id": "a1acff7a",
   "metadata": {},
   "outputs": [
    {
     "data": {
      "text/plain": [
       "[23, 5, 4, 3, 1, 5, 3, 2, 20]"
      ]
     },
     "execution_count": 57,
     "metadata": {},
     "output_type": "execute_result"
    }
   ],
   "source": [
    "l2.extend(l4)\n",
    "l2"
   ]
  },
  {
   "cell_type": "markdown",
   "id": "df2919ff",
   "metadata": {},
   "source": [
    "## Dictionaries\n",
    "1. is used to store data in key value format and dict can be used to create the data frame "
   ]
  },
  {
   "cell_type": "code",
   "execution_count": 59,
   "id": "30aba4fa",
   "metadata": {},
   "outputs": [],
   "source": [
    "d1 = {'name':'mra', 'salary': 2134}\n"
   ]
  },
  {
   "cell_type": "code",
   "execution_count": 60,
   "id": "29e7a16a",
   "metadata": {},
   "outputs": [
    {
     "data": {
      "text/plain": [
       "dict_keys(['name', 'salary'])"
      ]
     },
     "execution_count": 60,
     "metadata": {},
     "output_type": "execute_result"
    }
   ],
   "source": [
    "d1.keys()"
   ]
  },
  {
   "cell_type": "code",
   "execution_count": 61,
   "id": "8ac7e2f2",
   "metadata": {},
   "outputs": [
    {
     "data": {
      "text/plain": [
       "dict_values(['mra', 2134])"
      ]
     },
     "execution_count": 61,
     "metadata": {},
     "output_type": "execute_result"
    }
   ],
   "source": [
    "d1.values()"
   ]
  },
  {
   "cell_type": "code",
   "execution_count": 62,
   "id": "5b75b3b8",
   "metadata": {},
   "outputs": [],
   "source": [
    "d2 = {'emp_name':(\"mra\",\"cra\",\"dra\",\"fsd\",\"asd\"),\n",
    "      \"age\":(31,25,23,34,21),\n",
    "     \"salary\":(2112,123,1232,2312,12142)}"
   ]
  },
  {
   "cell_type": "code",
   "execution_count": 63,
   "id": "7856bec3",
   "metadata": {},
   "outputs": [
    {
     "data": {
      "text/plain": [
       "dict_keys(['emp_name', 'age', 'salary'])"
      ]
     },
     "execution_count": 63,
     "metadata": {},
     "output_type": "execute_result"
    }
   ],
   "source": [
    "d2.keys()"
   ]
  },
  {
   "cell_type": "code",
   "execution_count": 64,
   "id": "0a417c7a",
   "metadata": {},
   "outputs": [
    {
     "data": {
      "text/plain": [
       "dict_values([('mra', 'cra', 'dra', 'fsd', 'asd'), (31, 25, 23, 34, 21), (2112, 123, 1232, 2312, 12142)])"
      ]
     },
     "execution_count": 64,
     "metadata": {},
     "output_type": "execute_result"
    }
   ],
   "source": [
    "d2.values()\n"
   ]
  },
  {
   "cell_type": "code",
   "execution_count": 65,
   "id": "addec2c7",
   "metadata": {
    "scrolled": true
   },
   "outputs": [
    {
     "data": {
      "text/plain": [
       "{'emp_name': ('mra', 'cra', 'dra', 'fsd', 'asd'),\n",
       " 'age': (31, 25, 23, 34, 21),\n",
       " 'salary': (2112, 123, 1232, 2312, 12142)}"
      ]
     },
     "execution_count": 65,
     "metadata": {},
     "output_type": "execute_result"
    }
   ],
   "source": [
    "d2 #into a table (rows and columns)"
   ]
  },
  {
   "cell_type": "markdown",
   "id": "c9f6dd0f",
   "metadata": {},
   "source": [
    "## Pandas "
   ]
  },
  {
   "cell_type": "code",
   "execution_count": 66,
   "id": "6059dda0",
   "metadata": {},
   "outputs": [],
   "source": [
    "import pandas as pd "
   ]
  },
  {
   "cell_type": "code",
   "execution_count": 67,
   "id": "da065a46",
   "metadata": {},
   "outputs": [],
   "source": [
    "em_data = pd.DataFrame(d2)"
   ]
  },
  {
   "cell_type": "code",
   "execution_count": 68,
   "id": "e93827fd",
   "metadata": {},
   "outputs": [
    {
     "data": {
      "text/html": [
       "<div>\n",
       "<style scoped>\n",
       "    .dataframe tbody tr th:only-of-type {\n",
       "        vertical-align: middle;\n",
       "    }\n",
       "\n",
       "    .dataframe tbody tr th {\n",
       "        vertical-align: top;\n",
       "    }\n",
       "\n",
       "    .dataframe thead th {\n",
       "        text-align: right;\n",
       "    }\n",
       "</style>\n",
       "<table border=\"1\" class=\"dataframe\">\n",
       "  <thead>\n",
       "    <tr style=\"text-align: right;\">\n",
       "      <th></th>\n",
       "      <th>emp_name</th>\n",
       "      <th>age</th>\n",
       "      <th>salary</th>\n",
       "    </tr>\n",
       "  </thead>\n",
       "  <tbody>\n",
       "    <tr>\n",
       "      <th>0</th>\n",
       "      <td>mra</td>\n",
       "      <td>31</td>\n",
       "      <td>2112</td>\n",
       "    </tr>\n",
       "    <tr>\n",
       "      <th>1</th>\n",
       "      <td>cra</td>\n",
       "      <td>25</td>\n",
       "      <td>123</td>\n",
       "    </tr>\n",
       "    <tr>\n",
       "      <th>2</th>\n",
       "      <td>dra</td>\n",
       "      <td>23</td>\n",
       "      <td>1232</td>\n",
       "    </tr>\n",
       "    <tr>\n",
       "      <th>3</th>\n",
       "      <td>fsd</td>\n",
       "      <td>34</td>\n",
       "      <td>2312</td>\n",
       "    </tr>\n",
       "    <tr>\n",
       "      <th>4</th>\n",
       "      <td>asd</td>\n",
       "      <td>21</td>\n",
       "      <td>12142</td>\n",
       "    </tr>\n",
       "  </tbody>\n",
       "</table>\n",
       "</div>"
      ],
      "text/plain": [
       "  emp_name  age  salary\n",
       "0      mra   31    2112\n",
       "1      cra   25     123\n",
       "2      dra   23    1232\n",
       "3      fsd   34    2312\n",
       "4      asd   21   12142"
      ]
     },
     "execution_count": 68,
     "metadata": {},
     "output_type": "execute_result"
    }
   ],
   "source": [
    "em_data"
   ]
  },
  {
   "cell_type": "code",
   "execution_count": 69,
   "id": "f8eabd77",
   "metadata": {},
   "outputs": [
    {
     "data": {
      "text/plain": [
       "pandas.core.frame.DataFrame"
      ]
     },
     "execution_count": 69,
     "metadata": {},
     "output_type": "execute_result"
    }
   ],
   "source": [
    "type(em_data)"
   ]
  },
  {
   "cell_type": "markdown",
   "id": "1dadb2c5",
   "metadata": {},
   "source": [
    "# Set \n",
    "1. set is reprenstation of data in one dim , which cannot be duplicate (it has to be unique)\n",
    "2. indexing cannot be performed on SET\n"
   ]
  },
  {
   "cell_type": "code",
   "execution_count": 71,
   "id": "ae74a3ae",
   "metadata": {},
   "outputs": [],
   "source": [
    "s1 = set([3,3,54,43,23])"
   ]
  },
  {
   "cell_type": "code",
   "execution_count": 72,
   "id": "df9af303",
   "metadata": {},
   "outputs": [
    {
     "data": {
      "text/plain": [
       "set"
      ]
     },
     "execution_count": 72,
     "metadata": {},
     "output_type": "execute_result"
    }
   ],
   "source": [
    "type(s1)"
   ]
  },
  {
   "cell_type": "code",
   "execution_count": 73,
   "id": "0410524c",
   "metadata": {},
   "outputs": [
    {
     "data": {
      "text/plain": [
       "{3, 23, 43, 54}"
      ]
     },
     "execution_count": 73,
     "metadata": {},
     "output_type": "execute_result"
    }
   ],
   "source": [
    "s1\n"
   ]
  },
  {
   "cell_type": "markdown",
   "id": "12859e91",
   "metadata": {},
   "source": [
    "# .fromat printing"
   ]
  },
  {
   "cell_type": "code",
   "execution_count": 74,
   "id": "36a9c680",
   "metadata": {},
   "outputs": [
    {
     "name": "stdout",
     "output_type": "stream",
     "text": [
      "name of the person : mohan and his sal is 23212\n"
     ]
    }
   ],
   "source": [
    "name = \"mohan\"\n",
    "sal = 23212\n",
    "print(\"name of the person : {} and his sal is {}\" .format(name,sal))\n"
   ]
  },
  {
   "cell_type": "code",
   "execution_count": 75,
   "id": "53de3425",
   "metadata": {},
   "outputs": [
    {
     "name": "stdout",
     "output_type": "stream",
     "text": [
      "name of the person : mohan and his sal is mohan\n"
     ]
    }
   ],
   "source": [
    "name = \"mohan\"\n",
    "sal = 23212\n",
    "print(\"name of the person : {0} and his sal is {0}\" .format(name,sal))"
   ]
  },
  {
   "cell_type": "code",
   "execution_count": 76,
   "id": "6d14e4cc",
   "metadata": {},
   "outputs": [
    {
     "ename": "IndexError",
     "evalue": "Replacement index 2 out of range for positional args tuple",
     "output_type": "error",
     "traceback": [
      "\u001b[1;31m---------------------------------------------------------------------------\u001b[0m",
      "\u001b[1;31mIndexError\u001b[0m                                Traceback (most recent call last)",
      "\u001b[1;32m~\\AppData\\Local\\Temp\\ipykernel_27680\\2802173416.py\u001b[0m in \u001b[0;36m<module>\u001b[1;34m\u001b[0m\n\u001b[0;32m      1\u001b[0m \u001b[0mname\u001b[0m \u001b[1;33m=\u001b[0m \u001b[1;34m\"mohan\"\u001b[0m\u001b[1;33m\u001b[0m\u001b[1;33m\u001b[0m\u001b[0m\n\u001b[0;32m      2\u001b[0m \u001b[0msal\u001b[0m \u001b[1;33m=\u001b[0m \u001b[1;36m23212\u001b[0m\u001b[1;33m\u001b[0m\u001b[1;33m\u001b[0m\u001b[0m\n\u001b[1;32m----> 3\u001b[1;33m \u001b[0mprint\u001b[0m\u001b[1;33m(\u001b[0m\u001b[1;34m\"name of the person : {} and his sal is {} is greter than {}\"\u001b[0m \u001b[1;33m.\u001b[0m\u001b[0mformat\u001b[0m\u001b[1;33m(\u001b[0m\u001b[0mname\u001b[0m\u001b[1;33m,\u001b[0m\u001b[0msal\u001b[0m\u001b[1;33m)\u001b[0m\u001b[1;33m)\u001b[0m\u001b[1;33m\u001b[0m\u001b[1;33m\u001b[0m\u001b[0m\n\u001b[0m",
      "\u001b[1;31mIndexError\u001b[0m: Replacement index 2 out of range for positional args tuple"
     ]
    }
   ],
   "source": [
    "name = \"mohan\"\n",
    "sal = 23212\n",
    "print(\"name of the person : {} and his sal is {} is greter than {}\" .format(name,sal))"
   ]
  },
  {
   "cell_type": "code",
   "execution_count": 77,
   "id": "3173d6be",
   "metadata": {},
   "outputs": [
    {
     "name": "stdout",
     "output_type": "stream",
     "text": [
      "name of the person : mohan and his sal is 23212 is greter than 23212\n"
     ]
    }
   ],
   "source": [
    "name = \"mohan\"\n",
    "sal = 23212\n",
    "print(\"name of the person : {} and his sal is {} is greter than {}\" .format(name,sal,sal))"
   ]
  },
  {
   "cell_type": "code",
   "execution_count": 78,
   "id": "efc0bbb5",
   "metadata": {},
   "outputs": [],
   "source": [
    "city = \"pune\""
   ]
  },
  {
   "cell_type": "code",
   "execution_count": 79,
   "id": "622df1ae",
   "metadata": {},
   "outputs": [
    {
     "data": {
      "text/plain": [
       "str"
      ]
     },
     "execution_count": 79,
     "metadata": {},
     "output_type": "execute_result"
    }
   ],
   "source": [
    "type(city)"
   ]
  },
  {
   "cell_type": "code",
   "execution_count": 80,
   "id": "6530155d",
   "metadata": {},
   "outputs": [
    {
     "data": {
      "text/plain": [
       "'Pune'"
      ]
     },
     "execution_count": 80,
     "metadata": {},
     "output_type": "execute_result"
    }
   ],
   "source": [
    "city.capitalize()"
   ]
  },
  {
   "cell_type": "code",
   "execution_count": 81,
   "id": "80839598",
   "metadata": {},
   "outputs": [
    {
     "data": {
      "text/plain": [
       "'PUNE'"
      ]
     },
     "execution_count": 81,
     "metadata": {},
     "output_type": "execute_result"
    }
   ],
   "source": [
    "city.upper()"
   ]
  },
  {
   "cell_type": "code",
   "execution_count": 82,
   "id": "77ba7720",
   "metadata": {},
   "outputs": [],
   "source": [
    "city =  city.upper()"
   ]
  },
  {
   "cell_type": "code",
   "execution_count": 83,
   "id": "e55f9227",
   "metadata": {},
   "outputs": [
    {
     "data": {
      "text/plain": [
       "'PUNE'"
      ]
     },
     "execution_count": 83,
     "metadata": {},
     "output_type": "execute_result"
    }
   ],
   "source": [
    "city"
   ]
  },
  {
   "cell_type": "code",
   "execution_count": 84,
   "id": "f3d8c6b4",
   "metadata": {},
   "outputs": [],
   "source": [
    "l6 = [1,3,3,2,2]"
   ]
  },
  {
   "cell_type": "code",
   "execution_count": 85,
   "id": "e83443b1",
   "metadata": {},
   "outputs": [],
   "source": [
    "l6.append(12)  # inplace"
   ]
  },
  {
   "cell_type": "code",
   "execution_count": 86,
   "id": "fa4ffa56",
   "metadata": {},
   "outputs": [],
   "source": [
    "l6 = l6.append(12) # data vanished"
   ]
  },
  {
   "cell_type": "code",
   "execution_count": 87,
   "id": "9a9ecc36",
   "metadata": {},
   "outputs": [],
   "source": [
    "l6"
   ]
  },
  {
   "cell_type": "code",
   "execution_count": 88,
   "id": "53e5ec31",
   "metadata": {},
   "outputs": [],
   "source": [
    "c1 ='mumbai'"
   ]
  },
  {
   "cell_type": "code",
   "execution_count": 89,
   "id": "f132330d",
   "metadata": {},
   "outputs": [
    {
     "data": {
      "text/plain": [
       "'mumbai'"
      ]
     },
     "execution_count": 89,
     "metadata": {},
     "output_type": "execute_result"
    }
   ],
   "source": [
    "c1.lower()"
   ]
  },
  {
   "cell_type": "markdown",
   "id": "ced015a9",
   "metadata": {},
   "source": [
    "* Python is an interpreted, interactive, object-oriented programming language\n",
    "* every thing is an object ,object is created first based on type of object function  / method are attached to it"
   ]
  },
  {
   "cell_type": "markdown",
   "id": "861c702f",
   "metadata": {},
   "source": [
    "#### Create a class named Person, use the __init__() function to assign values for name and age:"
   ]
  },
  {
   "cell_type": "code",
   "execution_count": 91,
   "id": "585048c3",
   "metadata": {},
   "outputs": [
    {
     "name": "stdout",
     "output_type": "stream",
     "text": [
      "100mph\n",
      "red\n"
     ]
    }
   ],
   "source": [
    "class Car :\n",
    "    def __init__(self, color, speed):\n",
    "        self.color = color\n",
    "        self.speed = speed\n",
    "car = Car('red','100mph')\n",
    "print(car.speed)\n",
    "print(car.color)\n",
    "#=> '100mph'"
   ]
  },
  {
   "cell_type": "code",
   "execution_count": null,
   "id": "7848cac9",
   "metadata": {},
   "outputs": [],
   "source": []
  }
 ],
 "metadata": {
  "kernelspec": {
   "display_name": "Python 3 (ipykernel)",
   "language": "python",
   "name": "python3"
  },
  "language_info": {
   "codemirror_mode": {
    "name": "ipython",
    "version": 3
   },
   "file_extension": ".py",
   "mimetype": "text/x-python",
   "name": "python",
   "nbconvert_exporter": "python",
   "pygments_lexer": "ipython3",
   "version": "3.8.13"
  }
 },
 "nbformat": 4,
 "nbformat_minor": 5
}
