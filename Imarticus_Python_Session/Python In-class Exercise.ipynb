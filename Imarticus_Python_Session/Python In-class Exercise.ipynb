{
 "cells": [
  {
   "cell_type": "markdown",
   "metadata": {},
   "source": [
    "# Python In-class Exercise"
   ]
  },
  {
   "cell_type": "markdown",
   "metadata": {},
   "source": [
    "### 1. Write a program to check whether an year entered by an user is leap year or not"
   ]
  },
  {
   "cell_type": "code",
   "execution_count": 1,
   "metadata": {},
   "outputs": [
    {
     "name": "stdout",
     "output_type": "stream",
     "text": [
      "Enter a year: 2022\n",
      "2022 is not a leap year\n"
     ]
    }
   ],
   "source": [
    "# to check whether a given year is leap year or not\n",
    "in_year = int(input(\"Enter a year: \")) # take input from user\n",
    " \n",
    "if (in_year % 4) == 0:\n",
    "    if (in_year % 100) == 0: \n",
    "        if (in_year % 400) == 0: # condition for century year\n",
    "            print( str(in_year)+\" is a leap year\")\n",
    "        else:\n",
    "            print( str(in_year)+\" is not a leap year\")\n",
    "    else:\n",
    "        print( str(in_year)+\" is a leap year\")\n",
    "else:\n",
    "    print( str(in_year)+\" is not a leap year\")"
   ]
  },
  {
   "cell_type": "markdown",
   "metadata": {},
   "source": [
    "### 2. Take a string containing punctuation marks as an input from user and write a program to remove all the  punctuation marks from a string"
   ]
  },
  {
   "cell_type": "code",
   "execution_count": 3,
   "metadata": {},
   "outputs": [
    {
     "name": "stdout",
     "output_type": "stream",
     "text": [
      "Enter a string: Shreyas@ind#98\n",
      "Shreyasind98\n"
     ]
    }
   ],
   "source": [
    "# define all the punctuations you could thik of\n",
    "punctuations = '''!()-[]{};:'\"\\,<>./?@#$%^&*_~''' \n",
    "input_str = input(\"Enter a string: \")\n",
    "\n",
    "# remove punctuation from the string\n",
    "no_punct = \"\"\n",
    "for char in input_str:\n",
    "    if char not in punctuations:\n",
    "        no_punct = no_punct + char\n",
    "\n",
    "# display the unpunctuated string\n",
    "print(no_punct)"
   ]
  },
  {
   "cell_type": "markdown",
   "metadata": {},
   "source": [
    "### 3. Take two separate numbers as input from the user and Write a program to swap 2 numbers without using temporary variable"
   ]
  },
  {
   "cell_type": "code",
   "execution_count": 4,
   "metadata": {},
   "outputs": [
    {
     "name": "stdout",
     "output_type": "stream",
     "text": [
      "Enter the Number-1 = 12\n",
      "Enter the Number-2 = 34\n",
      "After swapping :\n",
      " Number-1 = 34 \n",
      " Number-2 = 12\n"
     ]
    }
   ],
   "source": [
    "num1 = int(input(\"Enter the Number-1 = \")) #taking number 1 and number 2 from user\n",
    "num2 = int(input(\"Enter the Number-2 = \")) #taking number 1 and number 2 from user\n",
    "\n",
    "\n",
    "num1 = num1 + num2\n",
    "num2 = num1 - num2\n",
    "num1 = num1 - num2\n",
    "\n",
    "print(\"After swapping :\\n Number-1 =\",num1, \"\\n Number-2 =\",num2)"
   ]
  },
  {
   "cell_type": "markdown",
   "metadata": {},
   "source": [
    "### 4. Write a program to print product of following variables\n",
    "<br> integer = 10 \n",
    "<br> string = \"15\""
   ]
  },
  {
   "cell_type": "code",
   "execution_count": 5,
   "metadata": {},
   "outputs": [
    {
     "name": "stdout",
     "output_type": "stream",
     "text": [
      "150\n"
     ]
    }
   ],
   "source": [
    "integer = 10\n",
    "\n",
    "string = \"15\"\n",
    "\n",
    "str_num = int(string)\n",
    "\n",
    "product = integer * str_num\n",
    "\n",
    "print(product)"
   ]
  },
  {
   "cell_type": "markdown",
   "metadata": {},
   "source": [
    "### 5. Write a program to print following pattern\n",
    "<br>a\n",
    "<br>b c\n",
    "<br>d e f\n",
    "<br>g h i j\n",
    "<br>k l m n o\n",
    "<br>p q r s t u"
   ]
  },
  {
   "cell_type": "code",
   "execution_count": 6,
   "metadata": {},
   "outputs": [
    {
     "name": "stdout",
     "output_type": "stream",
     "text": [
      "a  \n",
      "b c  \n",
      "d e f  \n",
      "g h i j  \n",
      "k l m n o  \n",
      "p q r s t u  \n"
     ]
    }
   ],
   "source": [
    "number = 6\n",
    "Ascii_value = 97\n",
    "for i in range(0, number):\n",
    "    for j in range(0, i+1):\n",
    "        character  = chr(Ascii_value)\n",
    "        print(character, end=' ')\n",
    "        Ascii_value+=1\n",
    "    print(\" \")"
   ]
  },
  {
   "cell_type": "markdown",
   "metadata": {},
   "source": [
    "### 6. Write a program to print tables from 2 to n, where n is provided by user"
   ]
  },
  {
   "cell_type": "code",
   "execution_count": 7,
   "metadata": {},
   "outputs": [
    {
     "name": "stdout",
     "output_type": "stream",
     "text": [
      "Enter a number in range: 5\n",
      "2  X  1  =  2\n",
      "2  X  2  =  4\n",
      "2  X  3  =  6\n",
      "2  X  4  =  8\n",
      "2  X  5  =  10\n",
      "2  X  6  =  12\n",
      "2  X  7  =  14\n",
      "2  X  8  =  16\n",
      "2  X  9  =  18\n",
      "2  X  10  =  20\n",
      "\n",
      "\n",
      "3  X  1  =  3\n",
      "3  X  2  =  6\n",
      "3  X  3  =  9\n",
      "3  X  4  =  12\n",
      "3  X  5  =  15\n",
      "3  X  6  =  18\n",
      "3  X  7  =  21\n",
      "3  X  8  =  24\n",
      "3  X  9  =  27\n",
      "3  X  10  =  30\n",
      "\n",
      "\n",
      "4  X  1  =  4\n",
      "4  X  2  =  8\n",
      "4  X  3  =  12\n",
      "4  X  4  =  16\n",
      "4  X  5  =  20\n",
      "4  X  6  =  24\n",
      "4  X  7  =  28\n",
      "4  X  8  =  32\n",
      "4  X  9  =  36\n",
      "4  X  10  =  40\n",
      "\n",
      "\n",
      "5  X  1  =  5\n",
      "5  X  2  =  10\n",
      "5  X  3  =  15\n",
      "5  X  4  =  20\n",
      "5  X  5  =  25\n",
      "5  X  6  =  30\n",
      "5  X  7  =  35\n",
      "5  X  8  =  40\n",
      "5  X  9  =  45\n",
      "5  X  10  =  50\n",
      "\n",
      "\n"
     ]
    }
   ],
   "source": [
    "range_num = int(input('Enter a number in range: '))\n",
    "\n",
    "for n in range(2 , range_num + 1):\n",
    "    for i in range(1,11):\n",
    "        print(n, ' X ', i, ' = ', n*i)\n",
    "    print(\"\\n\")"
   ]
  },
  {
   "cell_type": "markdown",
   "metadata": {},
   "source": [
    "### 7. Write a program to read height (in centimeters) from user and then convert it to feet and inches"
   ]
  },
  {
   "cell_type": "code",
   "execution_count": 8,
   "metadata": {},
   "outputs": [
    {
     "name": "stdout",
     "output_type": "stream",
     "text": [
      "Enter the height in centimeters:80\n",
      "The length in inches 31.5\n",
      "The length in feet 2.62\n"
     ]
    }
   ],
   "source": [
    "height = int(input(\"Enter the height in centimeters:\"))\n",
    "\n",
    "# write the conversion formulae\n",
    "inches = 0.3937*height\n",
    "feet = 0.0328*height\n",
    "print(\"The length in inches\", round(inches,2))\n",
    "print(\"The length in feet\", round(feet,2))"
   ]
  },
  {
   "cell_type": "markdown",
   "metadata": {},
   "source": [
    "### 8. Write a program to print following pattern"
   ]
  },
  {
   "cell_type": "markdown",
   "metadata": {},
   "source": [
    "                                                *\n",
    "                                                * * \n",
    "                                                * * *\n",
    "                                                * *\n",
    "                                                *"
   ]
  },
  {
   "cell_type": "code",
   "execution_count": 9,
   "metadata": {},
   "outputs": [
    {
     "name": "stdout",
     "output_type": "stream",
     "text": [
      "* \r\n",
      "* * \r\n",
      "* * * \r\n",
      "* * \r\n",
      "* \r\n",
      "\r\n"
     ]
    }
   ],
   "source": [
    "# first print the 3 rows in the pattern using for loop\n",
    "for i in range (0, 3):\n",
    "    for j in range(0, i+1):\n",
    "        print(\"*\", end=' ')\n",
    "    print(\"\\r\")                 # '\\r' is used to print on the next row\n",
    "\n",
    "# print the last two rows in the pattern using for loop\n",
    "for i in range(3, 0, -1):\n",
    "    for j in range(0, i-1):\n",
    "        print(\"*\", end=' ')\n",
    "    print(\"\\r\")"
   ]
  },
  {
   "cell_type": "markdown",
   "metadata": {},
   "source": [
    "### 9. Below list contains age and name of five students. Convert the list into a dictionary such that the name is taken as key and the age before their name is taken as thier respective value in the dictionary"
   ]
  },
  {
   "cell_type": "markdown",
   "metadata": {},
   "source": [
    "students = [26,'Jon',34,'Roger',13,'Jessica',24,'Monica',65,'Ashton']\n",
    "Output: {'Jon':26, 'Roger':34, 'Jessica':13, 'Monica':24, 'Ashton':65}"
   ]
  },
  {
   "cell_type": "code",
   "execution_count": 10,
   "metadata": {},
   "outputs": [
    {
     "name": "stdout",
     "output_type": "stream",
     "text": [
      "{'Jon': 26, 'Roger': 34, 'Jessica': 13, 'Monica': 24, 'Ashton': 65}\n"
     ]
    }
   ],
   "source": [
    "students = [26,'Jon',34,'Roger',13,'Jessica',24,'Monica',65,'Ashton']\n",
    "\n",
    "# create an empty dictionary\n",
    "d={}    \n",
    "\n",
    "# iterate a loop such that value of i will be a difference of 2. i.e i = 0,2,4,6,8\n",
    "for i in range(0,len(students),2):     \n",
    "    d[students[i+1]] = students[i]      # lst[i] will give all the elements at indices 0,2,4,6,8. \n",
    "                              # lst[i+1] will give all the elements at indices 1,3,5,7,9.\n",
    "\n",
    "# print the output dictionary\n",
    "print(d)    "
   ]
  },
  {
   "cell_type": "markdown",
   "metadata": {},
   "source": [
    "### 10. Write a program to check whether two strings, taken from user, are anagram or not"
   ]
  },
  {
   "cell_type": "code",
   "execution_count": 12,
   "metadata": {},
   "outputs": [
    {
     "name": "stdout",
     "output_type": "stream",
     "text": [
      "Enter a string : pop\n",
      "Enter a string : oop\n",
      "The strings are not anagrams\n"
     ]
    }
   ],
   "source": [
    "s1 = str(input(\"Enter a string : \"))\n",
    "s2 = str(input(\"Enter a string : \"))\n",
    "\n",
    "if(sorted(s1.lower())== sorted(s2.lower())): \n",
    "    print(\"The strings are anagrams\")  \n",
    "else: \n",
    "    print(\"The strings are not anagrams\")"
   ]
  },
  {
   "cell_type": "markdown",
   "metadata": {},
   "source": [
    "### 11. Write a program that sorts all the elements of the list according to the first letter, irrespective of their cases (uppercase or lowercase). Note: Do not use any inbuilt sorting function"
   ]
  },
  {
   "cell_type": "code",
   "execution_count": 13,
   "metadata": {},
   "outputs": [
    {
     "name": "stdout",
     "output_type": "stream",
     "text": [
      "['C', 'c++', 'data science', 'Hadoop', 'python', 'Scala']\n"
     ]
    }
   ],
   "source": [
    "courses = ['python', 'Hadoop', 'data science', 'Scala', 'C', 'c++']\n",
    "s = ' '\n",
    "for i in range(len(courses)):      # Iterating through the list\n",
    "    for j in range(i+1, len(courses)):      # Iterating through the same list but with indices i+1\n",
    "        if(courses[i][0].lower() > courses[j][0].lower()):    # Comparing the first characters of the words at index i and i+1. \n",
    "            courses[i], courses[j] = courses[j], courses[i]     # Swapping the words position if the above condition is met.\n",
    "\n",
    "print(courses)   "
   ]
  },
  {
   "cell_type": "markdown",
   "metadata": {},
   "source": [
    "### 12. Write a program that prints a list of sour fruits from the below tuple:\n",
    "<br>fruits = (('Lemon','sour'), ('DragonFruit', 'Sweet'), ('Grapes','soUr'), ('Kiwi','Sour'), ('Apples','sweet'), ('Orange','sour'), ('Blueberries','sweet'), ('Limes','Sour') ) \n",
    "\n",
    "<br>**Output**: Sour Fruits: ['Lemon', 'Grapes', 'Kiwi', 'Orange', 'Limes']"
   ]
  },
  {
   "cell_type": "code",
   "execution_count": 14,
   "metadata": {},
   "outputs": [
    {
     "name": "stdout",
     "output_type": "stream",
     "text": [
      "Sour Fruits:  ['Orange', 'Green Mango', 'Kiwi', 'Raspberry', 'Pineapple']\n"
     ]
    }
   ],
   "source": [
    "fruits = (('Orange','Sour'),\n",
    "          ('Green Mango', 'Sour'),\n",
    "          ('Papaya','sweet'),\n",
    "          ('Kiwi','Sour'),\n",
    "          ('Apples','sweet'),\n",
    "          ('Banana','sweet'),\n",
    "          ('Raspberry','sour'),\n",
    "          ('Pineapple','Sour')\n",
    "          )                              # Tuple containing fruits and their corresponding taste\n",
    "sour = []                                # Empty list to append sour fruits output\n",
    "fruits_dict = dict(fruits)               # Converting the tuple into dictionary\n",
    "\n",
    "for fruit in fruits_dict:                # Iterating fruits i.e. keys from the dictionary\n",
    "    taste = fruits_dict[fruit].lower()   # Converting uppercase words to lowercase\n",
    "    if taste == 'sour':                  # Comparing if taste is sour\n",
    "        sour.append(fruit)               # Append the sour fruits to the list\n",
    "\n",
    "print('Sour Fruits: ',sour) "
   ]
  },
  {
   "cell_type": "markdown",
   "metadata": {},
   "source": [
    "### 13. Given below are the list of positive and negative words. Also a list of tweets is provided. Separate out the positive and negative comments"
   ]
  },
  {
   "cell_type": "markdown",
   "metadata": {},
   "source": [
    "<br>positive = ['good','awesome', 'best', 'nice']\n",
    "\n",
    "<br>negative = ['worst','awful', 'bad']\n",
    "\n",
    "<br>tweets = ['This government policies are good', \n",
    "'bad implementation', 'The way he played showed that he is one of the best players in the world', 'Her acting in the play was awesome', 'The wine tastes awful', 'It's nice to hear this little kid's laugh']"
   ]
  },
  {
   "cell_type": "code",
   "execution_count": 15,
   "metadata": {},
   "outputs": [
    {
     "name": "stdout",
     "output_type": "stream",
     "text": [
      "Positive Sentiment:  ['This government policies are good', 'The way he played showed that he is one of the best players in the world', 'Her acting in the play was awesome', \"It's nice to hear this little kid's laugh\"]\n",
      "\n",
      "Negative Sentiment:  ['bad implementation', 'The wine tastes awful', 'The service here is extremly bad']\n"
     ]
    }
   ],
   "source": [
    "positive = ['good','awesome', 'best', 'nice']     \n",
    "negative = ['worst','awful', 'bad']                      \n",
    "\n",
    "positive_sentiment = []                           # Empty list for storing sentences having positive sentiment\n",
    "negative_sentiment = []                           # Empty list for storing sentences having negative sentiment\n",
    "\n",
    "tweets = ['This government policies are good', \n",
    "            'bad implementation', \n",
    "            'The way he played showed that he is one of the best players in the world', \n",
    "            'Her acting in the play was awesome', 'The wine tastes awful', \n",
    "            \"It's nice to hear this little kid's laugh\",\n",
    "          \"The service here is extremly bad\"\n",
    "         ]        \n",
    "\n",
    "\n",
    "for sentence in tweets:                             # Iterating sentencesfrom the list lst\n",
    "    for pos in positive:                              # Iterating words from the list po_sent\n",
    "        if pos in sentence:                           # Looking if words from po_sent are present in the sentence\n",
    "            positive_sentiment.append(sentence)       # Appending the positive sentences in the list\n",
    "    for nes in negative:                              # Iterating words from the list po_sent\n",
    "        if nes in sentence:                           # Looking if words from po_sent are present in the sentence\n",
    "            negative_sentiment.append(sentence)       # Appending the positive sentences in the list\n",
    "    \n",
    "\n",
    "print(\"Positive Sentiment: \",positive_sentiment)     # Printing sentences with positive sentiment\n",
    "print(\"\\nNegative Sentiment: \",negative_sentiment)"
   ]
  },
  {
   "cell_type": "markdown",
   "metadata": {},
   "source": [
    "### 14. Write a program that performs multiplication of the following two matrix"
   ]
  },
  {
   "cell_type": "raw",
   "metadata": {},
   "source": [
    "X = [[1,2,3],\n",
    "    [4 ,5,6],\n",
    "    [7 ,8,9]]\n",
    "\n",
    "Y = [[1,8,1],\n",
    "    [3,7,3],\n",
    "    [4,5,9]]"
   ]
  },
  {
   "cell_type": "code",
   "execution_count": 16,
   "metadata": {},
   "outputs": [
    {
     "name": "stdout",
     "output_type": "stream",
     "text": [
      "[19, 37, 34]\n",
      "[43, 97, 73]\n",
      "[67, 157, 112]\n"
     ]
    }
   ],
   "source": [
    "# create two matrices\n",
    "X = [[1,2,3],\n",
    "    [4 ,5,6],\n",
    "    [7 ,8,9]]\n",
    "\n",
    "Y = [[1,8,1],\n",
    "    [3,7,3],\n",
    "    [4,5,9]]\n",
    "\n",
    "# create a zero matrix to store the product of matrices\n",
    "result = [[0,0,0],\n",
    "         [0,0,0],\n",
    "         [0,0,0]]\n",
    "\n",
    "for i in range(len(X)):\n",
    "    for j in range(len(Y[0])):\n",
    "        for k in range(len(Y)):\n",
    "             result[i][j] += X[i][k] * Y[k][j]\n",
    "for r in result:\n",
    "    print(r)"
   ]
  },
  {
   "cell_type": "markdown",
   "metadata": {},
   "source": [
    "### 15. Write a program to remove space from keys of the given dictionary"
   ]
  },
  {
   "cell_type": "markdown",
   "metadata": {},
   "source": [
    "Employee = {'emp 01' : 'Raj', 'emp 02' : 'Sheela', 'emp 0 3 ': 'Joseph'}; \n",
    "\n",
    "Output:\n",
    "<br>New dictionary :  {'emp01': 'Raj', 'emp02': 'Sheela', 'emp03': 'Joseph'}"
   ]
  },
  {
   "cell_type": "code",
   "execution_count": 17,
   "metadata": {},
   "outputs": [
    {
     "name": "stdout",
     "output_type": "stream",
     "text": [
      " New dictionary :  {'emp01': 'Raj', 'emp02': 'Sheela', 'emp03': 'Joseph'}\n"
     ]
    }
   ],
   "source": [
    "# creating a dictionary of type string \n",
    "  \n",
    "Employee = {'emp 01' : 'Raj', 'emp 02' : 'Sheela', 'emp 0 3 ': 'Joseph'}; \n",
    "  \n",
    "# removing spaces from keys \n",
    "# storing them in same dictionary \n",
    "Employee = {x.replace(' ', ''): v for x, v in Employee.items()} \n",
    "  \n",
    "# printing new dictionary \n",
    "print (\" New dictionary : \",Employee) "
   ]
  },
  {
   "cell_type": "markdown",
   "metadata": {
    "collapsed": true
   },
   "source": [
    "### 16.  Write a program to display the subjects for which the scores are between 300 and 500 (inclusive) in the given dataframe"
   ]
  },
  {
   "cell_type": "markdown",
   "metadata": {},
   "source": [
    "**Use the dataframe given below:**\n",
    "    \n",
    "<table>\n",
    " <tr>\n",
    " <th>Subject</th>\n",
    " <th>Score</th>\n",
    " </tr>\n",
    " <tr>\n",
    " <td>Maths</td>\n",
    " <td>345</td>\n",
    " </tr>\n",
    " <tr>\n",
    " <td>Physics</td>\n",
    " <td>432</td>\n",
    " </tr>\n",
    " <tr>\n",
    " <td>Chemistry</td>\n",
    " <td>456</td>\n",
    " </tr>\n",
    " <tr>\n",
    " <td>Biology</td>\n",
    " <td>234</td>\n",
    " </tr>\n",
    " <tr>\n",
    " <td>Geology</td>\n",
    " <td>254</td>\n",
    " </tr>\n",
    "    \n",
    "</table>"
   ]
  },
  {
   "cell_type": "code",
   "execution_count": 18,
   "metadata": {},
   "outputs": [
    {
     "name": "stdout",
     "output_type": "stream",
     "text": [
      "     Subject  Score\n",
      "0      Maths    345\n",
      "1    Physics    432\n",
      "2  Chemistry    456\n",
      "3    Biology    234\n",
      "4    Geology    254\n",
      "\n",
      "\n",
      "Subjects for which marks are between 300 and 500:\n",
      " 0        Maths\n",
      "1      Physics\n",
      "2    Chemistry\n",
      "Name: Subject, dtype: object\n"
     ]
    }
   ],
   "source": [
    "# import pandas\n",
    "import pandas as pd\n",
    "# given data\n",
    "data= [['Maths',345], ['Physics',432], ['Chemistry',456], ['Biology',234], ['Geology',254]]\n",
    "\n",
    "# 'columns' assigns the names to the columns in the dataframe\n",
    "df = pd.DataFrame(data, columns=['Subject','Score'])\n",
    "print(df)\n",
    "print('\\n')\n",
    "\n",
    "# retrieve the subjects for which marks are between 7 and 9\n",
    "print('Subjects for which marks are between 300 and 500:\\n', df['Subject'][df['Score'].between(300, 500)])"
   ]
  },
  {
   "cell_type": "markdown",
   "metadata": {},
   "source": [
    "### 17. Write a program to find numbers between 10000 to 20000 from a given array"
   ]
  },
  {
   "cell_type": "markdown",
   "metadata": {},
   "source": [
    "**Use the list given below:**\n",
    "\n",
    "Sales = [1432,143223,2043332,1642357,54327,754338,12459,75435,224454,1433,12447,25532,86674,74338,12678]"
   ]
  },
  {
   "cell_type": "code",
   "execution_count": 19,
   "metadata": {},
   "outputs": [
    {
     "data": {
      "text/plain": [
       "array([12447, 12459, 12678])"
      ]
     },
     "execution_count": 19,
     "metadata": {},
     "output_type": "execute_result"
    }
   ],
   "source": [
    "# import numpy\n",
    "import numpy as np\n",
    "# given list\n",
    "Sales = [1432,143223,2043332,1642357,54327,754338,12459,75435,224454,1433,12447,25532,86674,74338,12678]\n",
    "Sales = np.array(Sales)\n",
    "\n",
    "# create arrays containing numbers between 10 and 16\n",
    "num_greater_than_10000 =  Sales[Sales > 10000]\n",
    "num_less_than_20000 =  Sales[Sales < 20000]\n",
    "\n",
    "# 'intersect1d' returns common elements in the two arrays\n",
    "np.intersect1d(num_greater_than_10000, num_less_than_20000)"
   ]
  },
  {
   "cell_type": "markdown",
   "metadata": {},
   "source": [
    "### 18. Write a program to sort the dataframe by Rank (in ascending order)"
   ]
  },
  {
   "cell_type": "markdown",
   "metadata": {},
   "source": [
    "**Use the dataframe given below:**\n",
    "    \n",
    "<table>\n",
    " <tr>\n",
    " <th>Name</th>\n",
    " <th>Rank</th>\n",
    " </tr>\n",
    " <tr>\n",
    " <td>Joy</td>\n",
    " <td>115</td>\n",
    " </tr>\n",
    " <tr>\n",
    " <td>Mia</td>\n",
    " <td>451</td>\n",
    " </tr>\n",
    " <tr>\n",
    " <td>Karan</td>\n",
    " <td>341</td>\n",
    " </tr>\n",
    " <tr>\n",
    " <td>Tom</td>\n",
    " <td>84</td>\n",
    " </tr>\n",
    "    \n",
    "</table>"
   ]
  },
  {
   "cell_type": "code",
   "execution_count": 20,
   "metadata": {},
   "outputs": [
    {
     "name": "stdout",
     "output_type": "stream",
     "text": [
      "original dataframe:\n",
      "     Name  Rank\n",
      "0    Joy   115\n",
      "1    Mia   451\n",
      "2  Karan   341\n",
      "3    Tom    84\n",
      "\n",
      "\n",
      "Sorted dataframe:\n"
     ]
    },
    {
     "data": {
      "text/html": [
       "<div>\n",
       "<style scoped>\n",
       "    .dataframe tbody tr th:only-of-type {\n",
       "        vertical-align: middle;\n",
       "    }\n",
       "\n",
       "    .dataframe tbody tr th {\n",
       "        vertical-align: top;\n",
       "    }\n",
       "\n",
       "    .dataframe thead th {\n",
       "        text-align: right;\n",
       "    }\n",
       "</style>\n",
       "<table border=\"1\" class=\"dataframe\">\n",
       "  <thead>\n",
       "    <tr style=\"text-align: right;\">\n",
       "      <th></th>\n",
       "      <th>Name</th>\n",
       "      <th>Rank</th>\n",
       "    </tr>\n",
       "  </thead>\n",
       "  <tbody>\n",
       "    <tr>\n",
       "      <th>3</th>\n",
       "      <td>Tom</td>\n",
       "      <td>84</td>\n",
       "    </tr>\n",
       "    <tr>\n",
       "      <th>0</th>\n",
       "      <td>Joy</td>\n",
       "      <td>115</td>\n",
       "    </tr>\n",
       "    <tr>\n",
       "      <th>2</th>\n",
       "      <td>Karan</td>\n",
       "      <td>341</td>\n",
       "    </tr>\n",
       "    <tr>\n",
       "      <th>1</th>\n",
       "      <td>Mia</td>\n",
       "      <td>451</td>\n",
       "    </tr>\n",
       "  </tbody>\n",
       "</table>\n",
       "</div>"
      ],
      "text/plain": [
       "    Name  Rank\n",
       "3    Tom    84\n",
       "0    Joy   115\n",
       "2  Karan   341\n",
       "1    Mia   451"
      ]
     },
     "execution_count": 20,
     "metadata": {},
     "output_type": "execute_result"
    }
   ],
   "source": [
    "# given data\n",
    "data= [['Joy',115], ['Mia',451], ['Karan',341], ['Tom',84]]\n",
    "\n",
    "# 'columns' assigns the names to the columns in the dataframe\n",
    "df_student = pd.DataFrame(data, columns=['Name','Rank'])\n",
    "print('original dataframe:\\n', df_student)\n",
    "print('\\n')\n",
    "\n",
    "# sort the dataframe by Rank\n",
    "print('Sorted dataframe:')\n",
    "df_student.sort_values(by = ['Rank'])"
   ]
  },
  {
   "cell_type": "markdown",
   "metadata": {},
   "source": [
    "### 19. Use the data given in the question 18, to do the following:\n",
    " Write a program to swap the 1st and 2nd row in a dataframe"
   ]
  },
  {
   "cell_type": "code",
   "execution_count": 21,
   "metadata": {},
   "outputs": [
    {
     "name": "stdout",
     "output_type": "stream",
     "text": [
      "updated datagrame:\n",
      "     Name  Rank\n",
      "0    Mia   451\n",
      "1    Joy   115\n",
      "2  Karan   341\n",
      "3    Tom    84\n"
     ]
    }
   ],
   "source": [
    "# save the copy of 1st and 2nd row in new variables 'b' and 'c'\n",
    "b, c = df_student.iloc[0].copy(), df_student.iloc[1].copy()\n",
    "\n",
    "# swap the rows\n",
    "df_student.iloc[0], df_student.iloc[1] = c, b\n",
    "\n",
    "print('updated datagrame:\\n', df_student)"
   ]
  },
  {
   "cell_type": "markdown",
   "metadata": {},
   "source": [
    "### 20. Write a program to replace 0 and 1 in Gender variable with M and F"
   ]
  },
  {
   "cell_type": "markdown",
   "metadata": {},
   "source": [
    "**Use the dataframe given below:**\n",
    "    \n",
    "<table>\n",
    " <tr>\n",
    " <th>Id</th>\n",
    " <th>Name</th>\n",
    " <th>Age</th>\n",
    " <th>Gender</th>\n",
    " </tr>\n",
    " <tr>\n",
    " <td>1</td>\n",
    " <td>Mia</td>\n",
    " <td>47</td>\n",
    " <td>1 </td>\n",
    " </tr>\n",
    " <tr>\n",
    " <td>2</td>\n",
    " <td>Sara</td>\n",
    " <td>38</td>\n",
    " <td>1</td>\n",
    " </tr>\n",
    " <tr>\n",
    " <td>3</td>\n",
    " <td>Joy</td>\n",
    " <td>47</td>\n",
    " <td>0</td>\n",
    " </tr>\n",
    " <tr>\n",
    " <td>4</td>\n",
    " <td>Karan</td>\n",
    " <td>41</td>\n",
    " <td>0</td>\n",
    " </tr>\n",
    "    \n",
    "</table>"
   ]
  },
  {
   "cell_type": "code",
   "execution_count": 22,
   "metadata": {},
   "outputs": [
    {
     "name": "stdout",
     "output_type": "stream",
     "text": [
      "original dataframe:\n",
      "    Id   Name  Age Gender\n",
      "0   1    Mia   47      1\n",
      "1   2   Sara   38      1\n",
      "2   3    Joy   47      0\n",
      "3   4  Karan   41      0\n",
      "\n",
      "\n",
      "updated dataframe:\n"
     ]
    },
    {
     "data": {
      "text/html": [
       "<div>\n",
       "<style scoped>\n",
       "    .dataframe tbody tr th:only-of-type {\n",
       "        vertical-align: middle;\n",
       "    }\n",
       "\n",
       "    .dataframe tbody tr th {\n",
       "        vertical-align: top;\n",
       "    }\n",
       "\n",
       "    .dataframe thead th {\n",
       "        text-align: right;\n",
       "    }\n",
       "</style>\n",
       "<table border=\"1\" class=\"dataframe\">\n",
       "  <thead>\n",
       "    <tr style=\"text-align: right;\">\n",
       "      <th></th>\n",
       "      <th>Id</th>\n",
       "      <th>Name</th>\n",
       "      <th>Age</th>\n",
       "      <th>Gender</th>\n",
       "    </tr>\n",
       "  </thead>\n",
       "  <tbody>\n",
       "    <tr>\n",
       "      <th>0</th>\n",
       "      <td>1</td>\n",
       "      <td>Mia</td>\n",
       "      <td>47</td>\n",
       "      <td>F</td>\n",
       "    </tr>\n",
       "    <tr>\n",
       "      <th>1</th>\n",
       "      <td>2</td>\n",
       "      <td>Sara</td>\n",
       "      <td>38</td>\n",
       "      <td>F</td>\n",
       "    </tr>\n",
       "    <tr>\n",
       "      <th>2</th>\n",
       "      <td>3</td>\n",
       "      <td>Joy</td>\n",
       "      <td>47</td>\n",
       "      <td>M</td>\n",
       "    </tr>\n",
       "    <tr>\n",
       "      <th>3</th>\n",
       "      <td>4</td>\n",
       "      <td>Karan</td>\n",
       "      <td>41</td>\n",
       "      <td>M</td>\n",
       "    </tr>\n",
       "  </tbody>\n",
       "</table>\n",
       "</div>"
      ],
      "text/plain": [
       "   Id   Name  Age Gender\n",
       "0   1    Mia   47      F\n",
       "1   2   Sara   38      F\n",
       "2   3    Joy   47      M\n",
       "3   4  Karan   41      M"
      ]
     },
     "execution_count": 22,
     "metadata": {},
     "output_type": "execute_result"
    }
   ],
   "source": [
    "# given dataframe\n",
    "data={'Id':[1,2,3,4],\n",
    "      'Name':['Mia','Sara','Joy','Karan'],\n",
    "      'Age':[47,38,47,41],\n",
    "      'Gender':['1','1','0','0']\n",
    "      }\n",
    "df_info= pd.DataFrame(data)\n",
    "print('original dataframe:\\n', df_info)\n",
    "print('\\n')\n",
    "\n",
    "# replace M and F in 'Gender' column with 0 and 1\n",
    "df_info['Gender'] = df_info['Gender'].map({'0':'M', '1':'F'})\n",
    "\n",
    "print('updated dataframe:')\n",
    "df_info"
   ]
  },
  {
   "cell_type": "markdown",
   "metadata": {},
   "source": [
    "### 21. Convert a 1D array to a 2D array containing 2 rows"
   ]
  },
  {
   "cell_type": "markdown",
   "metadata": {},
   "source": [
    "**Use the array given below:**\n",
    "    \n",
    "dim_1 = ([331, 245, 246, 475, 348, 229])"
   ]
  },
  {
   "cell_type": "code",
   "execution_count": 23,
   "metadata": {},
   "outputs": [
    {
     "name": "stdout",
     "output_type": "stream",
     "text": [
      "1D: [331 245 246 475 348 229]\n",
      "\n",
      "\n",
      "2D:\n",
      " [[331 245 246]\n",
      " [475 348 229]]\n"
     ]
    }
   ],
   "source": [
    "# given 1D array\n",
    "dim_1 = ([331, 245, 246, 475, 348, 229])\n",
    "dim_1 = np.array(dim_1)\n",
    "print('1D:', dim_1)\n",
    "print('\\n')\n",
    "\n",
    "# convert the given array to 2D array\n",
    "# reshape(2,-1) changes number of rows, keeping number of columns unchanged\n",
    "dim_2 = dim_1.reshape(2, -1)  \n",
    "\n",
    "# print the 2D array\n",
    "print('2D:\\n', dim_2)"
   ]
  },
  {
   "cell_type": "markdown",
   "metadata": {},
   "source": [
    "### 22. Find the average cost of each variety of product available in the three different shops"
   ]
  },
  {
   "cell_type": "markdown",
   "metadata": {},
   "source": [
    "**Use the data given below:**\n",
    "    \n",
    "[[10, 20, 30], [17, 14, 21], [25, 15, 12]],\n",
    "  columns=['product_a', 'product_b', 'product_c'],\n",
    "  index=['Shop1', 'Shop2', 'Shop3']"
   ]
  },
  {
   "cell_type": "code",
   "execution_count": 24,
   "metadata": {},
   "outputs": [
    {
     "name": "stdout",
     "output_type": "stream",
     "text": [
      "       product_a  product_b  product_c\n",
      "Shop1         10         20         30\n",
      "Shop2         17         14         21\n",
      "Shop3         25         15         12\n",
      "\n",
      " Calculate Mean \n",
      "\n",
      "product_a    17.333333\n",
      "product_b    16.333333\n",
      "product_c    21.000000\n",
      "dtype: float64\n"
     ]
    }
   ],
   "source": [
    "# given data\n",
    "df_product = pd.DataFrame([[10, 20, 30], [17, 14, 21], [25, 15, 12]],\n",
    "                  columns=['product_a', 'product_b', 'product_c'],\n",
    "                  index=['Shop1', 'Shop2', 'Shop3'])\n",
    "print(df_product)\n",
    "\n",
    "print(\"\\n Calculate Mean \\n\")\n",
    "\n",
    "# calculate the mean of each variety of product\n",
    "print(df_product.mean())\n"
   ]
  },
  {
   "cell_type": "markdown",
   "metadata": {},
   "source": [
    "### 23. Write a program to create a histogram using given data"
   ]
  },
  {
   "cell_type": "markdown",
   "metadata": {},
   "source": [
    "**Use the list given below:**\n",
    "\n",
    "weight = [34,56,43,22,2,58,89,78,67,56,65,43,23]"
   ]
  },
  {
   "cell_type": "code",
   "execution_count": 25,
   "metadata": {},
   "outputs": [
    {
     "data": {
      "image/png": "[encoded data removed]",
      "text/plain": [
       "<Figure size 640x480 with 1 Axes>"
      ]
     },
     "metadata": {},
     "output_type": "display_data"
    }
   ],
   "source": [
    "# import matplotlib\n",
    "import matplotlib.pyplot as plt\n",
    "\n",
    "# given data\n",
    "weight = [34,56,43,22,2,58,89,78,67,56,65,43,23]\n",
    "\n",
    "# plot a histogram\n",
    "plt.hist(weight, color='green', rwidth=0.8)\n",
    "\n",
    "# set the labels to axes and graph \n",
    "plt.xlabel('Age')\n",
    "plt.ylabel('Number of people')\n",
    "plt.title('Histogram')\n",
    "\n",
    "plt.show()"
   ]
  },
  {
   "cell_type": "markdown",
   "metadata": {},
   "source": [
    "### 24. Write a program to delete items from series_a that are present in series_b and print the updated series_a"
   ]
  },
  {
   "cell_type": "markdown",
   "metadata": {},
   "source": [
    "**Use the series given below:**\n",
    "    \n",
    "series_a = ([11, 12, 13, 14, 15])<br>\n",
    "series_b= ([14, 15, 16, 17, 18])"
   ]
  },
  {
   "cell_type": "code",
   "execution_count": 26,
   "metadata": {},
   "outputs": [
    {
     "name": "stdout",
     "output_type": "stream",
     "text": [
      "updated_series1: \n",
      " 0    11\n",
      "1    12\n",
      "2    13\n",
      "dtype: int64\n"
     ]
    }
   ],
   "source": [
    "# given data\n",
    "series_a = pd.Series([11, 12, 13, 14, 15])\n",
    "series_b = pd.Series([14, 15, 16, 17, 18])\n",
    "\n",
    "# remove the common elements between series1 and series2 from series1 \n",
    "# update series1\n",
    "series_a = series_a[~series_a.isin(series_b)]\n",
    "\n",
    "print('updated_series1: \\n', series_a)"
   ]
  },
  {
   "cell_type": "markdown",
   "metadata": {},
   "source": [
    "### 25. Create a series of 40 random numbers and transform it into a dataframe containing seven columns and five rows"
   ]
  },
  {
   "cell_type": "code",
   "execution_count": 27,
   "metadata": {},
   "outputs": [
    {
     "data": {
      "text/html": [
       "<div>\n",
       "<style scoped>\n",
       "    .dataframe tbody tr th:only-of-type {\n",
       "        vertical-align: middle;\n",
       "    }\n",
       "\n",
       "    .dataframe tbody tr th {\n",
       "        vertical-align: top;\n",
       "    }\n",
       "\n",
       "    .dataframe thead th {\n",
       "        text-align: right;\n",
       "    }\n",
       "</style>\n",
       "<table border=\"1\" class=\"dataframe\">\n",
       "  <thead>\n",
       "    <tr style=\"text-align: right;\">\n",
       "      <th></th>\n",
       "      <th>0</th>\n",
       "      <th>1</th>\n",
       "      <th>2</th>\n",
       "      <th>3</th>\n",
       "      <th>4</th>\n",
       "      <th>5</th>\n",
       "      <th>6</th>\n",
       "      <th>7</th>\n",
       "    </tr>\n",
       "  </thead>\n",
       "  <tbody>\n",
       "    <tr>\n",
       "      <th>0</th>\n",
       "      <td>1</td>\n",
       "      <td>5</td>\n",
       "      <td>7</td>\n",
       "      <td>5</td>\n",
       "      <td>5</td>\n",
       "      <td>8</td>\n",
       "      <td>4</td>\n",
       "      <td>1</td>\n",
       "    </tr>\n",
       "    <tr>\n",
       "      <th>1</th>\n",
       "      <td>8</td>\n",
       "      <td>5</td>\n",
       "      <td>6</td>\n",
       "      <td>2</td>\n",
       "      <td>6</td>\n",
       "      <td>4</td>\n",
       "      <td>7</td>\n",
       "      <td>6</td>\n",
       "    </tr>\n",
       "    <tr>\n",
       "      <th>2</th>\n",
       "      <td>7</td>\n",
       "      <td>6</td>\n",
       "      <td>5</td>\n",
       "      <td>5</td>\n",
       "      <td>6</td>\n",
       "      <td>7</td>\n",
       "      <td>8</td>\n",
       "      <td>8</td>\n",
       "    </tr>\n",
       "    <tr>\n",
       "      <th>3</th>\n",
       "      <td>6</td>\n",
       "      <td>1</td>\n",
       "      <td>7</td>\n",
       "      <td>3</td>\n",
       "      <td>6</td>\n",
       "      <td>2</td>\n",
       "      <td>4</td>\n",
       "      <td>3</td>\n",
       "    </tr>\n",
       "    <tr>\n",
       "      <th>4</th>\n",
       "      <td>2</td>\n",
       "      <td>7</td>\n",
       "      <td>6</td>\n",
       "      <td>7</td>\n",
       "      <td>1</td>\n",
       "      <td>9</td>\n",
       "      <td>3</td>\n",
       "      <td>3</td>\n",
       "    </tr>\n",
       "  </tbody>\n",
       "</table>\n",
       "</div>"
      ],
      "text/plain": [
       "   0  1  2  3  4  5  6  7\n",
       "0  1  5  7  5  5  8  4  1\n",
       "1  8  5  6  2  6  4  7  6\n",
       "2  7  6  5  5  6  7  8  8\n",
       "3  6  1  7  3  6  2  4  3\n",
       "4  2  7  6  7  1  9  3  3"
      ]
     },
     "execution_count": 27,
     "metadata": {},
     "output_type": "execute_result"
    }
   ],
   "source": [
    "# create a series of random numbers\n",
    "num = pd.Series(np.random.randint(1, 10, 40))\n",
    "\n",
    "# transform the 'num' to dataframe of required shape\n",
    "df_numbers = pd.DataFrame(num.values.reshape(5,8))\n",
    "\n",
    "# transformed dataframe\n",
    "df_numbers"
   ]
  },
  {
   "cell_type": "markdown",
   "metadata": {},
   "source": [
    "### 26. Get common elements from the two arrays"
   ]
  },
  {
   "cell_type": "markdown",
   "metadata": {},
   "source": [
    "**Use the array given below:**<br>\n",
    "      \n",
    "      test_a = np.array([11,12,13,22,23,44,43,24,45,36])\n",
    "      test_b = np.array([17,22,13,22,47,34,39,44,29,28])"
   ]
  },
  {
   "cell_type": "code",
   "execution_count": 28,
   "metadata": {},
   "outputs": [
    {
     "data": {
      "text/plain": [
       "array([13, 22, 44])"
      ]
     },
     "execution_count": 28,
     "metadata": {},
     "output_type": "execute_result"
    }
   ],
   "source": [
    "# create an array\n",
    "test_a = np.array([11,12,13,22,23,44,43,24,45,36])\n",
    "\n",
    "# create an array\n",
    "test_b = np.array([17,22,13,22,47,34,39,44,29,28])\n",
    "\n",
    "# use np.intersect1d() to get common elements\n",
    "np.intersect1d(test_a,test_b)"
   ]
  },
  {
   "cell_type": "markdown",
   "metadata": {},
   "source": [
    "### 27. Import dataset 'flights' from library seaborn. Check for datatypes of all variable."
   ]
  },
  {
   "cell_type": "code",
   "execution_count": 29,
   "metadata": {},
   "outputs": [],
   "source": [
    "# import required libraries\n",
    "import seaborn as sns\n",
    "\n",
    "# load the flights data set as flight\n",
    "df_flight = sns.load_dataset('flights')"
   ]
  },
  {
   "cell_type": "code",
   "execution_count": 30,
   "metadata": {},
   "outputs": [
    {
     "data": {
      "text/plain": [
       "year             int64\n",
       "month         category\n",
       "passengers       int64\n",
       "dtype: object"
      ]
     },
     "execution_count": 30,
     "metadata": {},
     "output_type": "execute_result"
    }
   ],
   "source": [
    "df_flight.dtypes"
   ]
  },
  {
   "cell_type": "markdown",
   "metadata": {},
   "source": [
    "### 28. Compute total sales for each product and country"
   ]
  },
  {
   "cell_type": "markdown",
   "metadata": {},
   "source": [
    "**Use the dataframe given below:**\n",
    "   \n",
    "<table>\n",
    "<tr>\n",
    "<th>Product</th>\n",
    "<th>Country</th>\n",
    "<th>Sales</th>\n",
    "</tr>\n",
    "<tr>\n",
    "<td>A</td>\n",
    "<td>USA</td>\n",
    "<td>44000</td>\n",
    "</tr>\n",
    "<tr>\n",
    "<td>J</td>\n",
    "<td>Japan</td>\n",
    "<td>43000</td>\n",
    "</tr>\n",
    "<tr>\n",
    "<td>A</td>\n",
    "<td>Europe</td>\n",
    "<td>54000</td>\n",
    "</tr>\n",
    "<tr>\n",
    "<td>L</td>\n",
    "<td>Japan</td>\n",
    "<td>95600</td>\n",
    "</tr>\n",
    "<tr>\n",
    "<td>R</td>\n",
    "<td>Europe</td>\n",
    "<td>79000</td>\n",
    "</tr>\n",
    "<tr>\n",
    "<td>A</td>\n",
    "<td>USA</td>\n",
    "<td>67000</td>\n",
    "</tr>\n",
    "<tr>\n",
    "<td>R</td>\n",
    "<td>USA</td>\n",
    "<td>68000</td>\n",
    "</tr>\n",
    "<tr>\n",
    "<td>J</td>\n",
    "<td>Japan</td>\n",
    "<td>38000</td>\n",
    "</tr>\n",
    "<tr>\n",
    "<td>L</td>\n",
    "<td>USA</td>\n",
    "<td>59000</td>\n",
    "</tr>\n",
    "<tr>\n",
    "<td>A</td>\n",
    "<td>Europe</td>\n",
    "<td>60000</td>\n",
    "</tr>\n",
    "   \n",
    "</table>"
   ]
  },
  {
   "cell_type": "code",
   "execution_count": 31,
   "metadata": {},
   "outputs": [
    {
     "data": {
      "text/html": [
       "<div>\n",
       "<style scoped>\n",
       "    .dataframe tbody tr th:only-of-type {\n",
       "        vertical-align: middle;\n",
       "    }\n",
       "\n",
       "    .dataframe tbody tr th {\n",
       "        vertical-align: top;\n",
       "    }\n",
       "\n",
       "    .dataframe thead th {\n",
       "        text-align: right;\n",
       "    }\n",
       "</style>\n",
       "<table border=\"1\" class=\"dataframe\">\n",
       "  <thead>\n",
       "    <tr style=\"text-align: right;\">\n",
       "      <th></th>\n",
       "      <th>Product</th>\n",
       "      <th>Country</th>\n",
       "      <th>Sales</th>\n",
       "    </tr>\n",
       "  </thead>\n",
       "  <tbody>\n",
       "    <tr>\n",
       "      <th>0</th>\n",
       "      <td>A</td>\n",
       "      <td>USA</td>\n",
       "      <td>44000</td>\n",
       "    </tr>\n",
       "    <tr>\n",
       "      <th>1</th>\n",
       "      <td>J</td>\n",
       "      <td>Japan</td>\n",
       "      <td>43000</td>\n",
       "    </tr>\n",
       "    <tr>\n",
       "      <th>2</th>\n",
       "      <td>A</td>\n",
       "      <td>Europe</td>\n",
       "      <td>54000</td>\n",
       "    </tr>\n",
       "    <tr>\n",
       "      <th>3</th>\n",
       "      <td>L</td>\n",
       "      <td>Japan</td>\n",
       "      <td>95600</td>\n",
       "    </tr>\n",
       "    <tr>\n",
       "      <th>4</th>\n",
       "      <td>R</td>\n",
       "      <td>Europe</td>\n",
       "      <td>79000</td>\n",
       "    </tr>\n",
       "    <tr>\n",
       "      <th>5</th>\n",
       "      <td>A</td>\n",
       "      <td>USA</td>\n",
       "      <td>67000</td>\n",
       "    </tr>\n",
       "    <tr>\n",
       "      <th>6</th>\n",
       "      <td>R</td>\n",
       "      <td>USA</td>\n",
       "      <td>68000</td>\n",
       "    </tr>\n",
       "    <tr>\n",
       "      <th>7</th>\n",
       "      <td>J</td>\n",
       "      <td>Japan</td>\n",
       "      <td>38000</td>\n",
       "    </tr>\n",
       "    <tr>\n",
       "      <th>8</th>\n",
       "      <td>L</td>\n",
       "      <td>USA</td>\n",
       "      <td>59000</td>\n",
       "    </tr>\n",
       "    <tr>\n",
       "      <th>9</th>\n",
       "      <td>A</td>\n",
       "      <td>Europe</td>\n",
       "      <td>60000</td>\n",
       "    </tr>\n",
       "  </tbody>\n",
       "</table>\n",
       "</div>"
      ],
      "text/plain": [
       "  Product Country  Sales\n",
       "0       A     USA  44000\n",
       "1       J   Japan  43000\n",
       "2       A  Europe  54000\n",
       "3       L   Japan  95600\n",
       "4       R  Europe  79000\n",
       "5       A     USA  67000\n",
       "6       R     USA  68000\n",
       "7       J   Japan  38000\n",
       "8       L     USA  59000\n",
       "9       A  Europe  60000"
      ]
     },
     "execution_count": 31,
     "metadata": {},
     "output_type": "execute_result"
    }
   ],
   "source": [
    "# create a dataframe\n",
    "df_sales = pd.DataFrame({'Product': ['A', 'J', 'A', 'L', 'R', 'A', 'R', 'J', 'L', 'A'],\n",
    "'Country': ['USA', 'Japan', 'Europe', 'Japan', 'Europe', 'USA', 'USA', 'Japan',\n",
    "'USA', 'Europe'],\n",
    "'Sales': [44000, 43000, 54000, 95600, 79000, 67000, 68000, 38000, 59000, 60000]})\n",
    "\n",
    "# print the dataframe\n",
    "df_sales"
   ]
  },
  {
   "cell_type": "code",
   "execution_count": 32,
   "metadata": {},
   "outputs": [
    {
     "data": {
      "text/html": [
       "<div>\n",
       "<style scoped>\n",
       "    .dataframe tbody tr th:only-of-type {\n",
       "        vertical-align: middle;\n",
       "    }\n",
       "\n",
       "    .dataframe tbody tr th {\n",
       "        vertical-align: top;\n",
       "    }\n",
       "\n",
       "    .dataframe thead tr th {\n",
       "        text-align: left;\n",
       "    }\n",
       "\n",
       "    .dataframe thead tr:last-of-type th {\n",
       "        text-align: right;\n",
       "    }\n",
       "</style>\n",
       "<table border=\"1\" class=\"dataframe\">\n",
       "  <thead>\n",
       "    <tr>\n",
       "      <th></th>\n",
       "      <th colspan=\"3\" halign=\"left\">sum</th>\n",
       "    </tr>\n",
       "    <tr>\n",
       "      <th>Country</th>\n",
       "      <th>Europe</th>\n",
       "      <th>Japan</th>\n",
       "      <th>USA</th>\n",
       "    </tr>\n",
       "    <tr>\n",
       "      <th>Product</th>\n",
       "      <th></th>\n",
       "      <th></th>\n",
       "      <th></th>\n",
       "    </tr>\n",
       "  </thead>\n",
       "  <tbody>\n",
       "    <tr>\n",
       "      <th>A</th>\n",
       "      <td>114000.0</td>\n",
       "      <td>NaN</td>\n",
       "      <td>111000.0</td>\n",
       "    </tr>\n",
       "    <tr>\n",
       "      <th>J</th>\n",
       "      <td>NaN</td>\n",
       "      <td>81000.0</td>\n",
       "      <td>NaN</td>\n",
       "    </tr>\n",
       "    <tr>\n",
       "      <th>L</th>\n",
       "      <td>NaN</td>\n",
       "      <td>95600.0</td>\n",
       "      <td>59000.0</td>\n",
       "    </tr>\n",
       "    <tr>\n",
       "      <th>R</th>\n",
       "      <td>79000.0</td>\n",
       "      <td>NaN</td>\n",
       "      <td>68000.0</td>\n",
       "    </tr>\n",
       "  </tbody>\n",
       "</table>\n",
       "</div>"
      ],
      "text/plain": [
       "              sum                   \n",
       "Country    Europe    Japan       USA\n",
       "Product                             \n",
       "A        114000.0      NaN  111000.0\n",
       "J             NaN  81000.0       NaN\n",
       "L             NaN  95600.0   59000.0\n",
       "R         79000.0      NaN   68000.0"
      ]
     },
     "execution_count": 32,
     "metadata": {},
     "output_type": "execute_result"
    }
   ],
   "source": [
    "# use the pivot table\n",
    "# values: column to aggregate\n",
    "# columns: values to group by in the columns\n",
    "# aggfunc = 'sum': calculate the total \n",
    "# index: row labels\n",
    "pd.pivot_table(df_sales, values='Sales', index=['Product'], columns='Country', aggfunc=['sum'])"
   ]
  },
  {
   "cell_type": "markdown",
   "metadata": {},
   "source": [
    "### 29. Get the descriptive statistics of the sales for each Country"
   ]
  },
  {
   "cell_type": "code",
   "execution_count": 33,
   "metadata": {},
   "outputs": [
    {
     "data": {
      "text/html": [
       "<div>\n",
       "<style scoped>\n",
       "    .dataframe tbody tr th:only-of-type {\n",
       "        vertical-align: middle;\n",
       "    }\n",
       "\n",
       "    .dataframe tbody tr th {\n",
       "        vertical-align: top;\n",
       "    }\n",
       "\n",
       "    .dataframe thead tr th {\n",
       "        text-align: left;\n",
       "    }\n",
       "\n",
       "    .dataframe thead tr:last-of-type th {\n",
       "        text-align: right;\n",
       "    }\n",
       "</style>\n",
       "<table border=\"1\" class=\"dataframe\">\n",
       "  <thead>\n",
       "    <tr>\n",
       "      <th></th>\n",
       "      <th colspan=\"8\" halign=\"left\">Sales</th>\n",
       "    </tr>\n",
       "    <tr>\n",
       "      <th></th>\n",
       "      <th>count</th>\n",
       "      <th>mean</th>\n",
       "      <th>std</th>\n",
       "      <th>min</th>\n",
       "      <th>25%</th>\n",
       "      <th>50%</th>\n",
       "      <th>75%</th>\n",
       "      <th>max</th>\n",
       "    </tr>\n",
       "    <tr>\n",
       "      <th>Country</th>\n",
       "      <th></th>\n",
       "      <th></th>\n",
       "      <th></th>\n",
       "      <th></th>\n",
       "      <th></th>\n",
       "      <th></th>\n",
       "      <th></th>\n",
       "      <th></th>\n",
       "    </tr>\n",
       "  </thead>\n",
       "  <tbody>\n",
       "    <tr>\n",
       "      <th>Europe</th>\n",
       "      <td>3.0</td>\n",
       "      <td>64333.333333</td>\n",
       "      <td>13051.181300</td>\n",
       "      <td>54000.0</td>\n",
       "      <td>57000.0</td>\n",
       "      <td>60000.0</td>\n",
       "      <td>69500.0</td>\n",
       "      <td>79000.0</td>\n",
       "    </tr>\n",
       "    <tr>\n",
       "      <th>Japan</th>\n",
       "      <td>3.0</td>\n",
       "      <td>58866.666667</td>\n",
       "      <td>31910.082001</td>\n",
       "      <td>38000.0</td>\n",
       "      <td>40500.0</td>\n",
       "      <td>43000.0</td>\n",
       "      <td>69300.0</td>\n",
       "      <td>95600.0</td>\n",
       "    </tr>\n",
       "    <tr>\n",
       "      <th>USA</th>\n",
       "      <td>4.0</td>\n",
       "      <td>59500.000000</td>\n",
       "      <td>11090.536506</td>\n",
       "      <td>44000.0</td>\n",
       "      <td>55250.0</td>\n",
       "      <td>63000.0</td>\n",
       "      <td>67250.0</td>\n",
       "      <td>68000.0</td>\n",
       "    </tr>\n",
       "  </tbody>\n",
       "</table>\n",
       "</div>"
      ],
      "text/plain": [
       "        Sales                                                                  \\\n",
       "        count          mean           std      min      25%      50%      75%   \n",
       "Country                                                                         \n",
       "Europe    3.0  64333.333333  13051.181300  54000.0  57000.0  60000.0  69500.0   \n",
       "Japan     3.0  58866.666667  31910.082001  38000.0  40500.0  43000.0  69300.0   \n",
       "USA       4.0  59500.000000  11090.536506  44000.0  55250.0  63000.0  67250.0   \n",
       "\n",
       "                  \n",
       "             max  \n",
       "Country           \n",
       "Europe   79000.0  \n",
       "Japan    95600.0  \n",
       "USA      68000.0  "
      ]
     },
     "execution_count": 33,
     "metadata": {},
     "output_type": "execute_result"
    }
   ],
   "source": [
    "# use groupby() to group the dataframe by seasons and then find the descriptive statistics of the sales for each season\n",
    "df_sales.groupby([\"Country\"])[[\"Sales\"]].describe()"
   ]
  },
  {
   "cell_type": "markdown",
   "metadata": {},
   "source": [
    "### 30. Reverse each of the rows of the 2D array"
   ]
  },
  {
   "cell_type": "markdown",
   "metadata": {},
   "source": [
    "**Use the array given below:**<br>\n",
    "\n",
    "    num_array = np.arange(20).reshape(4,5)"
   ]
  },
  {
   "cell_type": "code",
   "execution_count": 34,
   "metadata": {},
   "outputs": [
    {
     "data": {
      "text/plain": [
       "array([[ 0,  1,  2,  3,  4],\n",
       "       [ 5,  6,  7,  8,  9],\n",
       "       [10, 11, 12, 13, 14],\n",
       "       [15, 16, 17, 18, 19]])"
      ]
     },
     "execution_count": 34,
     "metadata": {},
     "output_type": "execute_result"
    }
   ],
   "source": [
    "# create an array\n",
    "num_array = np.arange(20).reshape(4,5)\n",
    "\n",
    "# print the array\n",
    "num_array"
   ]
  },
  {
   "cell_type": "code",
   "execution_count": 35,
   "metadata": {},
   "outputs": [
    {
     "data": {
      "text/plain": [
       "array([[ 4,  3,  2,  1,  0],\n",
       "       [ 9,  8,  7,  6,  5],\n",
       "       [14, 13, 12, 11, 10],\n",
       "       [19, 18, 17, 16, 15]])"
      ]
     },
     "execution_count": 35,
     "metadata": {},
     "output_type": "execute_result"
    }
   ],
   "source": [
    "# reverse the columns\n",
    "num_array[:, ::-1]"
   ]
  }
 ],
 "metadata": {
  "kernelspec": {
   "display_name": "Python 3 (ipykernel)",
   "language": "python",
   "name": "python3"
  },
  "language_info": {
   "codemirror_mode": {
    "name": "ipython",
    "version": 3
   },
   "file_extension": ".py",
   "mimetype": "text/x-python",
   "name": "python",
   "nbconvert_exporter": "python",
   "pygments_lexer": "ipython3",
   "version": "3.8.13"
  }
 },
 "nbformat": 4,
 "nbformat_minor": 2
}
