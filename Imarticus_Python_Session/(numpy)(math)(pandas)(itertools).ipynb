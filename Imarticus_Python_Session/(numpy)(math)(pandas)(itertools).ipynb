{
 "cells": [
  {
   "cell_type": "code",
   "execution_count": 1,
   "id": "581b38c4",
   "metadata": {},
   "outputs": [],
   "source": [
    "import pandas as pd \n",
    "import numpy as np"
   ]
  },
  {
   "cell_type": "code",
   "execution_count": 2,
   "id": "92f71816",
   "metadata": {},
   "outputs": [],
   "source": [
    "l1 = [1,121,333,456]"
   ]
  },
  {
   "cell_type": "code",
   "execution_count": 3,
   "id": "ef9085f0",
   "metadata": {},
   "outputs": [
    {
     "data": {
      "text/plain": [
       "list"
      ]
     },
     "execution_count": 3,
     "metadata": {},
     "output_type": "execute_result"
    }
   ],
   "source": [
    "type(l1)"
   ]
  },
  {
   "cell_type": "code",
   "execution_count": 4,
   "id": "47b96d54",
   "metadata": {},
   "outputs": [],
   "source": [
    "ar = np.array(l1)"
   ]
  },
  {
   "cell_type": "code",
   "execution_count": 5,
   "id": "69434ede",
   "metadata": {},
   "outputs": [
    {
     "data": {
      "text/plain": [
       "array([  1, 121, 333, 456])"
      ]
     },
     "execution_count": 5,
     "metadata": {},
     "output_type": "execute_result"
    }
   ],
   "source": [
    "ar"
   ]
  },
  {
   "cell_type": "code",
   "execution_count": 6,
   "id": "1b222412",
   "metadata": {},
   "outputs": [
    {
     "data": {
      "text/plain": [
       "numpy.ndarray"
      ]
     },
     "execution_count": 6,
     "metadata": {},
     "output_type": "execute_result"
    }
   ],
   "source": [
    "type(ar)"
   ]
  },
  {
   "cell_type": "code",
   "execution_count": 7,
   "id": "5bc6baf2",
   "metadata": {},
   "outputs": [],
   "source": [
    "l2 = [[1,2,3],[11,21,31],[111,222,333]]"
   ]
  },
  {
   "cell_type": "code",
   "execution_count": 8,
   "id": "3fab73ca",
   "metadata": {},
   "outputs": [
    {
     "data": {
      "text/plain": [
       "array([[  1,   2,   3],\n",
       "       [ 11,  21,  31],\n",
       "       [111, 222, 333]])"
      ]
     },
     "execution_count": 8,
     "metadata": {},
     "output_type": "execute_result"
    }
   ],
   "source": [
    "np.array(l2)"
   ]
  },
  {
   "cell_type": "code",
   "execution_count": 9,
   "id": "af432f4d",
   "metadata": {},
   "outputs": [
    {
     "data": {
      "text/plain": [
       "array([ 0,  1,  2,  3,  4,  5,  6,  7,  8,  9, 10, 11, 12, 13, 14, 15, 16,\n",
       "       17, 18, 19, 20, 21, 22, 23, 24])"
      ]
     },
     "execution_count": 9,
     "metadata": {},
     "output_type": "execute_result"
    }
   ],
   "source": [
    "np.arange(0 , 25)"
   ]
  },
  {
   "cell_type": "code",
   "execution_count": 10,
   "id": "8d20d26f",
   "metadata": {},
   "outputs": [
    {
     "data": {
      "text/plain": [
       "array([10, 12, 14, 16, 18, 20, 22, 24, 26, 28, 30, 32, 34, 36, 38, 40, 42,\n",
       "       44, 46, 48])"
      ]
     },
     "execution_count": 10,
     "metadata": {},
     "output_type": "execute_result"
    }
   ],
   "source": [
    "np.arange(10,50,2)"
   ]
  },
  {
   "cell_type": "code",
   "execution_count": 11,
   "id": "45d45fee",
   "metadata": {},
   "outputs": [
    {
     "data": {
      "text/plain": [
       "array([0., 0., 0., 0.])"
      ]
     },
     "execution_count": 11,
     "metadata": {},
     "output_type": "execute_result"
    }
   ],
   "source": [
    "np.zeros(4)"
   ]
  },
  {
   "cell_type": "code",
   "execution_count": 12,
   "id": "aa926b59",
   "metadata": {},
   "outputs": [
    {
     "data": {
      "text/plain": [
       "array([[0., 0.],\n",
       "       [0., 0.]])"
      ]
     },
     "execution_count": 12,
     "metadata": {},
     "output_type": "execute_result"
    }
   ],
   "source": [
    "np.zeros((2,2))"
   ]
  },
  {
   "cell_type": "code",
   "execution_count": 13,
   "id": "3d59a196",
   "metadata": {},
   "outputs": [
    {
     "data": {
      "text/plain": [
       "array([[0., 0., 0.],\n",
       "       [0., 0., 0.],\n",
       "       [0., 0., 0.]])"
      ]
     },
     "execution_count": 13,
     "metadata": {},
     "output_type": "execute_result"
    }
   ],
   "source": [
    "np.zeros((3,3))"
   ]
  },
  {
   "cell_type": "code",
   "execution_count": 14,
   "id": "f1162b92",
   "metadata": {},
   "outputs": [
    {
     "data": {
      "text/plain": [
       "array([1.        , 1.08163265, 1.16326531, 1.24489796, 1.32653061,\n",
       "       1.40816327, 1.48979592, 1.57142857, 1.65306122, 1.73469388,\n",
       "       1.81632653, 1.89795918, 1.97959184, 2.06122449, 2.14285714,\n",
       "       2.2244898 , 2.30612245, 2.3877551 , 2.46938776, 2.55102041,\n",
       "       2.63265306, 2.71428571, 2.79591837, 2.87755102, 2.95918367,\n",
       "       3.04081633, 3.12244898, 3.20408163, 3.28571429, 3.36734694,\n",
       "       3.44897959, 3.53061224, 3.6122449 , 3.69387755, 3.7755102 ,\n",
       "       3.85714286, 3.93877551, 4.02040816, 4.10204082, 4.18367347,\n",
       "       4.26530612, 4.34693878, 4.42857143, 4.51020408, 4.59183673,\n",
       "       4.67346939, 4.75510204, 4.83673469, 4.91836735, 5.        ])"
      ]
     },
     "execution_count": 14,
     "metadata": {},
     "output_type": "execute_result"
    }
   ],
   "source": [
    "num1 = np.linspace(1 , 5, 50) \n",
    "num1"
   ]
  },
  {
   "cell_type": "code",
   "execution_count": 15,
   "id": "1fbb7069",
   "metadata": {},
   "outputs": [
    {
     "data": {
      "text/plain": [
       "0.08163264999999997"
      ]
     },
     "execution_count": 15,
     "metadata": {},
     "output_type": "execute_result"
    }
   ],
   "source": [
    "1.08163265 - 1"
   ]
  },
  {
   "cell_type": "code",
   "execution_count": 16,
   "id": "204669f8",
   "metadata": {},
   "outputs": [
    {
     "data": {
      "text/plain": [
       "0.08163266000000013"
      ]
     },
     "execution_count": 16,
     "metadata": {},
     "output_type": "execute_result"
    }
   ],
   "source": [
    "1.16326531 - 1.08163265"
   ]
  },
  {
   "cell_type": "code",
   "execution_count": 17,
   "id": "0eacfb8f",
   "metadata": {},
   "outputs": [
    {
     "data": {
      "text/plain": [
       "array([[1., 0., 0., 0., 0.],\n",
       "       [0., 1., 0., 0., 0.],\n",
       "       [0., 0., 1., 0., 0.],\n",
       "       [0., 0., 0., 1., 0.],\n",
       "       [0., 0., 0., 0., 1.]])"
      ]
     },
     "execution_count": 17,
     "metadata": {},
     "output_type": "execute_result"
    }
   ],
   "source": [
    "np.eye(5)\n",
    "# identity matrix ()\n",
    "# diag is 1 rest every thing is zero square matrix \n",
    "# matrix with inverse u get identity matrix"
   ]
  },
  {
   "cell_type": "code",
   "execution_count": 18,
   "id": "b22a62c7",
   "metadata": {},
   "outputs": [
    {
     "data": {
      "text/plain": [
       "array([11,  2, 16])"
      ]
     },
     "execution_count": 18,
     "metadata": {},
     "output_type": "execute_result"
    }
   ],
   "source": [
    "np.random.randint(1,20,3)"
   ]
  },
  {
   "cell_type": "code",
   "execution_count": 19,
   "id": "8fda6b74",
   "metadata": {},
   "outputs": [
    {
     "data": {
      "text/plain": [
       "array([4])"
      ]
     },
     "execution_count": 19,
     "metadata": {},
     "output_type": "execute_result"
    }
   ],
   "source": [
    "np.random.randint(1,7,1)"
   ]
  },
  {
   "cell_type": "code",
   "execution_count": 20,
   "id": "83903666",
   "metadata": {},
   "outputs": [],
   "source": [
    "ar2 = np.array([2,4,6,23,56,11,490,60,90])"
   ]
  },
  {
   "cell_type": "code",
   "execution_count": 21,
   "id": "719050d4",
   "metadata": {},
   "outputs": [
    {
     "data": {
      "text/plain": [
       "numpy.ndarray"
      ]
     },
     "execution_count": 21,
     "metadata": {},
     "output_type": "execute_result"
    }
   ],
   "source": [
    "type(ar2)"
   ]
  },
  {
   "cell_type": "code",
   "execution_count": 22,
   "id": "936e271e",
   "metadata": {},
   "outputs": [
    {
     "data": {
      "text/plain": [
       "(9,)"
      ]
     },
     "execution_count": 22,
     "metadata": {},
     "output_type": "execute_result"
    }
   ],
   "source": [
    "ar2.shape"
   ]
  },
  {
   "cell_type": "code",
   "execution_count": 23,
   "id": "d572ead7",
   "metadata": {},
   "outputs": [
    {
     "data": {
      "text/plain": [
       "array([[  2,   4,   6],\n",
       "       [ 23,  56,  11],\n",
       "       [490,  60,  90]])"
      ]
     },
     "execution_count": 23,
     "metadata": {},
     "output_type": "execute_result"
    }
   ],
   "source": [
    "ar2.reshape(3,3)"
   ]
  },
  {
   "cell_type": "code",
   "execution_count": 24,
   "id": "2f2d515e",
   "metadata": {},
   "outputs": [
    {
     "data": {
      "text/plain": [
       "490"
      ]
     },
     "execution_count": 24,
     "metadata": {},
     "output_type": "execute_result"
    }
   ],
   "source": [
    "ar2.max()"
   ]
  },
  {
   "cell_type": "code",
   "execution_count": 25,
   "id": "8732ed19",
   "metadata": {},
   "outputs": [
    {
     "data": {
      "text/plain": [
       "2"
      ]
     },
     "execution_count": 25,
     "metadata": {},
     "output_type": "execute_result"
    }
   ],
   "source": [
    "ar2.min()"
   ]
  },
  {
   "cell_type": "code",
   "execution_count": 26,
   "id": "84ca476e",
   "metadata": {},
   "outputs": [
    {
     "data": {
      "text/plain": [
       "6"
      ]
     },
     "execution_count": 26,
     "metadata": {},
     "output_type": "execute_result"
    }
   ],
   "source": [
    "ar2.argmax()"
   ]
  },
  {
   "cell_type": "code",
   "execution_count": 27,
   "id": "050099f8",
   "metadata": {},
   "outputs": [
    {
     "data": {
      "text/plain": [
       "0"
      ]
     },
     "execution_count": 27,
     "metadata": {},
     "output_type": "execute_result"
    }
   ],
   "source": [
    "ar2.argmin()"
   ]
  },
  {
   "cell_type": "code",
   "execution_count": 28,
   "id": "8dc1686d",
   "metadata": {},
   "outputs": [],
   "source": [
    "ar3 = ar2"
   ]
  },
  {
   "cell_type": "code",
   "execution_count": 29,
   "id": "235980fc",
   "metadata": {},
   "outputs": [],
   "source": [
    "ar3 = ar3.reshape(3,3)"
   ]
  },
  {
   "cell_type": "code",
   "execution_count": 30,
   "id": "26e5097b",
   "metadata": {},
   "outputs": [
    {
     "data": {
      "text/plain": [
       "array([[  2,  23, 490],\n",
       "       [  4,  56,  60],\n",
       "       [  6,  11,  90]])"
      ]
     },
     "execution_count": 30,
     "metadata": {},
     "output_type": "execute_result"
    }
   ],
   "source": [
    "ar3.transpose()"
   ]
  },
  {
   "cell_type": "code",
   "execution_count": 31,
   "id": "757d71e3",
   "metadata": {},
   "outputs": [],
   "source": [
    "l3 = ['a','b','a','c','C','a','d','A']"
   ]
  },
  {
   "cell_type": "code",
   "execution_count": 32,
   "id": "1d08269c",
   "metadata": {},
   "outputs": [
    {
     "data": {
      "text/plain": [
       "6"
      ]
     },
     "execution_count": 32,
     "metadata": {},
     "output_type": "execute_result"
    }
   ],
   "source": [
    "len(np.unique(l3))"
   ]
  },
  {
   "cell_type": "code",
   "execution_count": 33,
   "id": "87325da5",
   "metadata": {},
   "outputs": [
    {
     "data": {
      "text/plain": [
       "6.0"
      ]
     },
     "execution_count": 33,
     "metadata": {},
     "output_type": "execute_result"
    }
   ],
   "source": [
    "np.sqrt(36)"
   ]
  },
  {
   "cell_type": "code",
   "execution_count": 34,
   "id": "963d51c8",
   "metadata": {},
   "outputs": [
    {
     "data": {
      "text/plain": [
       "49"
      ]
     },
     "execution_count": 34,
     "metadata": {},
     "output_type": "execute_result"
    }
   ],
   "source": [
    "np.square(7)"
   ]
  },
  {
   "cell_type": "code",
   "execution_count": 35,
   "id": "e86bc018",
   "metadata": {},
   "outputs": [
    {
     "data": {
      "text/plain": [
       "10"
      ]
     },
     "execution_count": 35,
     "metadata": {},
     "output_type": "execute_result"
    }
   ],
   "source": [
    "np.abs(-10)"
   ]
  },
  {
   "cell_type": "code",
   "execution_count": 36,
   "id": "7297ddcc",
   "metadata": {},
   "outputs": [
    {
     "data": {
      "text/plain": [
       "9"
      ]
     },
     "execution_count": 36,
     "metadata": {},
     "output_type": "execute_result"
    }
   ],
   "source": [
    "np.add(4,5)"
   ]
  },
  {
   "cell_type": "code",
   "execution_count": 37,
   "id": "7b6ad9f3",
   "metadata": {},
   "outputs": [
    {
     "data": {
      "text/plain": [
       "243"
      ]
     },
     "execution_count": 37,
     "metadata": {},
     "output_type": "execute_result"
    }
   ],
   "source": [
    "np.power(3,5)"
   ]
  },
  {
   "cell_type": "code",
   "execution_count": 38,
   "id": "b48b0b57",
   "metadata": {},
   "outputs": [
    {
     "data": {
      "text/plain": [
       "3.0"
      ]
     },
     "execution_count": 38,
     "metadata": {},
     "output_type": "execute_result"
    }
   ],
   "source": [
    "np.power(9,.5)"
   ]
  },
  {
   "cell_type": "code",
   "execution_count": 39,
   "id": "e47346bd",
   "metadata": {},
   "outputs": [
    {
     "data": {
      "text/plain": [
       "2.0"
      ]
     },
     "execution_count": 39,
     "metadata": {},
     "output_type": "execute_result"
    }
   ],
   "source": [
    "np.log10(100)"
   ]
  },
  {
   "cell_type": "code",
   "execution_count": 40,
   "id": "dbf87cae",
   "metadata": {},
   "outputs": [
    {
     "data": {
      "text/plain": [
       "0.6931471805599453"
      ]
     },
     "execution_count": 40,
     "metadata": {},
     "output_type": "execute_result"
    }
   ],
   "source": [
    "np.log(2)"
   ]
  },
  {
   "cell_type": "code",
   "execution_count": 41,
   "id": "28360327",
   "metadata": {},
   "outputs": [
    {
     "data": {
      "text/plain": [
       "1.0"
      ]
     },
     "execution_count": 41,
     "metadata": {},
     "output_type": "execute_result"
    }
   ],
   "source": [
    "np.log(2.718281828459045)"
   ]
  },
  {
   "cell_type": "code",
   "execution_count": 42,
   "id": "34a78886",
   "metadata": {},
   "outputs": [],
   "source": [
    "#     log of a base a == 1"
   ]
  },
  {
   "cell_type": "code",
   "execution_count": 43,
   "id": "ae7c0826",
   "metadata": {},
   "outputs": [
    {
     "data": {
      "text/plain": [
       "1.0"
      ]
     },
     "execution_count": 43,
     "metadata": {},
     "output_type": "execute_result"
    }
   ],
   "source": [
    "np.log10(10)"
   ]
  },
  {
   "cell_type": "markdown",
   "id": "b306ce7a",
   "metadata": {},
   "source": [
    "# Math"
   ]
  },
  {
   "cell_type": "code",
   "execution_count": 44,
   "id": "ba5176e3",
   "metadata": {},
   "outputs": [],
   "source": [
    "import math "
   ]
  },
  {
   "cell_type": "code",
   "execution_count": 45,
   "id": "69c3b7cd",
   "metadata": {},
   "outputs": [
    {
     "data": {
      "text/plain": [
       "7.38905609893065"
      ]
     },
     "execution_count": 45,
     "metadata": {},
     "output_type": "execute_result"
    }
   ],
   "source": [
    "math.exp(2)"
   ]
  },
  {
   "cell_type": "code",
   "execution_count": 46,
   "id": "5d412599",
   "metadata": {},
   "outputs": [
    {
     "data": {
      "text/plain": [
       "120"
      ]
     },
     "execution_count": 46,
     "metadata": {},
     "output_type": "execute_result"
    }
   ],
   "source": [
    "math.factorial(5)"
   ]
  },
  {
   "cell_type": "code",
   "execution_count": 47,
   "id": "61d84513",
   "metadata": {},
   "outputs": [
    {
     "data": {
      "text/plain": [
       "67"
      ]
     },
     "execution_count": 47,
     "metadata": {},
     "output_type": "execute_result"
    }
   ],
   "source": [
    "math.floor(67.998)"
   ]
  },
  {
   "cell_type": "code",
   "execution_count": 48,
   "id": "e0043c97",
   "metadata": {},
   "outputs": [
    {
     "data": {
      "text/plain": [
       "68"
      ]
     },
     "execution_count": 48,
     "metadata": {},
     "output_type": "execute_result"
    }
   ],
   "source": [
    "math.ceil(67.4598)"
   ]
  },
  {
   "cell_type": "code",
   "execution_count": 49,
   "id": "e09160b4",
   "metadata": {},
   "outputs": [
    {
     "data": {
      "text/plain": [
       "3.141592653589793"
      ]
     },
     "execution_count": 49,
     "metadata": {},
     "output_type": "execute_result"
    }
   ],
   "source": [
    "math.pi"
   ]
  },
  {
   "cell_type": "code",
   "execution_count": 50,
   "id": "db5f181c",
   "metadata": {},
   "outputs": [
    {
     "data": {
      "text/plain": [
       "9"
      ]
     },
     "execution_count": 50,
     "metadata": {},
     "output_type": "execute_result"
    }
   ],
   "source": [
    "math.gcd(27,9)"
   ]
  },
  {
   "cell_type": "code",
   "execution_count": 51,
   "id": "f8984362",
   "metadata": {},
   "outputs": [
    {
     "data": {
      "text/plain": [
       "5"
      ]
     },
     "execution_count": 51,
     "metadata": {},
     "output_type": "execute_result"
    }
   ],
   "source": [
    "math.gcd(30,25)"
   ]
  },
  {
   "cell_type": "code",
   "execution_count": 52,
   "id": "b01ac887",
   "metadata": {},
   "outputs": [
    {
     "data": {
      "text/plain": [
       "8.0"
      ]
     },
     "execution_count": 52,
     "metadata": {},
     "output_type": "execute_result"
    }
   ],
   "source": [
    "math.pow(2,3)"
   ]
  },
  {
   "cell_type": "code",
   "execution_count": 53,
   "id": "f9a05192",
   "metadata": {},
   "outputs": [
    {
     "data": {
      "text/plain": [
       "30"
      ]
     },
     "execution_count": 53,
     "metadata": {},
     "output_type": "execute_result"
    }
   ],
   "source": [
    "np.lcm(10,15)"
   ]
  },
  {
   "cell_type": "code",
   "execution_count": 54,
   "id": "f7e692df",
   "metadata": {},
   "outputs": [
    {
     "data": {
      "text/plain": [
       "array([4.77984193, 5.05706712, 5.43952629, 4.64591436, 5.15509323,\n",
       "       5.01347819, 4.92252138, 5.24390174, 5.18356541, 4.87529755,\n",
       "       5.17861286, 4.93744292, 4.61335446, 5.14503462, 5.41705486,\n",
       "       5.25592794, 5.23473642, 4.96847192, 4.77549206, 4.65498892,\n",
       "       4.87838801, 4.81206633, 4.94310134, 4.59620172, 4.98190349,\n",
       "       5.13710578, 5.00981923, 5.12399979, 5.15833417, 5.01935118,\n",
       "       4.90074178, 5.17402197, 5.07832869, 4.6928953 , 5.02219713,\n",
       "       4.88616947, 5.20416958, 4.98613878, 5.27873837, 4.86293995,\n",
       "       5.1957184 , 4.87182645, 5.27783639, 4.96106112, 4.82167612,\n",
       "       5.26104583, 5.00715095, 4.7162744 , 5.27244808, 5.01931875,\n",
       "       5.27808674, 4.8743405 , 5.06873391, 5.21002903, 4.78649456,\n",
       "       4.87385001, 4.85434548, 4.81994098, 5.10459483, 5.18038446,\n",
       "       4.54707256, 5.04966417, 4.69427766, 4.78656491, 5.01053191,\n",
       "       4.87770367, 5.12616027, 4.96960191, 4.9837964 , 4.75873289,\n",
       "       5.03478403, 5.01656104, 4.95137627, 5.14853895, 5.28143576,\n",
       "       5.14500787, 4.71891948, 5.1527288 , 4.71116993, 5.09843878,\n",
       "       5.01960716, 4.94450531, 4.81204221, 4.72869041, 5.31349719,\n",
       "       4.77271992, 5.20831139, 5.13329163, 4.85421802, 4.93739975,\n",
       "       4.61808159, 5.03298493, 4.74729955, 4.86901375, 5.4558376 ,\n",
       "       5.3267079 , 4.64951833, 4.80558097, 4.84322194, 4.90502436])"
      ]
     },
     "execution_count": 54,
     "metadata": {},
     "output_type": "execute_result"
    }
   ],
   "source": [
    "ran_num = np.random.normal(5,.2,100)\n",
    "ran_num"
   ]
  },
  {
   "cell_type": "code",
   "execution_count": 55,
   "id": "0ee989a3",
   "metadata": {},
   "outputs": [
    {
     "data": {
      "text/plain": [
       "4.987397144165938"
      ]
     },
     "execution_count": 55,
     "metadata": {},
     "output_type": "execute_result"
    }
   ],
   "source": [
    "ran_num.mean()"
   ]
  },
  {
   "cell_type": "code",
   "execution_count": 56,
   "id": "5ae763b6",
   "metadata": {},
   "outputs": [
    {
     "data": {
      "text/plain": [
       "0.20655826587564868"
      ]
     },
     "execution_count": 56,
     "metadata": {},
     "output_type": "execute_result"
    }
   ],
   "source": [
    "ran_num.std()"
   ]
  },
  {
   "cell_type": "code",
   "execution_count": 57,
   "id": "1b358959",
   "metadata": {},
   "outputs": [],
   "source": [
    "## how to handle date and time"
   ]
  },
  {
   "cell_type": "code",
   "execution_count": 58,
   "id": "b78b5b5f",
   "metadata": {},
   "outputs": [],
   "source": [
    "df = pd.DataFrame({\"date\": ('2021-06-03','2022-08-07')})"
   ]
  },
  {
   "cell_type": "code",
   "execution_count": 59,
   "id": "791b2fd7",
   "metadata": {},
   "outputs": [
    {
     "data": {
      "text/html": [
       "<div>\n",
       "<style scoped>\n",
       "    .dataframe tbody tr th:only-of-type {\n",
       "        vertical-align: middle;\n",
       "    }\n",
       "\n",
       "    .dataframe tbody tr th {\n",
       "        vertical-align: top;\n",
       "    }\n",
       "\n",
       "    .dataframe thead th {\n",
       "        text-align: right;\n",
       "    }\n",
       "</style>\n",
       "<table border=\"1\" class=\"dataframe\">\n",
       "  <thead>\n",
       "    <tr style=\"text-align: right;\">\n",
       "      <th></th>\n",
       "      <th>date</th>\n",
       "    </tr>\n",
       "  </thead>\n",
       "  <tbody>\n",
       "    <tr>\n",
       "      <th>0</th>\n",
       "      <td>2021-06-03</td>\n",
       "    </tr>\n",
       "    <tr>\n",
       "      <th>1</th>\n",
       "      <td>2022-08-07</td>\n",
       "    </tr>\n",
       "  </tbody>\n",
       "</table>\n",
       "</div>"
      ],
      "text/plain": [
       "         date\n",
       "0  2021-06-03\n",
       "1  2022-08-07"
      ]
     },
     "execution_count": 59,
     "metadata": {},
     "output_type": "execute_result"
    }
   ],
   "source": [
    "df"
   ]
  },
  {
   "cell_type": "code",
   "execution_count": 60,
   "id": "6e408206",
   "metadata": {},
   "outputs": [],
   "source": [
    "df1 = pd.DataFrame({\"date\": ('2021/06/03','2022/08/07')})"
   ]
  },
  {
   "cell_type": "code",
   "execution_count": 61,
   "id": "12b9c021",
   "metadata": {},
   "outputs": [
    {
     "name": "stdout",
     "output_type": "stream",
     "text": [
      "<class 'pandas.core.frame.DataFrame'>\n",
      "RangeIndex: 2 entries, 0 to 1\n",
      "Data columns (total 1 columns):\n",
      " #   Column  Non-Null Count  Dtype \n",
      "---  ------  --------------  ----- \n",
      " 0   date    2 non-null      object\n",
      "dtypes: object(1)\n",
      "memory usage: 144.0+ bytes\n"
     ]
    }
   ],
   "source": [
    "df.info()"
   ]
  },
  {
   "cell_type": "code",
   "execution_count": 62,
   "id": "5415adb7",
   "metadata": {},
   "outputs": [],
   "source": [
    "df.date = df.date.astype('datetime64[ns]')"
   ]
  },
  {
   "cell_type": "code",
   "execution_count": 63,
   "id": "4ae00571",
   "metadata": {},
   "outputs": [
    {
     "name": "stdout",
     "output_type": "stream",
     "text": [
      "<class 'pandas.core.series.Series'>\n",
      "RangeIndex: 2 entries, 0 to 1\n",
      "Series name: date\n",
      "Non-Null Count  Dtype         \n",
      "--------------  -----         \n",
      "2 non-null      datetime64[ns]\n",
      "dtypes: datetime64[ns](1)\n",
      "memory usage: 144.0 bytes\n"
     ]
    }
   ],
   "source": [
    "df.date.info()"
   ]
  },
  {
   "cell_type": "code",
   "execution_count": 64,
   "id": "acfa0abf",
   "metadata": {},
   "outputs": [],
   "source": [
    "df1.date = pd.to_datetime(df1.date)"
   ]
  },
  {
   "cell_type": "code",
   "execution_count": 65,
   "id": "c250252c",
   "metadata": {},
   "outputs": [
    {
     "name": "stdout",
     "output_type": "stream",
     "text": [
      "<class 'pandas.core.frame.DataFrame'>\n",
      "RangeIndex: 2 entries, 0 to 1\n",
      "Data columns (total 1 columns):\n",
      " #   Column  Non-Null Count  Dtype         \n",
      "---  ------  --------------  -----         \n",
      " 0   date    2 non-null      datetime64[ns]\n",
      "dtypes: datetime64[ns](1)\n",
      "memory usage: 144.0 bytes\n"
     ]
    }
   ],
   "source": [
    "df1.info()"
   ]
  },
  {
   "cell_type": "code",
   "execution_count": 66,
   "id": "cfdd80b6",
   "metadata": {},
   "outputs": [
    {
     "data": {
      "text/plain": [
       "0    2021\n",
       "1    2022\n",
       "Name: date, dtype: int64"
      ]
     },
     "execution_count": 66,
     "metadata": {},
     "output_type": "execute_result"
    }
   ],
   "source": [
    "df1.date.dt.year"
   ]
  },
  {
   "cell_type": "code",
   "execution_count": 67,
   "id": "eb7490d6",
   "metadata": {},
   "outputs": [
    {
     "name": "stderr",
     "output_type": "stream",
     "text": [
      "C:\\Users\\shrey\\AppData\\Local\\Temp\\ipykernel_16264\\170644177.py:4: FutureWarning: Series.dt.weekofyear and Series.dt.week have been deprecated. Please use Series.dt.isocalendar().week instead.\n",
      "  df1['week_day_name'] = df1.date.dt.week\n"
     ]
    }
   ],
   "source": [
    "df1['year'] = df1.date.dt.year\n",
    "df1['month'] = df1.date.dt.month\n",
    "df1['Day_of_week'] = df1.date.dt.day_of_week\n",
    "df1['week_day_name'] = df1.date.dt.week\n",
    "df1['Day_of_year'] = df1.date.dt.dayofyear\n",
    "df1['name_of_day'] = df1.date.dt.day_name()"
   ]
  },
  {
   "cell_type": "code",
   "execution_count": 68,
   "id": "a72595f1",
   "metadata": {},
   "outputs": [
    {
     "data": {
      "text/html": [
       "<div>\n",
       "<style scoped>\n",
       "    .dataframe tbody tr th:only-of-type {\n",
       "        vertical-align: middle;\n",
       "    }\n",
       "\n",
       "    .dataframe tbody tr th {\n",
       "        vertical-align: top;\n",
       "    }\n",
       "\n",
       "    .dataframe thead th {\n",
       "        text-align: right;\n",
       "    }\n",
       "</style>\n",
       "<table border=\"1\" class=\"dataframe\">\n",
       "  <thead>\n",
       "    <tr style=\"text-align: right;\">\n",
       "      <th></th>\n",
       "      <th>date</th>\n",
       "      <th>year</th>\n",
       "      <th>month</th>\n",
       "      <th>Day_of_week</th>\n",
       "      <th>week_day_name</th>\n",
       "      <th>Day_of_year</th>\n",
       "      <th>name_of_day</th>\n",
       "    </tr>\n",
       "  </thead>\n",
       "  <tbody>\n",
       "    <tr>\n",
       "      <th>0</th>\n",
       "      <td>2021-06-03</td>\n",
       "      <td>2021</td>\n",
       "      <td>6</td>\n",
       "      <td>3</td>\n",
       "      <td>22</td>\n",
       "      <td>154</td>\n",
       "      <td>Thursday</td>\n",
       "    </tr>\n",
       "    <tr>\n",
       "      <th>1</th>\n",
       "      <td>2022-08-07</td>\n",
       "      <td>2022</td>\n",
       "      <td>8</td>\n",
       "      <td>6</td>\n",
       "      <td>31</td>\n",
       "      <td>219</td>\n",
       "      <td>Sunday</td>\n",
       "    </tr>\n",
       "  </tbody>\n",
       "</table>\n",
       "</div>"
      ],
      "text/plain": [
       "        date  year  month  Day_of_week  week_day_name  Day_of_year name_of_day\n",
       "0 2021-06-03  2021      6            3             22          154    Thursday\n",
       "1 2022-08-07  2022      8            6             31          219      Sunday"
      ]
     },
     "execution_count": 68,
     "metadata": {},
     "output_type": "execute_result"
    }
   ],
   "source": [
    "df1"
   ]
  },
  {
   "cell_type": "code",
   "execution_count": 69,
   "id": "3a78c11b",
   "metadata": {},
   "outputs": [],
   "source": [
    "df_mixed = pd.DataFrame({'date': (\"Apr 20, 2019\",\"10-05-2020\", '2021-12-20','20140404')})"
   ]
  },
  {
   "cell_type": "code",
   "execution_count": 70,
   "id": "1a5e7352",
   "metadata": {},
   "outputs": [],
   "source": [
    "df_mixed.date = pd.to_datetime(df_mixed.date)"
   ]
  },
  {
   "cell_type": "code",
   "execution_count": 71,
   "id": "697349e5",
   "metadata": {},
   "outputs": [
    {
     "data": {
      "text/html": [
       "<div>\n",
       "<style scoped>\n",
       "    .dataframe tbody tr th:only-of-type {\n",
       "        vertical-align: middle;\n",
       "    }\n",
       "\n",
       "    .dataframe tbody tr th {\n",
       "        vertical-align: top;\n",
       "    }\n",
       "\n",
       "    .dataframe thead th {\n",
       "        text-align: right;\n",
       "    }\n",
       "</style>\n",
       "<table border=\"1\" class=\"dataframe\">\n",
       "  <thead>\n",
       "    <tr style=\"text-align: right;\">\n",
       "      <th></th>\n",
       "      <th>date</th>\n",
       "    </tr>\n",
       "  </thead>\n",
       "  <tbody>\n",
       "    <tr>\n",
       "      <th>0</th>\n",
       "      <td>2019-04-20</td>\n",
       "    </tr>\n",
       "    <tr>\n",
       "      <th>1</th>\n",
       "      <td>2020-10-05</td>\n",
       "    </tr>\n",
       "    <tr>\n",
       "      <th>2</th>\n",
       "      <td>2021-12-20</td>\n",
       "    </tr>\n",
       "    <tr>\n",
       "      <th>3</th>\n",
       "      <td>2014-04-04</td>\n",
       "    </tr>\n",
       "  </tbody>\n",
       "</table>\n",
       "</div>"
      ],
      "text/plain": [
       "        date\n",
       "0 2019-04-20\n",
       "1 2020-10-05\n",
       "2 2021-12-20\n",
       "3 2014-04-04"
      ]
     },
     "execution_count": 71,
     "metadata": {},
     "output_type": "execute_result"
    }
   ],
   "source": [
    "df_mixed"
   ]
  },
  {
   "cell_type": "code",
   "execution_count": 72,
   "id": "c18c7138",
   "metadata": {},
   "outputs": [],
   "source": [
    "df_invalid = pd.DataFrame({'date': (\"Apr 20, 2019\",\"6793\", '2021-12-20','201404048')})"
   ]
  },
  {
   "cell_type": "code",
   "execution_count": 73,
   "id": "868b88d3",
   "metadata": {},
   "outputs": [],
   "source": [
    "df_invalid.date = pd.to_datetime(df_invalid.date,errors = 'coerce')"
   ]
  },
  {
   "cell_type": "code",
   "execution_count": 74,
   "id": "6a3d329b",
   "metadata": {},
   "outputs": [
    {
     "data": {
      "text/plain": [
       "0   2019-04-20\n",
       "1          NaT\n",
       "2   2021-12-20\n",
       "3          NaT\n",
       "Name: date, dtype: datetime64[ns]"
      ]
     },
     "execution_count": 74,
     "metadata": {},
     "output_type": "execute_result"
    }
   ],
   "source": [
    "df_invalid.date"
   ]
  },
  {
   "cell_type": "code",
   "execution_count": 75,
   "id": "d562ec94",
   "metadata": {},
   "outputs": [],
   "source": [
    "dates =  [\"02-03-2018\"  , \"06-07-2020\",  \"08-09-2005\", \"11-03-2017\", \"12-20-2021\"]\n"
   ]
  },
  {
   "cell_type": "code",
   "execution_count": 76,
   "id": "6fdae3a6",
   "metadata": {},
   "outputs": [],
   "source": [
    "# code which will extract year part of all Dates and store in a seperate list"
   ]
  },
  {
   "cell_type": "code",
   "execution_count": 77,
   "id": "73fc516e",
   "metadata": {},
   "outputs": [],
   "source": [
    "df = pd.DataFrame({\"dates\": (\"02-03-2018\"  , \"06-07-2020\",  \"08-09-2005\", \"11-03-2017\", \"12-20-2021\")})"
   ]
  },
  {
   "cell_type": "code",
   "execution_count": 78,
   "id": "3915fd4f",
   "metadata": {},
   "outputs": [],
   "source": [
    "df.dates = pd.to_datetime(df.dates)"
   ]
  },
  {
   "cell_type": "code",
   "execution_count": 79,
   "id": "7088d186",
   "metadata": {},
   "outputs": [
    {
     "data": {
      "text/plain": [
       "['2018', '2020', '2005', '2017', '2021']"
      ]
     },
     "execution_count": 79,
     "metadata": {},
     "output_type": "execute_result"
    }
   ],
   "source": [
    "year_list =[]\n",
    "for i in dates:\n",
    "    year_list.append(i.split('-')[2])\n",
    "year_list"
   ]
  },
  {
   "cell_type": "code",
   "execution_count": 80,
   "id": "ae3eb1e5",
   "metadata": {},
   "outputs": [],
   "source": [
    "dict1 = {\"Engg\":10 ,\"medical\": 12,\"mba\":3,\"manfu\":44}"
   ]
  },
  {
   "cell_type": "code",
   "execution_count": 81,
   "id": "4ca5be27",
   "metadata": {},
   "outputs": [
    {
     "data": {
      "text/plain": [
       "dict_keys(['Engg', 'medical', 'mba', 'manfu'])"
      ]
     },
     "execution_count": 81,
     "metadata": {},
     "output_type": "execute_result"
    }
   ],
   "source": [
    "dict1.keys()"
   ]
  },
  {
   "cell_type": "code",
   "execution_count": 82,
   "id": "925ba5bf",
   "metadata": {},
   "outputs": [
    {
     "data": {
      "text/plain": [
       "dict_values([10, 12, 3, 44])"
      ]
     },
     "execution_count": 82,
     "metadata": {},
     "output_type": "execute_result"
    }
   ],
   "source": [
    "dict1.values()"
   ]
  },
  {
   "cell_type": "code",
   "execution_count": 83,
   "id": "ddb0aec4",
   "metadata": {},
   "outputs": [
    {
     "name": "stdout",
     "output_type": "stream",
     "text": [
      "10 Engg\n",
      "12 medical\n",
      "3 mba\n",
      "44 manfu\n"
     ]
    }
   ],
   "source": [
    "dict2 = dict([(value, keys) for keys, value in dict1.items()])\n",
    "for i in dict2:\n",
    "    print(i, dict2[i])"
   ]
  },
  {
   "cell_type": "code",
   "execution_count": 84,
   "id": "a111a2a4",
   "metadata": {},
   "outputs": [],
   "source": [
    "## write a program (user defined pg ) which takes a number as input and check if that number is present betn 500  t0 1000"
   ]
  },
  {
   "cell_type": "code",
   "execution_count": 85,
   "id": "3de37e1c",
   "metadata": {},
   "outputs": [],
   "source": [
    "def find1(num):\n",
    "    if num in range(500,1001):\n",
    "        print(\"number in range\")\n",
    "    else:\n",
    "        print(\"number not in  range\")\n"
   ]
  },
  {
   "cell_type": "code",
   "execution_count": 86,
   "id": "c6b1ccec",
   "metadata": {},
   "outputs": [
    {
     "name": "stdout",
     "output_type": "stream",
     "text": [
      "enter a no3\n",
      "number not in  range\n"
     ]
    }
   ],
   "source": [
    "num = int(input(\"enter a no\"))\n",
    "find1(num)"
   ]
  },
  {
   "cell_type": "code",
   "execution_count": 87,
   "id": "7cf94ef2",
   "metadata": {},
   "outputs": [],
   "source": [
    "## write a program (user defined pg ) which takes a number as input and find the sum of all the numbers\n",
    "\n",
    "# write a program (user define program) which take a number as i/p\n",
    "# and find the sum of all number(natural number)\n"
   ]
  },
  {
   "cell_type": "code",
   "execution_count": 88,
   "id": "ebde1d8c",
   "metadata": {},
   "outputs": [],
   "source": [
    "def sum(num):\n",
    "        l1 = list(range(1,num+1))\n",
    "        print(np.sum(l1))\n",
    "    "
   ]
  },
  {
   "cell_type": "code",
   "execution_count": 89,
   "id": "1ba66433",
   "metadata": {},
   "outputs": [
    {
     "name": "stdout",
     "output_type": "stream",
     "text": [
      "15\n"
     ]
    }
   ],
   "source": [
    "sum(5)"
   ]
  },
  {
   "cell_type": "markdown",
   "id": "4b871581",
   "metadata": {},
   "source": [
    "# itertools"
   ]
  },
  {
   "cell_type": "code",
   "execution_count": 90,
   "id": "6892d12c",
   "metadata": {},
   "outputs": [],
   "source": [
    "import itertools"
   ]
  },
  {
   "cell_type": "code",
   "execution_count": 91,
   "id": "53c504b0",
   "metadata": {},
   "outputs": [],
   "source": [
    "# i have a two seperate nos (1,2)\n",
    "# (1,1) (2,2), (1,2), (2,1)"
   ]
  },
  {
   "cell_type": "code",
   "execution_count": 92,
   "id": "9b64231e",
   "metadata": {},
   "outputs": [
    {
     "name": "stdout",
     "output_type": "stream",
     "text": [
      "[('h', 'h'), ('h', 't'), ('t', 'h'), ('t', 't')]\n"
     ]
    }
   ],
   "source": [
    "print(list(itertools.product([\"h\",\"t\"],repeat =2)))"
   ]
  },
  {
   "cell_type": "code",
   "execution_count": 93,
   "id": "5a6f57fb",
   "metadata": {},
   "outputs": [
    {
     "name": "stdout",
     "output_type": "stream",
     "text": [
      "[('h', 'h', 'h'), ('h', 'h', 't'), ('h', 't', 'h'), ('h', 't', 't'), ('t', 'h', 'h'), ('t', 'h', 't'), ('t', 't', 'h'), ('t', 't', 't')]\n"
     ]
    }
   ],
   "source": [
    "print(list(itertools.product([\"h\",\"t\"],repeat =3)))"
   ]
  },
  {
   "cell_type": "code",
   "execution_count": 94,
   "id": "d9850bec",
   "metadata": {},
   "outputs": [],
   "source": [
    "# how many diff combination are possible when u thrw 2 dice"
   ]
  },
  {
   "cell_type": "code",
   "execution_count": 95,
   "id": "0bdaed4c",
   "metadata": {},
   "outputs": [
    {
     "data": {
      "text/plain": [
       "[(1, 1),\n",
       " (1, 2),\n",
       " (1, 3),\n",
       " (1, 4),\n",
       " (1, 5),\n",
       " (1, 6),\n",
       " (2, 1),\n",
       " (2, 2),\n",
       " (2, 3),\n",
       " (2, 4),\n",
       " (2, 5),\n",
       " (2, 6),\n",
       " (3, 1),\n",
       " (3, 2),\n",
       " (3, 3),\n",
       " (3, 4),\n",
       " (3, 5),\n",
       " (3, 6),\n",
       " (4, 1),\n",
       " (4, 2),\n",
       " (4, 3),\n",
       " (4, 4),\n",
       " (4, 5),\n",
       " (4, 6),\n",
       " (5, 1),\n",
       " (5, 2),\n",
       " (5, 3),\n",
       " (5, 4),\n",
       " (5, 5),\n",
       " (5, 6),\n",
       " (6, 1),\n",
       " (6, 2),\n",
       " (6, 3),\n",
       " (6, 4),\n",
       " (6, 5),\n",
       " (6, 6)]"
      ]
     },
     "execution_count": 95,
     "metadata": {},
     "output_type": "execute_result"
    }
   ],
   "source": [
    "(list(itertools.product([1,2,3,4,5,6],repeat =2)))"
   ]
  },
  {
   "cell_type": "code",
   "execution_count": 96,
   "id": "7ec3aa7a",
   "metadata": {},
   "outputs": [],
   "source": [
    "# what is probability of sum to be atleast 11 "
   ]
  },
  {
   "cell_type": "code",
   "execution_count": 97,
   "id": "7fd07ac3",
   "metadata": {},
   "outputs": [],
   "source": [
    "l1 =list(itertools.product([1,2,3,4,5,6],repeat =2))\n",
    "favou = 0\n",
    "len(l1)\n",
    "for i in l1:\n",
    "    if(np.sum(i)) >=11:\n",
    "        favou = favou +1 \n",
    "    \n",
    "    "
   ]
  },
  {
   "cell_type": "code",
   "execution_count": 98,
   "id": "4291d733",
   "metadata": {},
   "outputs": [
    {
     "name": "stdout",
     "output_type": "stream",
     "text": [
      "total favourable outcomes are  3\n",
      "prob is   0.08333333333333333\n"
     ]
    }
   ],
   "source": [
    "print(\"total favourable outcomes are \" ,favou)\n",
    "print(\"prob is  \" ,favou /len(l1))"
   ]
  },
  {
   "cell_type": "code",
   "execution_count": 99,
   "id": "69034b5d",
   "metadata": {},
   "outputs": [
    {
     "data": {
      "text/plain": [
       "128"
      ]
     },
     "execution_count": 99,
     "metadata": {},
     "output_type": "execute_result"
    }
   ],
   "source": [
    "l2 =list(itertools.product([\"H\",\"T\"],repeat =7))\n",
    "len(l2)\n",
    "\n"
   ]
  },
  {
   "cell_type": "code",
   "execution_count": 100,
   "id": "8739dc39",
   "metadata": {},
   "outputs": [],
   "source": [
    "favou1 = 0\n",
    "len(l2)\n",
    "for i in l2:\n",
    "    if i.count(\"H\") ==4:\n",
    "        favou1 = favou1 +1\n",
    "        \n",
    "        "
   ]
  },
  {
   "cell_type": "code",
   "execution_count": 101,
   "id": "8565ff14",
   "metadata": {},
   "outputs": [
    {
     "data": {
      "text/plain": [
       "35"
      ]
     },
     "execution_count": 101,
     "metadata": {},
     "output_type": "execute_result"
    }
   ],
   "source": [
    "favou1"
   ]
  },
  {
   "cell_type": "code",
   "execution_count": 102,
   "id": "df725165",
   "metadata": {},
   "outputs": [
    {
     "name": "stdout",
     "output_type": "stream",
     "text": [
      "0.2734375\n"
     ]
    }
   ],
   "source": [
    "print(favou1/ len(l2))"
   ]
  },
  {
   "cell_type": "code",
   "execution_count": null,
   "id": "50cae848",
   "metadata": {},
   "outputs": [],
   "source": []
  }
 ],
 "metadata": {
  "kernelspec": {
   "display_name": "Python 3 (ipykernel)",
   "language": "python",
   "name": "python3"
  },
  "language_info": {
   "codemirror_mode": {
    "name": "ipython",
    "version": 3
   },
   "file_extension": ".py",
   "mimetype": "text/x-python",
   "name": "python",
   "nbconvert_exporter": "python",
   "pygments_lexer": "ipython3",
   "version": "3.8.13"
  }
 },
 "nbformat": 4,
 "nbformat_minor": 5
}
